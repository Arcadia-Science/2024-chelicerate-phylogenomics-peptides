{
 "cells": [
  {
   "cell_type": "markdown",
   "id": "4d37529a-1ad1-42a4-93c3-0fe199104adb",
   "metadata": {},
   "source": [
    "# Summarize results more for pub\n",
    "\n",
    "Some numbers are missing from other analyses. This notebook calculates those numbers."
   ]
  },
  {
   "cell_type": "code",
   "execution_count": 1,
   "id": "b7c4bfab-7740-4143-a20b-11f777fd9a31",
   "metadata": {},
   "outputs": [
    {
     "name": "stderr",
     "output_type": "stream",
     "text": [
      "── \u001b[1mAttaching core tidyverse packages\u001b[22m ────────────────────────────────────────────────────────────────────────────────────────── tidyverse 2.0.0 ──\n",
      "\u001b[32m✔\u001b[39m \u001b[34mdplyr    \u001b[39m 1.1.4     \u001b[32m✔\u001b[39m \u001b[34mreadr    \u001b[39m 2.1.5\n",
      "\u001b[32m✔\u001b[39m \u001b[34mforcats  \u001b[39m 1.0.0     \u001b[32m✔\u001b[39m \u001b[34mstringr  \u001b[39m 1.5.1\n",
      "\u001b[32m✔\u001b[39m \u001b[34mggplot2  \u001b[39m 3.5.1     \u001b[32m✔\u001b[39m \u001b[34mtibble   \u001b[39m 3.2.1\n",
      "\u001b[32m✔\u001b[39m \u001b[34mlubridate\u001b[39m 1.9.4     \u001b[32m✔\u001b[39m \u001b[34mtidyr    \u001b[39m 1.3.1\n",
      "\u001b[32m✔\u001b[39m \u001b[34mpurrr    \u001b[39m 1.0.2     \n",
      "── \u001b[1mConflicts\u001b[22m ──────────────────────────────────────────────────────────────────────────────────────────────────────────── tidyverse_conflicts() ──\n",
      "\u001b[31m✖\u001b[39m \u001b[34mdplyr\u001b[39m::\u001b[32mfilter()\u001b[39m masks \u001b[34mstats\u001b[39m::filter()\n",
      "\u001b[31m✖\u001b[39m \u001b[34mdplyr\u001b[39m::\u001b[32mlag()\u001b[39m    masks \u001b[34mstats\u001b[39m::lag()\n",
      "\u001b[36mℹ\u001b[39m Use the conflicted package (\u001b[3m\u001b[34m<http://conflicted.r-lib.org/>\u001b[39m\u001b[23m) to force all conflicts to become errors\n"
     ]
    }
   ],
   "source": [
    "library(tidyverse)"
   ]
  },
  {
   "cell_type": "code",
   "execution_count": 2,
   "id": "6f1756f3-f60d-479f-a937-f670eeaf956b",
   "metadata": {},
   "outputs": [],
   "source": [
    "setwd(\"..\")"
   ]
  },
  {
   "cell_type": "code",
   "execution_count": 5,
   "id": "dd7d7eb8-8c49-41f5-b971-0e9649da61d2",
   "metadata": {},
   "outputs": [],
   "source": [
    "inputs <- read_tsv(\"inputs/2024-11-25-top-positive-significant-clusters-orthogroups-annotations.tsv.gz\", show_col_types = FALSE)"
   ]
  },
  {
   "cell_type": "code",
   "execution_count": 12,
   "id": "1ae60f3e-ddeb-4265-9509-e2e2538682b5",
   "metadata": {},
   "outputs": [],
   "source": [
    "initial_predictions <- read_tsv(\"outputs/ToT_20241125/predictions/peptide_predictions.tsv\", show_col_types = F) %>%\n",
    "  rename_with(.cols = everything(), function(x){paste0(\"peptigate_\", x)}) %>%\n",
    "  mutate(peptigate_peptide_class = ifelse(is.na(peptigate_peptide_class), \"sORF\", peptigate_peptide_class)) %>%\n",
    "  mutate(locus_tag = gsub(\"_start.*\", \"\", peptigate_peptide_id)) %>% \n",
    "  left_join(inputs, by = \"locus_tag\")"
   ]
  },
  {
   "cell_type": "code",
   "execution_count": 16,
   "id": "556c2e61-f766-44d3-8727-496601cba489",
   "metadata": {},
   "outputs": [],
   "source": [
    "predictions <- read_tsv(\"outputs/notebooks/20241125_predictions_with_metadata.tsv\", show_col_types = FALSE)"
   ]
  },
  {
   "cell_type": "markdown",
   "id": "26a0a736-fd32-426e-98d8-c648231d266f",
   "metadata": {},
   "source": [
    "## How many input proteins were there? From how many orthogroups?"
   ]
  },
  {
   "cell_type": "code",
   "execution_count": 6,
   "id": "7c736e6b-e890-4e45-8a3b-9c10e89c1181",
   "metadata": {},
   "outputs": [
    {
     "data": {
      "text/html": [
       "3690"
      ],
      "text/latex": [
       "3690"
      ],
      "text/markdown": [
       "3690"
      ],
      "text/plain": [
       "[1] 3690"
      ]
     },
     "metadata": {},
     "output_type": "display_data"
    }
   ],
   "source": [
    "nrow(inputs)"
   ]
  },
  {
   "cell_type": "code",
   "execution_count": 7,
   "id": "4f161583-96b4-4c2c-a3c5-43f467554038",
   "metadata": {},
   "outputs": [
    {
     "data": {
      "text/html": [
       "87"
      ],
      "text/latex": [
       "87"
      ],
      "text/markdown": [
       "87"
      ],
      "text/plain": [
       "[1] 87"
      ]
     },
     "metadata": {},
     "output_type": "display_data"
    }
   ],
   "source": [
    "length(unique(inputs$orthogroup))"
   ]
  },
  {
   "cell_type": "markdown",
   "id": "dabb57fd-84fa-4556-836c-f46740f21210",
   "metadata": {},
   "source": [
    "## Before filtering propeptides, how many peptides did we predict?"
   ]
  },
  {
   "cell_type": "code",
   "execution_count": 9,
   "id": "e797a7ea-2ce8-4d35-99e6-7aa1a02e845b",
   "metadata": {},
   "outputs": [
    {
     "data": {
      "text/html": [
       "741"
      ],
      "text/latex": [
       "741"
      ],
      "text/markdown": [
       "741"
      ],
      "text/plain": [
       "[1] 741"
      ]
     },
     "metadata": {},
     "output_type": "display_data"
    }
   ],
   "source": [
    "nrow(initial_predictions)"
   ]
  },
  {
   "cell_type": "code",
   "execution_count": 10,
   "id": "5b38e974-740a-4176-8565-10cafded44d7",
   "metadata": {},
   "outputs": [
    {
     "data": {
      "text/html": [
       "712"
      ],
      "text/latex": [
       "712"
      ],
      "text/markdown": [
       "712"
      ],
      "text/plain": [
       "[1] 712"
      ]
     },
     "metadata": {},
     "output_type": "display_data"
    }
   ],
   "source": [
    "length(unique(initial_predictions$peptigate_protein_sequence))"
   ]
  },
  {
   "cell_type": "code",
   "execution_count": 14,
   "id": "c29e3252-ab5c-443a-a5ea-98f886558e54",
   "metadata": {},
   "outputs": [
    {
     "data": {
      "text/html": [
       "46"
      ],
      "text/latex": [
       "46"
      ],
      "text/markdown": [
       "46"
      ],
      "text/plain": [
       "[1] 46"
      ]
     },
     "metadata": {},
     "output_type": "display_data"
    }
   ],
   "source": [
    "length(unique(initial_predictions$orthogroup))"
   ]
  },
  {
   "cell_type": "markdown",
   "id": "6134ea11-dbe3-4621-8b69-ee9db12a477b",
   "metadata": {},
   "source": [
    "## How many peptides of each type are there from the trait mapping data after filting propeptides?"
   ]
  },
  {
   "cell_type": "code",
   "execution_count": 17,
   "id": "0583d79c-c3d0-49b5-be06-9bf87ef3eb84",
   "metadata": {},
   "outputs": [
    {
     "data": {
      "text/html": [
       "<table class=\"dataframe\">\n",
       "<caption>A tibble: 3 × 2</caption>\n",
       "<thead>\n",
       "\t<tr><th scope=col>prediction_tool</th><th scope=col>n</th></tr>\n",
       "\t<tr><th scope=col>&lt;chr&gt;</th><th scope=col>&lt;int&gt;</th></tr>\n",
       "</thead>\n",
       "<tbody>\n",
       "\t<tr><td>deeppeptide    </td><td>103</td></tr>\n",
       "\t<tr><td>less_than_100aa</td><td>201</td></tr>\n",
       "\t<tr><td>nlpprecursor   </td><td>  7</td></tr>\n",
       "</tbody>\n",
       "</table>\n"
      ],
      "text/latex": [
       "A tibble: 3 × 2\n",
       "\\begin{tabular}{ll}\n",
       " prediction\\_tool & n\\\\\n",
       " <chr> & <int>\\\\\n",
       "\\hline\n",
       "\t deeppeptide     & 103\\\\\n",
       "\t less\\_than\\_100aa & 201\\\\\n",
       "\t nlpprecursor    &   7\\\\\n",
       "\\end{tabular}\n"
      ],
      "text/markdown": [
       "\n",
       "A tibble: 3 × 2\n",
       "\n",
       "| prediction_tool &lt;chr&gt; | n &lt;int&gt; |\n",
       "|---|---|\n",
       "| deeppeptide     | 103 |\n",
       "| less_than_100aa | 201 |\n",
       "| nlpprecursor    |   7 |\n",
       "\n"
      ],
      "text/plain": [
       "  prediction_tool n  \n",
       "1 deeppeptide     103\n",
       "2 less_than_100aa 201\n",
       "3 nlpprecursor      7"
      ]
     },
     "metadata": {},
     "output_type": "display_data"
    },
    {
     "data": {
      "text/html": [
       "311"
      ],
      "text/latex": [
       "311"
      ],
      "text/markdown": [
       "311"
      ],
      "text/plain": [
       "[1] 311"
      ]
     },
     "metadata": {},
     "output_type": "display_data"
    }
   ],
   "source": [
    "predictions %>% \n",
    " group_by(prediction_tool) %>%\n",
    " tally()\n",
    "\n",
    "nrow(predictions)"
   ]
  },
  {
   "cell_type": "code",
   "execution_count": 18,
   "id": "3d98ce5c-5eb8-4ad1-9378-920a7598179b",
   "metadata": {},
   "outputs": [
    {
     "data": {
      "text/html": [
       "311"
      ],
      "text/latex": [
       "311"
      ],
      "text/markdown": [
       "311"
      ],
      "text/plain": [
       "[1] 311"
      ]
     },
     "metadata": {},
     "output_type": "display_data"
    }
   ],
   "source": [
    "length(unique(predictions$protein_sequence))"
   ]
  },
  {
   "cell_type": "markdown",
   "id": "0666bbd6-bf74-4f0e-a58c-49a9862ec43b",
   "metadata": {},
   "source": [
    "## How many peptides are there for each orthogroup initially?"
   ]
  },
  {
   "cell_type": "code",
   "execution_count": 19,
   "id": "622e6843-0f78-42c9-8e31-68405cb80e5f",
   "metadata": {},
   "outputs": [
    {
     "data": {
      "text/html": [
       "<table class=\"dataframe\">\n",
       "<caption>A tibble: 16 × 2</caption>\n",
       "<thead>\n",
       "\t<tr><th scope=col>traitmapping_orthogroup</th><th scope=col>n</th></tr>\n",
       "\t<tr><th scope=col>&lt;chr&gt;</th><th scope=col>&lt;int&gt;</th></tr>\n",
       "</thead>\n",
       "<tbody>\n",
       "\t<tr><td>OG0000079</td><td>55</td></tr>\n",
       "\t<tr><td>OG0000143</td><td>10</td></tr>\n",
       "\t<tr><td>OG0000189</td><td>21</td></tr>\n",
       "\t<tr><td>OG0000194</td><td>23</td></tr>\n",
       "\t<tr><td>OG0000305</td><td>26</td></tr>\n",
       "\t<tr><td>OG0000385</td><td> 9</td></tr>\n",
       "\t<tr><td>OG0000746</td><td> 5</td></tr>\n",
       "\t<tr><td>OG0000880</td><td>82</td></tr>\n",
       "\t<tr><td>OG0001663</td><td> 6</td></tr>\n",
       "\t<tr><td>OG0001774</td><td>45</td></tr>\n",
       "\t<tr><td>OG0002194</td><td> 2</td></tr>\n",
       "\t<tr><td>OG0008102</td><td>18</td></tr>\n",
       "\t<tr><td>OG0008888</td><td> 1</td></tr>\n",
       "\t<tr><td>OG0009053</td><td> 4</td></tr>\n",
       "\t<tr><td>OG0011284</td><td> 1</td></tr>\n",
       "\t<tr><td>OG0015609</td><td> 3</td></tr>\n",
       "</tbody>\n",
       "</table>\n"
      ],
      "text/latex": [
       "A tibble: 16 × 2\n",
       "\\begin{tabular}{ll}\n",
       " traitmapping\\_orthogroup & n\\\\\n",
       " <chr> & <int>\\\\\n",
       "\\hline\n",
       "\t OG0000079 & 55\\\\\n",
       "\t OG0000143 & 10\\\\\n",
       "\t OG0000189 & 21\\\\\n",
       "\t OG0000194 & 23\\\\\n",
       "\t OG0000305 & 26\\\\\n",
       "\t OG0000385 &  9\\\\\n",
       "\t OG0000746 &  5\\\\\n",
       "\t OG0000880 & 82\\\\\n",
       "\t OG0001663 &  6\\\\\n",
       "\t OG0001774 & 45\\\\\n",
       "\t OG0002194 &  2\\\\\n",
       "\t OG0008102 & 18\\\\\n",
       "\t OG0008888 &  1\\\\\n",
       "\t OG0009053 &  4\\\\\n",
       "\t OG0011284 &  1\\\\\n",
       "\t OG0015609 &  3\\\\\n",
       "\\end{tabular}\n"
      ],
      "text/markdown": [
       "\n",
       "A tibble: 16 × 2\n",
       "\n",
       "| traitmapping_orthogroup &lt;chr&gt; | n &lt;int&gt; |\n",
       "|---|---|\n",
       "| OG0000079 | 55 |\n",
       "| OG0000143 | 10 |\n",
       "| OG0000189 | 21 |\n",
       "| OG0000194 | 23 |\n",
       "| OG0000305 | 26 |\n",
       "| OG0000385 |  9 |\n",
       "| OG0000746 |  5 |\n",
       "| OG0000880 | 82 |\n",
       "| OG0001663 |  6 |\n",
       "| OG0001774 | 45 |\n",
       "| OG0002194 |  2 |\n",
       "| OG0008102 | 18 |\n",
       "| OG0008888 |  1 |\n",
       "| OG0009053 |  4 |\n",
       "| OG0011284 |  1 |\n",
       "| OG0015609 |  3 |\n",
       "\n"
      ],
      "text/plain": [
       "   traitmapping_orthogroup n \n",
       "1  OG0000079               55\n",
       "2  OG0000143               10\n",
       "3  OG0000189               21\n",
       "4  OG0000194               23\n",
       "5  OG0000305               26\n",
       "6  OG0000385                9\n",
       "7  OG0000746                5\n",
       "8  OG0000880               82\n",
       "9  OG0001663                6\n",
       "10 OG0001774               45\n",
       "11 OG0002194                2\n",
       "12 OG0008102               18\n",
       "13 OG0008888                1\n",
       "14 OG0009053                4\n",
       "15 OG0011284                1\n",
       "16 OG0015609                3"
      ]
     },
     "metadata": {},
     "output_type": "display_data"
    }
   ],
   "source": [
    "predictions %>%\n",
    "  group_by(traitmapping_orthogroup) %>%\n",
    "  tally() %>%\n",
    "  ungroup()"
   ]
  },
  {
   "cell_type": "code",
   "execution_count": 7,
   "id": "7e3027ff-edef-435e-992e-5f1139ae0d9b",
   "metadata": {},
   "outputs": [
    {
     "data": {
      "text/html": [
       "<table class=\"dataframe\">\n",
       "<caption>A tibble: 13 × 2</caption>\n",
       "<thead>\n",
       "\t<tr><th scope=col>traitmapping_orthogroup</th><th scope=col>num_predicted_signal_peptides_on_peptides</th></tr>\n",
       "\t<tr><th scope=col>&lt;chr&gt;</th><th scope=col>&lt;int&gt;</th></tr>\n",
       "</thead>\n",
       "<tbody>\n",
       "\t<tr><td>OG0000079</td><td> 1</td></tr>\n",
       "\t<tr><td>OG0000143</td><td> 2</td></tr>\n",
       "\t<tr><td>OG0000189</td><td> 0</td></tr>\n",
       "\t<tr><td>OG0000194</td><td> 0</td></tr>\n",
       "\t<tr><td>OG0000385</td><td> 0</td></tr>\n",
       "\t<tr><td>OG0000746</td><td> 0</td></tr>\n",
       "\t<tr><td>OG0000880</td><td>39</td></tr>\n",
       "\t<tr><td>OG0001663</td><td> 0</td></tr>\n",
       "\t<tr><td>OG0001774</td><td>36</td></tr>\n",
       "\t<tr><td>OG0002194</td><td> 0</td></tr>\n",
       "\t<tr><td>OG0008102</td><td>13</td></tr>\n",
       "\t<tr><td>OG0008888</td><td> 0</td></tr>\n",
       "\t<tr><td>OG0011284</td><td> 0</td></tr>\n",
       "</tbody>\n",
       "</table>\n"
      ],
      "text/latex": [
       "A tibble: 13 × 2\n",
       "\\begin{tabular}{ll}\n",
       " traitmapping\\_orthogroup & num\\_predicted\\_signal\\_peptides\\_on\\_peptides\\\\\n",
       " <chr> & <int>\\\\\n",
       "\\hline\n",
       "\t OG0000079 &  1\\\\\n",
       "\t OG0000143 &  2\\\\\n",
       "\t OG0000189 &  0\\\\\n",
       "\t OG0000194 &  0\\\\\n",
       "\t OG0000385 &  0\\\\\n",
       "\t OG0000746 &  0\\\\\n",
       "\t OG0000880 & 39\\\\\n",
       "\t OG0001663 &  0\\\\\n",
       "\t OG0001774 & 36\\\\\n",
       "\t OG0002194 &  0\\\\\n",
       "\t OG0008102 & 13\\\\\n",
       "\t OG0008888 &  0\\\\\n",
       "\t OG0011284 &  0\\\\\n",
       "\\end{tabular}\n"
      ],
      "text/markdown": [
       "\n",
       "A tibble: 13 × 2\n",
       "\n",
       "| traitmapping_orthogroup &lt;chr&gt; | num_predicted_signal_peptides_on_peptides &lt;int&gt; |\n",
       "|---|---|\n",
       "| OG0000079 |  1 |\n",
       "| OG0000143 |  2 |\n",
       "| OG0000189 |  0 |\n",
       "| OG0000194 |  0 |\n",
       "| OG0000385 |  0 |\n",
       "| OG0000746 |  0 |\n",
       "| OG0000880 | 39 |\n",
       "| OG0001663 |  0 |\n",
       "| OG0001774 | 36 |\n",
       "| OG0002194 |  0 |\n",
       "| OG0008102 | 13 |\n",
       "| OG0008888 |  0 |\n",
       "| OG0011284 |  0 |\n",
       "\n"
      ],
      "text/plain": [
       "   traitmapping_orthogroup num_predicted_signal_peptides_on_peptides\n",
       "1  OG0000079                1                                       \n",
       "2  OG0000143                2                                       \n",
       "3  OG0000189                0                                       \n",
       "4  OG0000194                0                                       \n",
       "5  OG0000385                0                                       \n",
       "6  OG0000746                0                                       \n",
       "7  OG0000880               39                                       \n",
       "8  OG0001663                0                                       \n",
       "9  OG0001774               36                                       \n",
       "10 OG0002194                0                                       \n",
       "11 OG0008102               13                                       \n",
       "12 OG0008888                0                                       \n",
       "13 OG0011284                0                                       "
      ]
     },
     "metadata": {},
     "output_type": "display_data"
    }
   ],
   "source": [
    "predictions %>%\n",
    "  group_by(traitmapping_orthogroup) %>%\n",
    "  summarize(num_predicted_signal_peptides_on_peptides = sum(traitmapping_deepsig_feature == \"Signal peptide\"))\n"
   ]
  },
  {
   "cell_type": "code",
   "execution_count": 8,
   "id": "bafebd0d-83f1-4597-9ac3-5959faf8360b",
   "metadata": {},
   "outputs": [
    {
     "data": {
      "text/html": [
       "<table class=\"dataframe\">\n",
       "<caption>A tibble: 13 × 3</caption>\n",
       "<thead>\n",
       "\t<tr><th scope=col>traitmapping_orthogroup</th><th scope=col>traitmapping_coefficient</th><th scope=col>fraction_of_orthogroup_with_predicted_peptide</th></tr>\n",
       "\t<tr><th scope=col>&lt;chr&gt;</th><th scope=col>&lt;dbl&gt;</th><th scope=col>&lt;dbl&gt;</th></tr>\n",
       "</thead>\n",
       "<tbody>\n",
       "\t<tr><td>OG0000880</td><td>0.31400766</td><td>0.73118280</td></tr>\n",
       "\t<tr><td>OG0008102</td><td>0.89907992</td><td>0.70000000</td></tr>\n",
       "\t<tr><td>OG0001774</td><td>1.05408448</td><td>0.66129032</td></tr>\n",
       "\t<tr><td>OG0000079</td><td>0.08290626</td><td>0.13959391</td></tr>\n",
       "\t<tr><td>OG0011284</td><td>2.24534051</td><td>0.11111111</td></tr>\n",
       "\t<tr><td>OG0000194</td><td>0.35313516</td><td>0.09704641</td></tr>\n",
       "\t<tr><td>OG0001663</td><td>0.29542423</td><td>0.09375000</td></tr>\n",
       "\t<tr><td>OG0000189</td><td>0.50428119</td><td>0.08750000</td></tr>\n",
       "\t<tr><td>OG0008888</td><td>1.69892817</td><td>0.06250000</td></tr>\n",
       "\t<tr><td>OG0000385</td><td>0.25070199</td><td>0.05844156</td></tr>\n",
       "\t<tr><td>OG0000746</td><td>0.42872398</td><td>0.04901961</td></tr>\n",
       "\t<tr><td>OG0002194</td><td>0.87213413</td><td>0.03571429</td></tr>\n",
       "\t<tr><td>OG0000143</td><td>0.15338398</td><td>0.03558719</td></tr>\n",
       "</tbody>\n",
       "</table>\n"
      ],
      "text/latex": [
       "A tibble: 13 × 3\n",
       "\\begin{tabular}{lll}\n",
       " traitmapping\\_orthogroup & traitmapping\\_coefficient & fraction\\_of\\_orthogroup\\_with\\_predicted\\_peptide\\\\\n",
       " <chr> & <dbl> & <dbl>\\\\\n",
       "\\hline\n",
       "\t OG0000880 & 0.31400766 & 0.73118280\\\\\n",
       "\t OG0008102 & 0.89907992 & 0.70000000\\\\\n",
       "\t OG0001774 & 1.05408448 & 0.66129032\\\\\n",
       "\t OG0000079 & 0.08290626 & 0.13959391\\\\\n",
       "\t OG0011284 & 2.24534051 & 0.11111111\\\\\n",
       "\t OG0000194 & 0.35313516 & 0.09704641\\\\\n",
       "\t OG0001663 & 0.29542423 & 0.09375000\\\\\n",
       "\t OG0000189 & 0.50428119 & 0.08750000\\\\\n",
       "\t OG0008888 & 1.69892817 & 0.06250000\\\\\n",
       "\t OG0000385 & 0.25070199 & 0.05844156\\\\\n",
       "\t OG0000746 & 0.42872398 & 0.04901961\\\\\n",
       "\t OG0002194 & 0.87213413 & 0.03571429\\\\\n",
       "\t OG0000143 & 0.15338398 & 0.03558719\\\\\n",
       "\\end{tabular}\n"
      ],
      "text/markdown": [
       "\n",
       "A tibble: 13 × 3\n",
       "\n",
       "| traitmapping_orthogroup &lt;chr&gt; | traitmapping_coefficient &lt;dbl&gt; | fraction_of_orthogroup_with_predicted_peptide &lt;dbl&gt; |\n",
       "|---|---|---|\n",
       "| OG0000880 | 0.31400766 | 0.73118280 |\n",
       "| OG0008102 | 0.89907992 | 0.70000000 |\n",
       "| OG0001774 | 1.05408448 | 0.66129032 |\n",
       "| OG0000079 | 0.08290626 | 0.13959391 |\n",
       "| OG0011284 | 2.24534051 | 0.11111111 |\n",
       "| OG0000194 | 0.35313516 | 0.09704641 |\n",
       "| OG0001663 | 0.29542423 | 0.09375000 |\n",
       "| OG0000189 | 0.50428119 | 0.08750000 |\n",
       "| OG0008888 | 1.69892817 | 0.06250000 |\n",
       "| OG0000385 | 0.25070199 | 0.05844156 |\n",
       "| OG0000746 | 0.42872398 | 0.04901961 |\n",
       "| OG0002194 | 0.87213413 | 0.03571429 |\n",
       "| OG0000143 | 0.15338398 | 0.03558719 |\n",
       "\n"
      ],
      "text/plain": [
       "   traitmapping_orthogroup traitmapping_coefficient\n",
       "1  OG0000880               0.31400766              \n",
       "2  OG0008102               0.89907992              \n",
       "3  OG0001774               1.05408448              \n",
       "4  OG0000079               0.08290626              \n",
       "5  OG0011284               2.24534051              \n",
       "6  OG0000194               0.35313516              \n",
       "7  OG0001663               0.29542423              \n",
       "8  OG0000189               0.50428119              \n",
       "9  OG0008888               1.69892817              \n",
       "10 OG0000385               0.25070199              \n",
       "11 OG0000746               0.42872398              \n",
       "12 OG0002194               0.87213413              \n",
       "13 OG0000143               0.15338398              \n",
       "   fraction_of_orthogroup_with_predicted_peptide\n",
       "1  0.73118280                                   \n",
       "2  0.70000000                                   \n",
       "3  0.66129032                                   \n",
       "4  0.13959391                                   \n",
       "5  0.11111111                                   \n",
       "6  0.09704641                                   \n",
       "7  0.09375000                                   \n",
       "8  0.08750000                                   \n",
       "9  0.06250000                                   \n",
       "10 0.05844156                                   \n",
       "11 0.04901961                                   \n",
       "12 0.03571429                                   \n",
       "13 0.03558719                                   "
      ]
     },
     "metadata": {},
     "output_type": "display_data"
    }
   ],
   "source": [
    "predictions %>%\n",
    "  select(traitmapping_orthogroup, traitmapping_coefficient, fraction_of_orthogroup_with_predicted_peptide, ) %>%\n",
    "  arrange(desc(fraction_of_orthogroup_with_predicted_peptide)) %>%\n",
    "  distinct() "
   ]
  },
  {
   "cell_type": "code",
   "execution_count": 9,
   "id": "66670faf-d3ce-4053-9971-adbc47548214",
   "metadata": {},
   "outputs": [
    {
     "data": {
      "text/plain": [
       "R version 4.3.3 (2024-02-29)\n",
       "Platform: x86_64-apple-darwin13.4.0 (64-bit)\n",
       "Running under: macOS Big Sur ... 10.16\n",
       "\n",
       "Matrix products: default\n",
       "BLAS/LAPACK: /Users/taylorreiter/miniconda3/envs/tidyjupyter/lib/libopenblasp-r0.3.26.dylib;  LAPACK version 3.12.0\n",
       "\n",
       "locale:\n",
       "[1] en_US.UTF-8/en_US.UTF-8/en_US.UTF-8/C/en_US.UTF-8/en_US.UTF-8\n",
       "\n",
       "time zone: America/New_York\n",
       "tzcode source: internal\n",
       "\n",
       "attached base packages:\n",
       "[1] stats     graphics  grDevices utils     datasets  methods   base     \n",
       "\n",
       "other attached packages:\n",
       " [1] lubridate_1.9.3 forcats_1.0.0   stringr_1.5.1   dplyr_1.1.4    \n",
       " [5] purrr_1.0.2     readr_2.1.5     tidyr_1.3.1     tibble_3.2.1   \n",
       " [9] ggplot2_3.5.0   tidyverse_2.0.0\n",
       "\n",
       "loaded via a namespace (and not attached):\n",
       " [1] bit_4.0.5        gtable_0.3.4     jsonlite_1.8.8   compiler_4.3.3  \n",
       " [5] crayon_1.5.2     tidyselect_1.2.0 IRdisplay_1.1    parallel_4.3.3  \n",
       " [9] scales_1.3.0     uuid_1.2-0       fastmap_1.1.1    IRkernel_1.3.2  \n",
       "[13] R6_2.5.1         generics_0.1.3   munsell_0.5.1    pillar_1.9.0    \n",
       "[17] tzdb_0.4.0       rlang_1.1.3      utf8_1.2.4       stringi_1.8.3   \n",
       "[21] repr_1.1.7       bit64_4.0.5      timechange_0.3.0 cli_3.6.2       \n",
       "[25] withr_3.0.0      magrittr_2.0.3   digest_0.6.35    grid_4.3.3      \n",
       "[29] vroom_1.6.5      base64enc_0.1-3  hms_1.1.3        pbdZMQ_0.3-11   \n",
       "[33] lifecycle_1.0.4  vctrs_0.6.5      evaluate_0.23    glue_1.7.0      \n",
       "[37] fansi_1.0.6      colorspace_2.1-0 tools_4.3.3      pkgconfig_2.0.3 \n",
       "[41] htmltools_0.5.8 "
      ]
     },
     "metadata": {},
     "output_type": "display_data"
    }
   ],
   "source": [
    "sessionInfo()"
   ]
  },
  {
   "cell_type": "code",
   "execution_count": null,
   "id": "3928a055-f387-48d2-90e5-f91bac973122",
   "metadata": {},
   "outputs": [],
   "source": []
  }
 ],
 "metadata": {
  "kernelspec": {
   "display_name": "R",
   "language": "R",
   "name": "ir"
  },
  "language_info": {
   "codemirror_mode": "r",
   "file_extension": ".r",
   "mimetype": "text/x-r-source",
   "name": "R",
   "pygments_lexer": "r",
   "version": "4.3.3"
  }
 },
 "nbformat": 4,
 "nbformat_minor": 5
}
