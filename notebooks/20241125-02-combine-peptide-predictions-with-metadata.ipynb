{
 "cells": [
  {
   "cell_type": "markdown",
   "id": "ca27369b-c16c-41bb-a326-6458f62bb1c3",
   "metadata": {},
   "source": [
    "# Combine peptide predictions with metadata\n",
    "\n",
    "This notebook combines peptide predictions with other metadata to help assess which peptides would be best suited for experimental followup.\n",
    "The final output is a TSV file with the peptide predictions and their metadata."
   ]
  },
  {
   "cell_type": "markdown",
   "id": "4265f023-00ee-499f-8afd-b871aec418c7",
   "metadata": {},
   "source": [
    "## Notebook setup"
   ]
  },
  {
   "cell_type": "code",
   "execution_count": 1,
   "id": "fa45f9ad-63c5-46ae-95cb-55255e6dde9e",
   "metadata": {},
   "outputs": [
    {
     "name": "stderr",
     "output_type": "stream",
     "text": [
      "── \u001b[1mAttaching core tidyverse packages\u001b[22m ────────────────────────────────────────────────────────────────────────────────────────── tidyverse 2.0.0 ──\n",
      "\u001b[32m✔\u001b[39m \u001b[34mdplyr    \u001b[39m 1.1.4     \u001b[32m✔\u001b[39m \u001b[34mreadr    \u001b[39m 2.1.5\n",
      "\u001b[32m✔\u001b[39m \u001b[34mforcats  \u001b[39m 1.0.0     \u001b[32m✔\u001b[39m \u001b[34mstringr  \u001b[39m 1.5.1\n",
      "\u001b[32m✔\u001b[39m \u001b[34mggplot2  \u001b[39m 3.5.1     \u001b[32m✔\u001b[39m \u001b[34mtibble   \u001b[39m 3.2.1\n",
      "\u001b[32m✔\u001b[39m \u001b[34mlubridate\u001b[39m 1.9.4     \u001b[32m✔\u001b[39m \u001b[34mtidyr    \u001b[39m 1.3.1\n",
      "\u001b[32m✔\u001b[39m \u001b[34mpurrr    \u001b[39m 1.0.2     \n",
      "── \u001b[1mConflicts\u001b[22m ──────────────────────────────────────────────────────────────────────────────────────────────────────────── tidyverse_conflicts() ──\n",
      "\u001b[31m✖\u001b[39m \u001b[34mdplyr\u001b[39m::\u001b[32mfilter()\u001b[39m masks \u001b[34mstats\u001b[39m::filter()\n",
      "\u001b[31m✖\u001b[39m \u001b[34mdplyr\u001b[39m::\u001b[32mlag()\u001b[39m    masks \u001b[34mstats\u001b[39m::lag()\n",
      "\u001b[36mℹ\u001b[39m Use the conflicted package (\u001b[3m\u001b[34m<http://conflicted.r-lib.org/>\u001b[39m\u001b[23m) to force all conflicts to become errors\n"
     ]
    }
   ],
   "source": [
    "library(tidyverse)"
   ]
  },
  {
   "cell_type": "code",
   "execution_count": 2,
   "id": "5a583661-e8be-43fd-81e5-9e4e44217c01",
   "metadata": {},
   "outputs": [],
   "source": [
    "setwd(\"..\")"
   ]
  },
  {
   "cell_type": "markdown",
   "id": "b78e4e60-f316-4ad6-b266-e2f89bbbd827",
   "metadata": {},
   "source": [
    "## Define some descriptive variables associated with trait mapping"
   ]
  },
  {
   "cell_type": "code",
   "execution_count": 3,
   "id": "a1a6b874-783b-4804-93d7-70cf8751fc51",
   "metadata": {},
   "outputs": [],
   "source": [
    "evidence_of_itch_suppression_species <- c(\"Sarcoptes scabiei\",\n",
    "                                          \"Psoroptes ovis\",\n",
    "                                          \"Amblyomma americanum\",\n",
    "                                          \"Amblyomma sculptum\",\n",
    "                                          \"Dermacentor andersoni\",\n",
    "                                          \"Dermacentor silvarum\",\n",
    "                                          \"Dermacentor variabilis\",\n",
    "                                          \"Haemaphysalis longicornis\",\n",
    "                                          \"Hyalomma asiaticum\",\n",
    "                                          \"Ixodes persulcatus\",\n",
    "                                          \"Ixodes ricinus\",\n",
    "                                          \"Ixodes scapularis\",\n",
    "                                          \"Rhipicephalus microplus\",\n",
    "                                          \"Rhipicephalus sanguineus\")"
   ]
  },
  {
   "cell_type": "code",
   "execution_count": 4,
   "id": "67e4440d-c0ad-43e9-9a7a-e4f8f56a567d",
   "metadata": {},
   "outputs": [],
   "source": [
    "ticks <- c(\"Amblyomma americanum\",\n",
    "           \"Amblyomma sculptum\",\n",
    "           \"Dermacentor andersoni\",\n",
    "           \"Dermacentor silvarum\",\n",
    "           \"Dermacentor variabilis\",\n",
    "           \"Haemaphysalis longicornis\",\n",
    "           \"Hyalomma asiaticum\",\n",
    "           \"Ixodes persulcatus\",\n",
    "           \"Ixodes ricinus\",\n",
    "           \"Ixodes scapularis\",\n",
    "           \"Rhipicephalus microplus\",\n",
    "           \"Rhipicephalus sanguineus\")"
   ]
  },
  {
   "cell_type": "markdown",
   "id": "d591e21a-7d03-4880-a178-5258b0ddf7e6",
   "metadata": {},
   "source": [
    "## Read in & format data"
   ]
  },
  {
   "cell_type": "code",
   "execution_count": 5,
   "id": "177af8b4-3db3-44ca-a123-80b90190e146",
   "metadata": {},
   "outputs": [],
   "source": [
    "# read in the summarized orthogroup information\n",
    "orthogroup_peptide_summary_filtered <- read_tsv(\"outputs/notebooks/20241125_orthogroup_peptide_summary.tsv\", show_col_types = FALSE)"
   ]
  },
  {
   "cell_type": "code",
   "execution_count": 6,
   "id": "b0d92425-bfbe-4c26-9946-d98cc3ae3781",
   "metadata": {},
   "outputs": [
    {
     "data": {
      "text/html": [
       "356"
      ],
      "text/latex": [
       "356"
      ],
      "text/markdown": [
       "356"
      ],
      "text/plain": [
       "[1] 356"
      ]
     },
     "metadata": {},
     "output_type": "display_data"
    },
    {
     "data": {
      "text/html": [
       "356"
      ],
      "text/latex": [
       "356"
      ],
      "text/markdown": [
       "356"
      ],
      "text/plain": [
       "[1] 356"
      ]
     },
     "metadata": {},
     "output_type": "display_data"
    },
    {
     "data": {
      "text/html": [
       "353"
      ],
      "text/latex": [
       "353"
      ],
      "text/markdown": [
       "353"
      ],
      "text/plain": [
       "[1] 353"
      ]
     },
     "metadata": {},
     "output_type": "display_data"
    }
   ],
   "source": [
    "# read in the peptigate predictions\n",
    "peptigate_predictions <- read_tsv(\"outputs/ToT_20241125/predictions/peptide_predictions.tsv\", show_col_types = F) %>%\n",
    "  mutate(peptide_length = nchar(protein_sequence),\n",
    "         locus_tag = gsub(\"_start.*\", \"\", peptide_id)) %>%\n",
    "  mutate(peptide_class = ifelse(is.na(peptide_class), \"sORF\", peptide_class)) %>%\n",
    "  filter(peptide_class != \"Propeptide\")\n",
    "\n",
    "nrow(peptigate_predictions)\n",
    "length(unique(peptigate_predictions$peptide_id))\n",
    "length(unique(peptigate_predictions$protein_sequence))"
   ]
  },
  {
   "cell_type": "code",
   "execution_count": 7,
   "id": "a2748029-fd91-467f-876d-6a41e74ea68f",
   "metadata": {},
   "outputs": [
    {
     "data": {
      "text/plain": [
       "\n",
       "TRUE \n",
       " 356 "
      ]
     },
     "metadata": {},
     "output_type": "display_data"
    }
   ],
   "source": [
    "# read in the per-peptide trait mapping (itch suppression) metadata\n",
    "trait_mapping_metadata <- read_tsv(\"inputs/2024-11-25-top-positive-significant-clusters-orthogroups-annotations.tsv.gz\", show_col_types = F) %>%\n",
    "  mutate(species = gsub(\"-\", \" \", species)) %>%\n",
    "  rename_with(.cols = everything(), function(x){paste0(\"traitmapping_\", x)})\n",
    "\n",
    "table(peptigate_predictions$locus_tag %in% trait_mapping_metadata$traitmapping_locus_tag)"
   ]
  },
  {
   "cell_type": "code",
   "execution_count": 8,
   "id": "f87b808f-ede8-4ab8-882a-fd6806c5e607",
   "metadata": {},
   "outputs": [
    {
     "data": {
      "text/html": [
       "356"
      ],
      "text/latex": [
       "356"
      ],
      "text/markdown": [
       "356"
      ],
      "text/plain": [
       "[1] 356"
      ]
     },
     "metadata": {},
     "output_type": "display_data"
    },
    {
     "data": {
      "text/html": [
       "356"
      ],
      "text/latex": [
       "356"
      ],
      "text/markdown": [
       "356"
      ],
      "text/plain": [
       "[1] 356"
      ]
     },
     "metadata": {},
     "output_type": "display_data"
    },
    {
     "data": {
      "text/html": [
       "353"
      ],
      "text/latex": [
       "353"
      ],
      "text/markdown": [
       "353"
      ],
      "text/plain": [
       "[1] 353"
      ]
     },
     "metadata": {},
     "output_type": "display_data"
    }
   ],
   "source": [
    "# read in and format the peptigate annotations\n",
    "peptigate_annotations <- read_tsv(\"outputs/ToT_20241125/predictions/peptide_annotations.tsv\", show_col_types = F) %>%\n",
    "  filter(peptide_id %in% peptigate_predictions$peptide_id)        \n",
    "\n",
    "nrow(peptigate_annotations)\n",
    "length(unique(peptigate_annotations$peptide_id))\n",
    "length(unique(peptigate_annotations$sequence))"
   ]
  },
  {
   "cell_type": "code",
   "execution_count": 9,
   "id": "90cca113-5a71-4d93-92e9-368692eee500",
   "metadata": {},
   "outputs": [],
   "source": [
    "# read in and format clustering information (mmseqs2, 80% identity)\n",
    "clustering <- read_tsv(\"outputs/analysis/clustering/all_peptides_0.8_cluster.tsv\",\n",
    "                       show_col_types = FALSE,\n",
    "                       col_names = c(\"mmseqs2_representative_sequence\",\n",
    "                                     \"mmseqs2_cluster_member\")) %>%\n",
    "  filter(mmseqs2_cluster_member %in% peptigate_predictions$peptide_id)\n",
    "\n",
    "cluster_summary <- clustering %>% \n",
    "  group_by(mmseqs2_representative_sequence) %>%\n",
    "  tally() %>%\n",
    "  select(mmseqs2_representative_sequence, mmseqs2_num_peptides_in_cluster = n)\n",
    "\n",
    "clustering <- left_join(clustering, cluster_summary, by = \"mmseqs2_representative_sequence\")"
   ]
  },
  {
   "cell_type": "code",
   "execution_count": 10,
   "id": "928dfb73-a8e9-46da-b553-6c825df0eb51",
   "metadata": {},
   "outputs": [],
   "source": [
    "# read in the anti-inflammatory prediction information\n",
    "antiinflammatory <- read_tsv(\"outputs/analysis/predict_antiinflammatory/autopeptideml_antiinflammatory_predictions.tsv\", show_col_types = F) %>%\n",
    "  select(-sequence)"
   ]
  },
  {
   "cell_type": "code",
   "execution_count": 11,
   "id": "4b906a63-6b0a-4312-ba8f-61b3f3770f7c",
   "metadata": {},
   "outputs": [],
   "source": [
    "# transcriptome shotgun assembly (TSA) salivary gland (sg) transcriptome peptide prediction BLAST hits\n",
    "tsa_sg_blastp <- read_tsv(\"outputs/analysis/compare_tsa_sg/tsa_sg_peptides_blastp_matches.tsv\", show_col_types = FALSE) %>%\n",
    "  # select only one blast hit for each query peptide\n",
    "  group_by(qseqid) %>%\n",
    "  slice_max(bitscore) %>%\n",
    "  slice_min(evalue) %>%\n",
    "  slice_head(n = 1) %>%\n",
    "  ungroup() %>%\n",
    "  # filter out hits to propeptides\n",
    "  filter(qseqid %in% peptigate_predictions$peptide_id) %>%\n",
    "  # rename columns so they're easier to interpret\n",
    "  rename_with(.cols = everything(), function(x){paste0(\"sgpeptide_blast_\", x)})"
   ]
  },
  {
   "cell_type": "markdown",
   "id": "08196f1a-1990-4a69-9a12-a3f921d8f507",
   "metadata": {},
   "source": [
    "## Join data together"
   ]
  },
  {
   "cell_type": "code",
   "execution_count": 12,
   "id": "a4cdb63e-dc49-4a22-9a5d-a5661c493f65",
   "metadata": {},
   "outputs": [
    {
     "data": {
      "text/html": [
       "356"
      ],
      "text/latex": [
       "356"
      ],
      "text/markdown": [
       "356"
      ],
      "text/plain": [
       "[1] 356"
      ]
     },
     "metadata": {},
     "output_type": "display_data"
    }
   ],
   "source": [
    "predictions <- left_join(peptigate_predictions, trait_mapping_metadata, by = c(\"locus_tag\" = \"traitmapping_locus_tag\")) %>%\n",
    "  mutate(traitmapping_species = gsub(\"-\", \" \", traitmapping_species)) %>%\n",
    "  mutate(evidence_of_itch_suppression = ifelse(traitmapping_species %in% evidence_of_itch_suppression_species, \n",
    "                                               \"evidence of itch suppression\", \n",
    "                                               \"no evidence of itch suppression\"))\n",
    "nrow(predictions)"
   ]
  },
  {
   "cell_type": "code",
   "execution_count": 13,
   "id": "42fd51e9-bb84-46c1-92ba-f5f7bce8b444",
   "metadata": {},
   "outputs": [
    {
     "data": {
      "text/html": [
       "314"
      ],
      "text/latex": [
       "314"
      ],
      "text/markdown": [
       "314"
      ],
      "text/plain": [
       "[1] 314"
      ]
     },
     "metadata": {},
     "output_type": "display_data"
    }
   ],
   "source": [
    "# note that this is a right join because the orthogroup_peptide_summary_filtered data frame \n",
    "# removes peptides that didn't have a hit in their orthogroup to peptides expressed in tick salivary gland transcriptomes\n",
    "predictions <- right_join(predictions, orthogroup_peptide_summary_filtered,\n",
    "                          by = c(\"traitmapping_cluster\", \"traitmapping_orthogroup\", \n",
    "                                 \"traitmapping_signif_level\", \"traitmapping_signif_fdr\", \"traitmapping_coefficient\"))\n",
    "nrow(predictions)"
   ]
  },
  {
   "cell_type": "code",
   "execution_count": 14,
   "id": "88fe5466-8261-4843-a49d-3d9029b007a4",
   "metadata": {},
   "outputs": [
    {
     "data": {
      "text/html": [
       "314"
      ],
      "text/latex": [
       "314"
      ],
      "text/markdown": [
       "314"
      ],
      "text/plain": [
       "[1] 314"
      ]
     },
     "metadata": {},
     "output_type": "display_data"
    }
   ],
   "source": [
    "predictions <- left_join(predictions, peptigate_annotations, by = \"peptide_id\")\n",
    "nrow(predictions)"
   ]
  },
  {
   "cell_type": "code",
   "execution_count": 15,
   "id": "f3f0ed31-1e2a-4149-9769-03dc912a9f59",
   "metadata": {},
   "outputs": [
    {
     "data": {
      "text/html": [
       "314"
      ],
      "text/latex": [
       "314"
      ],
      "text/markdown": [
       "314"
      ],
      "text/plain": [
       "[1] 314"
      ]
     },
     "metadata": {},
     "output_type": "display_data"
    }
   ],
   "source": [
    "predictions <- left_join(predictions, antiinflammatory, by = \"peptide_id\")\n",
    "nrow(predictions)"
   ]
  },
  {
   "cell_type": "code",
   "execution_count": 16,
   "id": "2f5dc873-cf65-4390-ab08-1bc15c95339c",
   "metadata": {},
   "outputs": [
    {
     "data": {
      "text/html": [
       "314"
      ],
      "text/latex": [
       "314"
      ],
      "text/markdown": [
       "314"
      ],
      "text/plain": [
       "[1] 314"
      ]
     },
     "metadata": {},
     "output_type": "display_data"
    }
   ],
   "source": [
    "predictions <- left_join(predictions, clustering, by = c(\"peptide_id\" = \"mmseqs2_cluster_member\"))\n",
    "nrow(predictions)"
   ]
  },
  {
   "cell_type": "code",
   "execution_count": 17,
   "id": "04c3ddde-6e32-482f-9f75-e85fceb54614",
   "metadata": {},
   "outputs": [
    {
     "data": {
      "text/html": [
       "314"
      ],
      "text/latex": [
       "314"
      ],
      "text/markdown": [
       "314"
      ],
      "text/plain": [
       "[1] 314"
      ]
     },
     "metadata": {},
     "output_type": "display_data"
    }
   ],
   "source": [
    "predictions <- left_join(predictions, tsa_sg_blastp, by = c(\"peptide_id\" = \"sgpeptide_blast_qseqid\"))\n",
    "nrow(predictions)"
   ]
  },
  {
   "cell_type": "code",
   "execution_count": 18,
   "id": "9329ae37-ba58-4972-aad3-4aaefc8b8374",
   "metadata": {},
   "outputs": [
    {
     "data": {
      "text/html": [
       "311"
      ],
      "text/latex": [
       "311"
      ],
      "text/markdown": [
       "311"
      ],
      "text/plain": [
       "[1] 311"
      ]
     },
     "metadata": {},
     "output_type": "display_data"
    },
    {
     "data": {
      "text/html": [
       "311"
      ],
      "text/latex": [
       "311"
      ],
      "text/markdown": [
       "311"
      ],
      "text/plain": [
       "[1] 311"
      ]
     },
     "metadata": {},
     "output_type": "display_data"
    }
   ],
   "source": [
    "# remove duplicate amino acid sequences. Just select the first as they should be roughly equivalent in metadata\n",
    "predictions <- predictions %>%\n",
    "  group_by(protein_sequence) %>%\n",
    "  slice_head(n = 1) %>%\n",
    "  ungroup()\n",
    "nrow(predictions)\n",
    "length(unique(predictions$protein_sequence))"
   ]
  },
  {
   "cell_type": "code",
   "execution_count": 19,
   "id": "a320e081-93d3-4272-990d-a132881dd3d8",
   "metadata": {},
   "outputs": [],
   "source": [
    "write_tsv(predictions, \"outputs/notebooks/20241125_predictions_with_metadata.tsv\")"
   ]
  },
  {
   "cell_type": "code",
   "execution_count": 20,
   "id": "64209362-14eb-4c8d-a3a4-28606de5e3d3",
   "metadata": {},
   "outputs": [
    {
     "data": {
      "text/html": [
       "<table class=\"dataframe\">\n",
       "<caption>A tibble: 3 × 2</caption>\n",
       "<thead>\n",
       "\t<tr><th scope=col>prediction_tool</th><th scope=col>n</th></tr>\n",
       "\t<tr><th scope=col>&lt;chr&gt;</th><th scope=col>&lt;int&gt;</th></tr>\n",
       "</thead>\n",
       "<tbody>\n",
       "\t<tr><td>deeppeptide    </td><td>103</td></tr>\n",
       "\t<tr><td>less_than_100aa</td><td>201</td></tr>\n",
       "\t<tr><td>nlpprecursor   </td><td>  7</td></tr>\n",
       "</tbody>\n",
       "</table>\n"
      ],
      "text/latex": [
       "A tibble: 3 × 2\n",
       "\\begin{tabular}{ll}\n",
       " prediction\\_tool & n\\\\\n",
       " <chr> & <int>\\\\\n",
       "\\hline\n",
       "\t deeppeptide     & 103\\\\\n",
       "\t less\\_than\\_100aa & 201\\\\\n",
       "\t nlpprecursor    &   7\\\\\n",
       "\\end{tabular}\n"
      ],
      "text/markdown": [
       "\n",
       "A tibble: 3 × 2\n",
       "\n",
       "| prediction_tool &lt;chr&gt; | n &lt;int&gt; |\n",
       "|---|---|\n",
       "| deeppeptide     | 103 |\n",
       "| less_than_100aa | 201 |\n",
       "| nlpprecursor    |   7 |\n",
       "\n"
      ],
      "text/plain": [
       "  prediction_tool n  \n",
       "1 deeppeptide     103\n",
       "2 less_than_100aa 201\n",
       "3 nlpprecursor      7"
      ]
     },
     "metadata": {},
     "output_type": "display_data"
    }
   ],
   "source": [
    "predictions %>% \n",
    " group_by(prediction_tool) %>%\n",
    " tally()"
   ]
  },
  {
   "cell_type": "code",
   "execution_count": 21,
   "id": "6e331ee3-6ea3-4f01-a958-afaceba62074",
   "metadata": {},
   "outputs": [
    {
     "data": {
      "text/html": [
       "16"
      ],
      "text/latex": [
       "16"
      ],
      "text/markdown": [
       "16"
      ],
      "text/plain": [
       "[1] 16"
      ]
     },
     "metadata": {},
     "output_type": "display_data"
    }
   ],
   "source": [
    "length(unique(predictions$traitmapping_orthogroup))"
   ]
  },
  {
   "cell_type": "code",
   "execution_count": 22,
   "id": "5eda2918-a418-4730-9359-31afc909e51c",
   "metadata": {},
   "outputs": [
    {
     "data": {
      "text/html": [
       "237"
      ],
      "text/latex": [
       "237"
      ],
      "text/markdown": [
       "237"
      ],
      "text/plain": [
       "[1] 237"
      ]
     },
     "metadata": {},
     "output_type": "display_data"
    }
   ],
   "source": [
    "length(unique(predictions$mmseqs2_representative_sequence))"
   ]
  },
  {
   "cell_type": "code",
   "execution_count": 23,
   "id": "946fda19-d253-46a7-a2bc-04b768317218",
   "metadata": {},
   "outputs": [
    {
     "data": {
      "text/plain": [
       "R version 4.3.3 (2024-02-29)\n",
       "Platform: x86_64-apple-darwin13.4.0 (64-bit)\n",
       "Running under: macOS Big Sur ... 10.16\n",
       "\n",
       "Matrix products: default\n",
       "BLAS/LAPACK: /Users/taylorreiter/miniconda3/envs/tidyjupyter/lib/libopenblasp-r0.3.28.dylib;  LAPACK version 3.12.0\n",
       "\n",
       "locale:\n",
       "[1] en_US.UTF-8/en_US.UTF-8/en_US.UTF-8/C/en_US.UTF-8/en_US.UTF-8\n",
       "\n",
       "time zone: America/New_York\n",
       "tzcode source: system (macOS)\n",
       "\n",
       "attached base packages:\n",
       "[1] stats     graphics  grDevices utils     datasets  methods   base     \n",
       "\n",
       "other attached packages:\n",
       " [1] lubridate_1.9.4 forcats_1.0.0   stringr_1.5.1   dplyr_1.1.4    \n",
       " [5] purrr_1.0.2     readr_2.1.5     tidyr_1.3.1     tibble_3.2.1   \n",
       " [9] ggplot2_3.5.1   tidyverse_2.0.0\n",
       "\n",
       "loaded via a namespace (and not attached):\n",
       " [1] bit_4.5.0.1       gtable_0.3.6      jsonlite_1.8.9    compiler_4.3.3   \n",
       " [5] crayon_1.5.3      tidyselect_1.2.1  IRdisplay_1.1     parallel_4.3.3   \n",
       " [9] scales_1.3.0      uuid_1.2-1        fastmap_1.2.0     IRkernel_1.3.2   \n",
       "[13] R6_2.5.1          generics_0.1.3    munsell_0.5.1     pillar_1.10.0    \n",
       "[17] tzdb_0.4.0        rlang_1.1.4       stringi_1.8.4     repr_1.1.7       \n",
       "[21] bit64_4.5.2       timechange_0.3.0  cli_3.6.3         withr_3.0.2      \n",
       "[25] magrittr_2.0.3    digest_0.6.37     grid_4.3.3        vroom_1.6.5      \n",
       "[29] base64enc_0.1-3   hms_1.1.3         pbdZMQ_0.3-13     lifecycle_1.0.4  \n",
       "[33] vctrs_0.6.5       evaluate_1.0.1    glue_1.8.0        colorspace_2.1-1 \n",
       "[37] tools_4.3.3       pkgconfig_2.0.3   htmltools_0.5.8.1"
      ]
     },
     "metadata": {},
     "output_type": "display_data"
    }
   ],
   "source": [
    "sessionInfo()"
   ]
  },
  {
   "cell_type": "code",
   "execution_count": null,
   "id": "77288448-5675-456d-a46b-8670bf909ec6",
   "metadata": {},
   "outputs": [],
   "source": []
  }
 ],
 "metadata": {
  "kernelspec": {
   "display_name": "R",
   "language": "R",
   "name": "ir"
  },
  "language_info": {
   "codemirror_mode": "r",
   "file_extension": ".r",
   "mimetype": "text/x-r-source",
   "name": "R",
   "pygments_lexer": "r",
   "version": "4.3.3"
  }
 },
 "nbformat": 4,
 "nbformat_minor": 5
}
