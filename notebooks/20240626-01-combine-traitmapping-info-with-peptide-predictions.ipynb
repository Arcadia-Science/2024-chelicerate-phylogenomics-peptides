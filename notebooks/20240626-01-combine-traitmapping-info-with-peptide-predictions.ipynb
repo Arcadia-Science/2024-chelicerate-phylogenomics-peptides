{
 "cells": [
  {
   "cell_type": "markdown",
   "id": "f05c0072-5b38-4776-bdc3-2a5ba8bd9d90",
   "metadata": {},
   "source": [
    "# Combine trait-mapping data with peptide predictions and summarize\n",
    "\n",
    "This notebook creates a summary TSV file that records incidence of peptide predictions within each orthogroup that is associated with the itch suppression trait.\n",
    "This information should help us select orthogroups that have:\n",
    "1. Evidence of peptide predictions (peptide predictions many proteins in the orthogroup)\n",
    "2. Evidence of export to the saliva (contains a signal peptide, has a tick salivary gland transcriptome hit)\n",
    "3. Support for itch suppression. The strongest signal would be protein families from tick + non-tick that suppress itch. The trait mapping coefficients should also help identify this.\n",
    "\n",
    "Some thoughts from Austin are included below.\n",
    "From Austin in slack (edited for clarity):\n",
    "> As for mixed orthogroups. Yes, I would absolutely expect these orthogroups to possess proteins/peptides present in both itch-suppressing and non-itch-suppressing species.\n",
    "> * These tests are not looking for pure presence/absence patterns (i.e. completely absent in non-suppressing and present in suppressing species) - they are looking for gross patterns.\n",
    "> * At the level of profile clusters, I took the mean counts of different event types, e.g., speciation events in the gene family (any bifurcation in the gene family tree) within itch-suppressing species and non-itch-suppressing species.\n",
    "> * I then conducted logistic regressions, asking whether the mean event counts predicted itch suppression (binary, 0/1).\n",
    ">    * So long as the counts significantly differed between itch-suppressing and non-itch-suppressing species (and the coefficients are sufficiently large to be retained, depending on how you filtered), they will be included in your set of “itch-suppression-associated” clusters\n",
    "> * Within the profile cluster, I then conducted logistic regressions for each gene family individual, this time regressing the event counts for each species against the response - the binary itch suppression trait.\n",
    "> * One key bit is that this time, I used a phylogenetic logistic regression that accounts for the evolutionary non-independence.\n",
    ">    * That will ultimately mean that in a hypothetical scenario where all ticks have one or more gene copies of something, but no other species do (including other non-tick itch-suppressing species), this is unlikely (or less likely) to lead to a significant association. This is because although we have many ticks in the dataset, they're effectively evolutionary pseudoreplicates, as that gene is only associated with a single evolutionary “origin” or incidence of itch suppression.\n",
    ">    * The association between that gene and itch suppression is confounded with the association between that gene and… ticks. And all other traits are unique to them, independent of itch suppression. \n",
    "> * These are just statistical associations between gene family event counts in profile clusters or gene families within them and itch suppression.\n",
    ">    * Because they are associations between these different event types and not just gene presence/absence, they will include cases where the gene is typically absent in one group and present in the other, as well as cases where it’s present in both, but the “magnitude” or frequency of event counts differs.\n",
    ">\n",
    "> As a final thought: I think one thing that would be particularly useful to consider in your filtering is to consider not only those gene families where peptides are present in multiple ticks but multiple ticks as well as other non-tick itch-suppressing species. The statistical tests should already be “prioritizing” these."
   ]
  },
  {
   "cell_type": "code",
   "execution_count": 1,
   "id": "40e26562-80db-483b-8b93-1a675e9a00cb",
   "metadata": {},
   "outputs": [
    {
     "name": "stderr",
     "output_type": "stream",
     "text": [
      "── \u001b[1mAttaching core tidyverse packages\u001b[22m ────────────────────────────────────────────────────────────────────────────────────────────────── tidyverse 2.0.0 ──\n",
      "\u001b[32m✔\u001b[39m \u001b[34mdplyr    \u001b[39m 1.1.4     \u001b[32m✔\u001b[39m \u001b[34mreadr    \u001b[39m 2.1.5\n",
      "\u001b[32m✔\u001b[39m \u001b[34mforcats  \u001b[39m 1.0.0     \u001b[32m✔\u001b[39m \u001b[34mstringr  \u001b[39m 1.5.1\n",
      "\u001b[32m✔\u001b[39m \u001b[34mggplot2  \u001b[39m 3.5.0     \u001b[32m✔\u001b[39m \u001b[34mtibble   \u001b[39m 3.2.1\n",
      "\u001b[32m✔\u001b[39m \u001b[34mlubridate\u001b[39m 1.9.3     \u001b[32m✔\u001b[39m \u001b[34mtidyr    \u001b[39m 1.3.1\n",
      "\u001b[32m✔\u001b[39m \u001b[34mpurrr    \u001b[39m 1.0.2     \n",
      "── \u001b[1mConflicts\u001b[22m ──────────────────────────────────────────────────────────────────────────────────────────────────────────────────── tidyverse_conflicts() ──\n",
      "\u001b[31m✖\u001b[39m \u001b[34mdplyr\u001b[39m::\u001b[32mfilter()\u001b[39m masks \u001b[34mstats\u001b[39m::filter()\n",
      "\u001b[31m✖\u001b[39m \u001b[34mdplyr\u001b[39m::\u001b[32mlag()\u001b[39m    masks \u001b[34mstats\u001b[39m::lag()\n",
      "\u001b[36mℹ\u001b[39m Use the conflicted package (\u001b[3m\u001b[34m<http://conflicted.r-lib.org/>\u001b[39m\u001b[23m) to force all conflicts to become errors\n"
     ]
    }
   ],
   "source": [
    "library(tidyverse)\n",
    "library(UpSetR)"
   ]
  },
  {
   "cell_type": "code",
   "execution_count": 2,
   "id": "94ee01f0-f941-40cf-a952-a5986a6fcd68",
   "metadata": {},
   "outputs": [],
   "source": [
    "setwd(\"..\")"
   ]
  },
  {
   "cell_type": "code",
   "execution_count": 3,
   "id": "9485cb66-4b88-4b34-895c-e7a5efcc756c",
   "metadata": {},
   "outputs": [],
   "source": [
    "# adjust plot size rendered inline\n",
    "options(repr.plot.width = 6, repr.plot.height = 4, repr.plot.res = 300)"
   ]
  },
  {
   "cell_type": "markdown",
   "id": "4e1cbf7e-f6e5-4a9a-827b-d79942a2ce18",
   "metadata": {},
   "source": [
    "## Define some descriptive variables associated with trait mapping"
   ]
  },
  {
   "cell_type": "code",
   "execution_count": 4,
   "id": "e547dd3e-4e4c-4617-ad69-fbaa2548b3d1",
   "metadata": {},
   "outputs": [],
   "source": [
    "evidence_of_itch_suppression_species <- c(\"Sarcoptes scabiei\",\n",
    "                                          \"Psoroptes ovis\",\n",
    "                                          \"Amblyomma americanum\",\n",
    "                                          \"Amblyomma sculptum\",\n",
    "                                          \"Dermacentor andersoni\",\n",
    "                                          \"Dermacentor silvarum\",\n",
    "                                          \"Dermacentor variabilis\",\n",
    "                                          \"Haemaphysalis longicornis\",\n",
    "                                          \"Hyalomma asiaticum\",\n",
    "                                          \"Ixodes persulcatus\",\n",
    "                                          \"Ixodes ricinus\",\n",
    "                                          \"Ixodes scapularis\",\n",
    "                                          \"Rhipicephalus microplus\",\n",
    "                                          \"Rhipicephalus sanguineus\")"
   ]
  },
  {
   "cell_type": "code",
   "execution_count": 5,
   "id": "68a5f839-c231-4100-b04c-aaa1be50d34e",
   "metadata": {},
   "outputs": [],
   "source": [
    "ticks <- c(\"Amblyomma americanum\",\n",
    "           \"Amblyomma sculptum\",\n",
    "           \"Dermacentor andersoni\",\n",
    "           \"Dermacentor silvarum\",\n",
    "           \"Dermacentor variabilis\",\n",
    "           \"Haemaphysalis longicornis\",\n",
    "           \"Hyalomma asiaticum\",\n",
    "           \"Ixodes persulcatus\",\n",
    "           \"Ixodes ricinus\",\n",
    "           \"Ixodes scapularis\",\n",
    "           \"Rhipicephalus microplus\",\n",
    "           \"Rhipicephalus sanguineus\")"
   ]
  },
  {
   "cell_type": "markdown",
   "id": "40fccdce-c565-44d0-ae4a-c664645de59e",
   "metadata": {},
   "source": [
    "## Read in initial data\n",
    "\n",
    "Note that for the peptigate results, we remove propeptide predictions -- DeepPeptide predict peptides and propeptides.\n",
    "The tool uses the [UniProt definition of propeptide](https://www.uniprot.org/help/propep).\n",
    "> A **Propeptide** is a part of a protein that is cleaved during maturation or activation of the protein. It is generally understood not to have an independent function.\n",
    "A **Peptide** is proteolytically cleaved and has a well-defined biological activity.\n",
    "\n",
    "Given this, we remove propeptide predictions as DeepPeptide would predict that these are not biologically active after being cleaved from their precursor protein."
   ]
  },
  {
   "cell_type": "code",
   "execution_count": 6,
   "id": "f6e11206-bd69-4f71-8cf1-c40dcfe2310c",
   "metadata": {},
   "outputs": [],
   "source": [
    "# tot peptigate predictions & remove propeptide predictions\n",
    "peptigate_predictions <- read_tsv(\"outputs/ToT_20240626/predictions/peptide_predictions.tsv\", show_col_types = F) %>%\n",
    "  rename_with(.cols = everything(), function(x){paste0(\"peptigate_\", x)}) %>%\n",
    "  mutate(peptigate_peptide_class = ifelse(is.na(peptigate_peptide_class), \"sORF\", peptigate_peptide_class)) %>%\n",
    "  filter(peptigate_peptide_class != \"Propeptide\") %>%\n",
    "  mutate(traitmapping_locus_tag = gsub(\"_start.*\", \"\", peptigate_peptide_id))"
   ]
  },
  {
   "cell_type": "code",
   "execution_count": 7,
   "id": "559409a1-972f-4ccf-8db9-b625b31ef7d0",
   "metadata": {},
   "outputs": [
    {
     "data": {
      "text/html": [
       "308"
      ],
      "text/latex": [
       "308"
      ],
      "text/markdown": [
       "308"
      ],
      "text/plain": [
       "[1] 308"
      ]
     },
     "metadata": {},
     "output_type": "display_data"
    },
    {
     "data": {
      "text/html": [
       "283"
      ],
      "text/latex": [
       "283"
      ],
      "text/markdown": [
       "283"
      ],
      "text/plain": [
       "[1] 283"
      ]
     },
     "metadata": {},
     "output_type": "display_data"
    }
   ],
   "source": [
    "# note that some proteins have multiple peptide predictions, so we have to be careful how we do our counting later in this notebook.\n",
    "nrow(peptigate_predictions)\n",
    "length(unique(peptigate_predictions$traitmapping_locus_tag))"
   ]
  },
  {
   "cell_type": "code",
   "execution_count": 8,
   "id": "0cffc5d2-eaf1-4051-998c-28cfd29f44f8",
   "metadata": {},
   "outputs": [],
   "source": [
    "# transcriptome shotgun assembly (TSA) salivary gland (sg) transcriptome peptide prediction BLAST hits\n",
    "tsa_sg_blastp <- read_tsv(\"outputs/analysis/compare_tsa_sg/tsa_sg_peptides_blastp_matches.tsv\", show_col_types = FALSE) %>%\n",
    "  # select only one blast hit for each query peptide\n",
    "  group_by(qseqid) %>%\n",
    "  slice_max(bitscore) %>%\n",
    "  slice_min(evalue) %>%\n",
    "  slice_head(n = 1) %>%\n",
    "  ungroup() %>%\n",
    "  filter(qseqid %in% peptigate_predictions$peptigate_peptide_id) %>% # filter out hits to propeptides\n",
    "  rename_with(.cols = everything(), function(x){paste0(\"sgpeptide_blast_\", x)})"
   ]
  },
  {
   "cell_type": "code",
   "execution_count": 9,
   "id": "22b7b577-4b35-44a8-9182-5d7f7cbbfec0",
   "metadata": {},
   "outputs": [
    {
     "data": {
      "text/html": [
       "146"
      ],
      "text/latex": [
       "146"
      ],
      "text/markdown": [
       "146"
      ],
      "text/plain": [
       "[1] 146"
      ]
     },
     "metadata": {},
     "output_type": "display_data"
    },
    {
     "data": {
      "text/html": [
       "146"
      ],
      "text/latex": [
       "146"
      ],
      "text/markdown": [
       "146"
      ],
      "text/plain": [
       "[1] 146"
      ]
     },
     "metadata": {},
     "output_type": "display_data"
    }
   ],
   "source": [
    "# double check that each qseqid only appears once\n",
    "nrow(tsa_sg_blastp)\n",
    "length(unique(tsa_sg_blastp$sgpeptide_blast_qseqid))"
   ]
  },
  {
   "cell_type": "code",
   "execution_count": 10,
   "id": "e364db31-b4d8-4585-b537-fbba7d50027e",
   "metadata": {},
   "outputs": [],
   "source": [
    "# metadata from trait mapping ToT data for association with itch-suppression\n",
    "trait_mapping_metadata <- read_tsv(\"inputs/2024-06-26-top-positive-significant-clusters-orthogroups-annotations.tsv.gz\", show_col_types = F) %>%\n",
    "  mutate(species = gsub(\"-\", \" \", species)) %>%\n",
    "  rename_with(.cols = everything(), function(x){paste0(\"traitmapping_\", x)})"
   ]
  },
  {
   "cell_type": "markdown",
   "id": "791b9ee3-6c2c-44a3-8dba-d3af470f4bf0",
   "metadata": {},
   "source": [
    "## Use the trait mapping metadata as well as peptigate results and analysis of those results to understand the breakdown of the different orthogroups\n",
    "\n",
    "* number of proteins in orthogroup\n",
    "* number of proteins in orthogroup with evidence of expression in salivary gland transcriptomes from the TSA (and percent)\n",
    "* number of proteins in orthogroup with peptide prediction (and percent)\n",
    "* number of proteins in orthogroup from ticks (order Ixodida) (and percent)\n",
    "* number of proteins in orthogroup from chelicerates that suppress itch (and percent)"
   ]
  },
  {
   "cell_type": "markdown",
   "id": "11a35bd8-d8f8-4d12-ba79-e980b725b1b3",
   "metadata": {},
   "source": [
    "### Count traits of PROTEINS (not peptides from ticks) in the orthogroup.\n",
    "\n",
    "Includes:\n",
    "- how many proteins were in the orthogroup\n",
    "- how many proteins in the orthogroup were from ticks\n",
    "- how many proteins in the orthogroup had a signal peptide\n",
    "- how many protein in orthogroup are from species that suppress itch (note itchsuppsp stands for \"itch suppression species\")"
   ]
  },
  {
   "cell_type": "code",
   "execution_count": 11,
   "id": "1f7aa5bb-5b20-49d4-99b0-cfdda1dc3540",
   "metadata": {},
   "outputs": [],
   "source": [
    "# Calculate some of the statistics prior to joining with other metadata.\n",
    "# Some proteins had multiple peptides predicted from them, so we should calculate some numbers prior to joining data\n",
    "num_proteins_in_orthogroup <- trait_mapping_metadata %>%\n",
    "  group_by(traitmapping_orthogroup) %>%\n",
    "  summarize(num_proteins_in_orthogroup = n())"
   ]
  },
  {
   "cell_type": "code",
   "execution_count": 12,
   "id": "a4d1ccdd-6141-4865-8acf-1f8f74cfb0dd",
   "metadata": {},
   "outputs": [
    {
     "name": "stderr",
     "output_type": "stream",
     "text": [
      "Warning message:\n",
      "“\u001b[1m\u001b[22mReturning more (or less) than 1 row per `summarise()` group was deprecated in dplyr 1.1.0.\n",
      "\u001b[36mℹ\u001b[39m Please use `reframe()` instead.\n",
      "\u001b[36mℹ\u001b[39m When switching from `summarise()` to `reframe()`, remember that `reframe()` always returns an ungrouped data frame and adjust accordingly.”\n",
      "\u001b[1m\u001b[22m`summarise()` has grouped output by 'traitmapping_orthogroup', 'num_proteins_in_orthogroup'. You can override using the `.groups` argument.\n"
     ]
    }
   ],
   "source": [
    "traits_of_proteins_in_orthogroup <- trait_mapping_metadata %>%\n",
    "  mutate(species_is_a_tick = ifelse(traitmapping_species %in% ticks, \"tick\", \"not tick\"),\n",
    "         species_suppresses_itch = ifelse(traitmapping_species %in% evidence_of_itch_suppression_species, \"evidence suppresses itch\", \"no evidence suppresses itch\")) %>%\n",
    "  left_join(num_proteins_in_orthogroup, by = \"traitmapping_orthogroup\") %>%\n",
    "  group_by(traitmapping_orthogroup, num_proteins_in_orthogroup) %>%\n",
    "  # number of proteins in orthogroup from ticks (order Ixodida) (and fraction), and how many had peptide predictions\n",
    "  summarize(num_tick_proteins_in_orthogroup = sum(species_is_a_tick == \"tick\"),\n",
    "            fraction_of_orthogroup_tick_proteins = num_tick_proteins_in_orthogroup / num_proteins_in_orthogroup,\n",
    "            num_tick_proteins_in_orthogroup_with_signal_peptide = sum(traitmapping_deepsig_feature == \"Signal peptide\", na.rm = TRUE),\n",
    "            fraction_of_orthogroup_with_signal_peptide = num_tick_proteins_in_orthogroup_with_signal_peptide / num_proteins_in_orthogroup,\n",
    "            num_itchsuppsp_proteins_in_orthogroup = sum(species_suppresses_itch == \"evidence suppresses itch\"),\n",
    "            fraction_of_orthogroup_itchsuppsp_proteins = num_itchsuppsp_proteins_in_orthogroup / num_proteins_in_orthogroup) %>%\n",
    "  distinct()"
   ]
  },
  {
   "cell_type": "markdown",
   "id": "bf9d5750-1729-4b7b-98fc-b4fa3b319d3b",
   "metadata": {},
   "source": [
    "### Calculate things for peptides\n",
    "\n",
    "Includes\n",
    "- number of proteins with a predicted peptide. Some proteins had multiple peptides. For this metric, we only count those things once.\n",
    "- number of predicted sORF peptides per orthogroup\n",
    "- number of predicted sORF peptides with a signal peptide\n",
    "- number of predicted cleavage peptides per orthogroup\n",
    "- number of proteins the cleavage peptides are from"
   ]
  },
  {
   "cell_type": "code",
   "execution_count": 13,
   "id": "33d05545-587e-42c0-bd19-6ca281fbf892",
   "metadata": {},
   "outputs": [
    {
     "name": "stderr",
     "output_type": "stream",
     "text": [
      "Warning message:\n",
      "“\u001b[1m\u001b[22mReturning more (or less) than 1 row per `summarise()` group was deprecated in dplyr 1.1.0.\n",
      "\u001b[36mℹ\u001b[39m Please use `reframe()` instead.\n",
      "\u001b[36mℹ\u001b[39m When switching from `summarise()` to `reframe()`, remember that `reframe()` always returns an ungrouped data frame and adjust accordingly.”\n",
      "\u001b[1m\u001b[22m`summarise()` has grouped output by 'traitmapping_orthogroup', 'num_proteins_in_orthogroup'. You can override using the `.groups` argument.\n"
     ]
    }
   ],
   "source": [
    "# Some proteins had multiple peptides predicted from them.\n",
    "# Only count the protein once, even if it had multiple peptides predicted from it.\n",
    "num_proteins_with_predicted_peptide <- trait_mapping_metadata %>%\n",
    "  left_join(peptigate_predictions, by = \"traitmapping_locus_tag\") %>% \n",
    "  mutate(peptigate_peptide_prediction = ifelse(is.na(peptigate_peptide_class), \"no peptide prediction\", \"peptide prediction\")) %>%\n",
    "  # Arbitrarily select one peptide prediction for each protein, just for counting.\n",
    "  # This shouldn't impact selection of whether there is a peptide prediction, since only peptides with multiple predictions will be removed\n",
    "  group_by(traitmapping_locus_tag, traitmapping_orthogroup) %>%\n",
    "  slice_head(n = 1) %>%\n",
    "  ungroup() %>%\n",
    "  left_join(num_proteins_in_orthogroup, by = \"traitmapping_orthogroup\") %>%\n",
    "  group_by(traitmapping_orthogroup, num_proteins_in_orthogroup) %>%\n",
    "  summarize(num_proteins_with_a_predicted_peptide = sum(peptigate_peptide_prediction == \"peptide prediction\"),\n",
    "            fraction_of_orthogroup_with_predicted_peptide = num_proteins_with_a_predicted_peptide / num_proteins_in_orthogroup) %>%\n",
    "  distinct() %>%\n",
    "  arrange(desc(fraction_of_orthogroup_with_predicted_peptide))"
   ]
  },
  {
   "cell_type": "code",
   "execution_count": 14,
   "id": "a31319bd-5ded-45e6-b001-76723d07ee61",
   "metadata": {},
   "outputs": [],
   "source": [
    "# average number of peptide predictions per protein within orthogroup\n",
    "mean_num_peptides_predicted_per_protein_in_orthogroup <- trait_mapping_metadata %>%\n",
    "  left_join(peptigate_predictions, by = \"traitmapping_locus_tag\") %>% \n",
    "  group_by(traitmapping_orthogroup, traitmapping_locus_tag) %>%\n",
    "  tally() %>% \n",
    "  group_by(traitmapping_orthogroup) %>%\n",
    "  summarize(mean_num_peptides_predicted_per_protein_in_orthogroup = mean(n)) %>%\n",
    "  arrange(desc(mean_num_peptides_predicted_per_protein_in_orthogroup))"
   ]
  },
  {
   "cell_type": "code",
   "execution_count": 15,
   "id": "b20ceb82-8145-4ec3-829a-ab0a60e22f84",
   "metadata": {},
   "outputs": [
    {
     "name": "stderr",
     "output_type": "stream",
     "text": [
      "\u001b[1m\u001b[22m`summarise()` has grouped output by 'traitmapping_cluster', 'traitmapping_orthogroup', 'traitmapping_coefficient', 'traitmapping_signif_level'. You can\n",
      "override using the `.groups` argument.\n"
     ]
    }
   ],
   "source": [
    "traits_of_peptides_in_orthogroup <- trait_mapping_metadata %>%\n",
    "  # join to peptide predictions\n",
    "  # note this will produce double counting for any locus_tag (protein) with multiple peptide predictions\n",
    "  left_join(peptigate_predictions, by = \"traitmapping_locus_tag\") %>%\n",
    "  # join to peptide prediction hits in the tick salivary gland transcriptomes\n",
    "  left_join(tsa_sg_blastp, by = c(\"peptigate_peptide_id\" = \"sgpeptide_blast_qseqid\")) %>%\n",
    "  mutate(peptigate_peptide_prediction = ifelse(is.na(peptigate_peptide_class), \"no peptide prediction\", \"peptide prediction\"),\n",
    "         species_suppresses_itch = ifelse(traitmapping_species %in% evidence_of_itch_suppression_species, \"evidence suppresses itch\", \"no evidence suppresses itch\"),\n",
    "         species_is_a_tick = ifelse(traitmapping_species %in% ticks, \"tick\", \"not tick\")) %>%\n",
    "  group_by(traitmapping_cluster, traitmapping_orthogroup, traitmapping_coefficient, traitmapping_signif_level, traitmapping_signif_fdr) %>%\n",
    "  summarize(num_predicted_peptides = sum(peptigate_peptide_prediction == \"peptide prediction\"),\n",
    "            num_predicted_peptides_from_tick = sum(peptigate_peptide_prediction == \"peptide prediction\" & species_is_a_tick == \"tick\"),\n",
    "            num_predicted_peptides_from_itchsuppsp = sum(peptigate_peptide_prediction == \"peptide prediction\" & species_suppresses_itch == \"evidence suppresses itch\"), \n",
    "            num_predicted_peptides_with_sg_blast_hit = sum(!is.na(sgpeptide_blast_bitscore)),\n",
    "            num_predicted_peptides_with_signal_peptide = sum(traitmapping_deepsig_feature == \"Signal peptide\" & peptigate_peptide_prediction == \"peptide prediction\"),\n",
    "            num_sORF_peptide_predictions = sum(peptigate_peptide_type == \"sORF\", na.rm = TRUE),\n",
    "            num_sORF_with_signal_peptide = sum(peptigate_peptide_type == \"sORF\" & traitmapping_deepsig_feature == \"Signal peptide\", na.rm = TRUE),\n",
    "            num_cleavage_peptide_predictions = sum(peptigate_peptide_type == \"cleavage\", na.rm = TRUE),\n",
    "            num_cleavage_with_signal_peptide = sum(peptigate_peptide_type == \"cleavage\" & traitmapping_deepsig_feature == \"Signal peptide\", na.rm = TRUE),\n",
    "            type_of_itch_suppression_evidence = ifelse(num_predicted_peptides_from_itchsuppsp > num_predicted_peptides_from_tick, \"chelicerate support\", \n",
    "                                                       ifelse(num_predicted_peptides_from_tick > 0, \"tick support\", \"no support\"))\n",
    "  ) %>%\n",
    "  ungroup() %>%\n",
    "  arrange(desc(num_predicted_peptides_with_signal_peptide))"
   ]
  },
  {
   "cell_type": "code",
   "execution_count": 18,
   "id": "9255143a-8765-4cac-9983-d455dc7e081c",
   "metadata": {},
   "outputs": [],
   "source": [
    "orthogroup_peptide_summary <- left_join(num_proteins_with_predicted_peptide, traits_of_proteins_in_orthogroup, by = c(\"traitmapping_orthogroup\", \"num_proteins_in_orthogroup\")) %>%\n",
    "  left_join(mean_num_peptides_predicted_per_protein_in_orthogroup, by = \"traitmapping_orthogroup\") %>%\n",
    "  left_join(traits_of_peptides_in_orthogroup, by = \"traitmapping_orthogroup\")"
   ]
  },
  {
   "cell_type": "code",
   "execution_count": 19,
   "id": "fcdcdb08-b331-483c-94cc-996c5d8f21f4",
   "metadata": {},
   "outputs": [
    {
     "data": {
      "text/html": [
       "<table class=\"dataframe\">\n",
       "<caption>A grouped_df: 13 × 25</caption>\n",
       "<thead>\n",
       "\t<tr><th scope=col>traitmapping_orthogroup</th><th scope=col>num_proteins_in_orthogroup</th><th scope=col>num_proteins_with_a_predicted_peptide</th><th scope=col>fraction_of_orthogroup_with_predicted_peptide</th><th scope=col>num_tick_proteins_in_orthogroup</th><th scope=col>fraction_of_orthogroup_tick_proteins</th><th scope=col>num_tick_proteins_in_orthogroup_with_signal_peptide</th><th scope=col>fraction_of_orthogroup_with_signal_peptide</th><th scope=col>num_itchsuppsp_proteins_in_orthogroup</th><th scope=col>fraction_of_orthogroup_itchsuppsp_proteins</th><th scope=col>⋯</th><th scope=col>num_predicted_peptides</th><th scope=col>num_predicted_peptides_from_tick</th><th scope=col>num_predicted_peptides_from_itchsuppsp</th><th scope=col>num_predicted_peptides_with_sg_blast_hit</th><th scope=col>num_predicted_peptides_with_signal_peptide</th><th scope=col>num_sORF_peptide_predictions</th><th scope=col>num_sORF_with_signal_peptide</th><th scope=col>num_cleavage_peptide_predictions</th><th scope=col>num_cleavage_with_signal_peptide</th><th scope=col>type_of_itch_suppression_evidence</th></tr>\n",
       "\t<tr><th scope=col>&lt;chr&gt;</th><th scope=col>&lt;int&gt;</th><th scope=col>&lt;int&gt;</th><th scope=col>&lt;dbl&gt;</th><th scope=col>&lt;int&gt;</th><th scope=col>&lt;dbl&gt;</th><th scope=col>&lt;int&gt;</th><th scope=col>&lt;dbl&gt;</th><th scope=col>&lt;int&gt;</th><th scope=col>&lt;dbl&gt;</th><th scope=col>⋯</th><th scope=col>&lt;int&gt;</th><th scope=col>&lt;int&gt;</th><th scope=col>&lt;int&gt;</th><th scope=col>&lt;int&gt;</th><th scope=col>&lt;int&gt;</th><th scope=col>&lt;int&gt;</th><th scope=col>&lt;int&gt;</th><th scope=col>&lt;int&gt;</th><th scope=col>&lt;int&gt;</th><th scope=col>&lt;chr&gt;</th></tr>\n",
       "</thead>\n",
       "<tbody>\n",
       "\t<tr><td>OG0011284</td><td>  9</td><td> 1</td><td>0.11111111</td><td>  8</td><td>0.8888889</td><td> 0</td><td>0.000000000</td><td>  8</td><td>0.8888889</td><td>⋯</td><td> 1</td><td> 1</td><td> 1</td><td> 1</td><td> 0</td><td> 1</td><td> 0</td><td> 0</td><td> 0</td><td>tick support       </td></tr>\n",
       "\t<tr><td>OG0008888</td><td> 16</td><td> 1</td><td>0.06250000</td><td> 16</td><td>1.0000000</td><td> 7</td><td>0.437500000</td><td> 16</td><td>1.0000000</td><td>⋯</td><td> 1</td><td> 1</td><td> 1</td><td> 1</td><td> 0</td><td> 1</td><td> 0</td><td> 0</td><td> 0</td><td>tick support       </td></tr>\n",
       "\t<tr><td>OG0001774</td><td> 62</td><td>41</td><td>0.66129032</td><td> 48</td><td>0.7741935</td><td>39</td><td>0.629032258</td><td> 49</td><td>0.7903226</td><td>⋯</td><td>45</td><td>38</td><td>39</td><td>34</td><td>36</td><td>38</td><td>32</td><td> 7</td><td> 4</td><td>chelicerate support</td></tr>\n",
       "\t<tr><td>OG0008102</td><td> 20</td><td>14</td><td>0.70000000</td><td> 20</td><td>1.0000000</td><td>14</td><td>0.700000000</td><td> 20</td><td>1.0000000</td><td>⋯</td><td>18</td><td>18</td><td>18</td><td>13</td><td>13</td><td> 3</td><td> 2</td><td>15</td><td>11</td><td>tick support       </td></tr>\n",
       "\t<tr><td>OG0002194</td><td> 56</td><td> 2</td><td>0.03571429</td><td> 45</td><td>0.8035714</td><td> 1</td><td>0.017857143</td><td> 45</td><td>0.8035714</td><td>⋯</td><td> 2</td><td> 2</td><td> 2</td><td> 1</td><td> 0</td><td> 2</td><td> 0</td><td> 0</td><td> 0</td><td>tick support       </td></tr>\n",
       "\t<tr><td>OG0000189</td><td>240</td><td>21</td><td>0.08750000</td><td>193</td><td>0.8041667</td><td>22</td><td>0.091666667</td><td>195</td><td>0.8125000</td><td>⋯</td><td>21</td><td>20</td><td>20</td><td>15</td><td> 0</td><td>20</td><td> 0</td><td> 1</td><td> 0</td><td>tick support       </td></tr>\n",
       "\t<tr><td>OG0000746</td><td>102</td><td> 5</td><td>0.04901961</td><td> 71</td><td>0.6960784</td><td> 2</td><td>0.019607843</td><td> 72</td><td>0.7058824</td><td>⋯</td><td> 5</td><td> 4</td><td> 4</td><td> 2</td><td> 0</td><td> 5</td><td> 0</td><td> 0</td><td> 0</td><td>tick support       </td></tr>\n",
       "\t<tr><td>OG0000194</td><td>237</td><td>23</td><td>0.09704641</td><td>203</td><td>0.8565401</td><td>16</td><td>0.067510549</td><td>203</td><td>0.8565401</td><td>⋯</td><td>23</td><td>21</td><td>21</td><td>10</td><td> 0</td><td>23</td><td> 0</td><td> 0</td><td> 0</td><td>tick support       </td></tr>\n",
       "\t<tr><td>OG0000880</td><td> 93</td><td>68</td><td>0.73118280</td><td> 92</td><td>0.9892473</td><td>53</td><td>0.569892473</td><td> 92</td><td>0.9892473</td><td>⋯</td><td>84</td><td>82</td><td>82</td><td>30</td><td>40</td><td> 0</td><td> 0</td><td>84</td><td>40</td><td>tick support       </td></tr>\n",
       "\t<tr><td>OG0001663</td><td> 64</td><td> 6</td><td>0.09375000</td><td> 64</td><td>1.0000000</td><td> 2</td><td>0.031250000</td><td> 64</td><td>1.0000000</td><td>⋯</td><td> 6</td><td> 6</td><td> 6</td><td> 4</td><td> 0</td><td> 6</td><td> 0</td><td> 0</td><td> 0</td><td>tick support       </td></tr>\n",
       "\t<tr><td>OG0000385</td><td>154</td><td> 9</td><td>0.05844156</td><td>146</td><td>0.9480519</td><td> 4</td><td>0.025974026</td><td>146</td><td>0.9480519</td><td>⋯</td><td> 9</td><td> 8</td><td> 8</td><td> 2</td><td> 0</td><td> 7</td><td> 0</td><td> 2</td><td> 0</td><td>tick support       </td></tr>\n",
       "\t<tr><td>OG0000143</td><td>281</td><td>10</td><td>0.03558719</td><td>231</td><td>0.8220641</td><td>10</td><td>0.035587189</td><td>231</td><td>0.8220641</td><td>⋯</td><td>11</td><td>10</td><td>10</td><td> 5</td><td> 2</td><td> 8</td><td> 0</td><td> 3</td><td> 2</td><td>tick support       </td></tr>\n",
       "\t<tr><td>OG0000079</td><td>394</td><td>55</td><td>0.13959391</td><td>293</td><td>0.7436548</td><td> 1</td><td>0.002538071</td><td>293</td><td>0.7436548</td><td>⋯</td><td>55</td><td>50</td><td>50</td><td>28</td><td> 1</td><td>54</td><td> 1</td><td> 1</td><td> 0</td><td>tick support       </td></tr>\n",
       "</tbody>\n",
       "</table>\n"
      ],
      "text/latex": [
       "A grouped\\_df: 13 × 25\n",
       "\\begin{tabular}{lllllllllllllllllllll}\n",
       " traitmapping\\_orthogroup & num\\_proteins\\_in\\_orthogroup & num\\_proteins\\_with\\_a\\_predicted\\_peptide & fraction\\_of\\_orthogroup\\_with\\_predicted\\_peptide & num\\_tick\\_proteins\\_in\\_orthogroup & fraction\\_of\\_orthogroup\\_tick\\_proteins & num\\_tick\\_proteins\\_in\\_orthogroup\\_with\\_signal\\_peptide & fraction\\_of\\_orthogroup\\_with\\_signal\\_peptide & num\\_itchsuppsp\\_proteins\\_in\\_orthogroup & fraction\\_of\\_orthogroup\\_itchsuppsp\\_proteins & ⋯ & num\\_predicted\\_peptides & num\\_predicted\\_peptides\\_from\\_tick & num\\_predicted\\_peptides\\_from\\_itchsuppsp & num\\_predicted\\_peptides\\_with\\_sg\\_blast\\_hit & num\\_predicted\\_peptides\\_with\\_signal\\_peptide & num\\_sORF\\_peptide\\_predictions & num\\_sORF\\_with\\_signal\\_peptide & num\\_cleavage\\_peptide\\_predictions & num\\_cleavage\\_with\\_signal\\_peptide & type\\_of\\_itch\\_suppression\\_evidence\\\\\n",
       " <chr> & <int> & <int> & <dbl> & <int> & <dbl> & <int> & <dbl> & <int> & <dbl> & ⋯ & <int> & <int> & <int> & <int> & <int> & <int> & <int> & <int> & <int> & <chr>\\\\\n",
       "\\hline\n",
       "\t OG0011284 &   9 &  1 & 0.11111111 &   8 & 0.8888889 &  0 & 0.000000000 &   8 & 0.8888889 & ⋯ &  1 &  1 &  1 &  1 &  0 &  1 &  0 &  0 &  0 & tick support       \\\\\n",
       "\t OG0008888 &  16 &  1 & 0.06250000 &  16 & 1.0000000 &  7 & 0.437500000 &  16 & 1.0000000 & ⋯ &  1 &  1 &  1 &  1 &  0 &  1 &  0 &  0 &  0 & tick support       \\\\\n",
       "\t OG0001774 &  62 & 41 & 0.66129032 &  48 & 0.7741935 & 39 & 0.629032258 &  49 & 0.7903226 & ⋯ & 45 & 38 & 39 & 34 & 36 & 38 & 32 &  7 &  4 & chelicerate support\\\\\n",
       "\t OG0008102 &  20 & 14 & 0.70000000 &  20 & 1.0000000 & 14 & 0.700000000 &  20 & 1.0000000 & ⋯ & 18 & 18 & 18 & 13 & 13 &  3 &  2 & 15 & 11 & tick support       \\\\\n",
       "\t OG0002194 &  56 &  2 & 0.03571429 &  45 & 0.8035714 &  1 & 0.017857143 &  45 & 0.8035714 & ⋯ &  2 &  2 &  2 &  1 &  0 &  2 &  0 &  0 &  0 & tick support       \\\\\n",
       "\t OG0000189 & 240 & 21 & 0.08750000 & 193 & 0.8041667 & 22 & 0.091666667 & 195 & 0.8125000 & ⋯ & 21 & 20 & 20 & 15 &  0 & 20 &  0 &  1 &  0 & tick support       \\\\\n",
       "\t OG0000746 & 102 &  5 & 0.04901961 &  71 & 0.6960784 &  2 & 0.019607843 &  72 & 0.7058824 & ⋯ &  5 &  4 &  4 &  2 &  0 &  5 &  0 &  0 &  0 & tick support       \\\\\n",
       "\t OG0000194 & 237 & 23 & 0.09704641 & 203 & 0.8565401 & 16 & 0.067510549 & 203 & 0.8565401 & ⋯ & 23 & 21 & 21 & 10 &  0 & 23 &  0 &  0 &  0 & tick support       \\\\\n",
       "\t OG0000880 &  93 & 68 & 0.73118280 &  92 & 0.9892473 & 53 & 0.569892473 &  92 & 0.9892473 & ⋯ & 84 & 82 & 82 & 30 & 40 &  0 &  0 & 84 & 40 & tick support       \\\\\n",
       "\t OG0001663 &  64 &  6 & 0.09375000 &  64 & 1.0000000 &  2 & 0.031250000 &  64 & 1.0000000 & ⋯ &  6 &  6 &  6 &  4 &  0 &  6 &  0 &  0 &  0 & tick support       \\\\\n",
       "\t OG0000385 & 154 &  9 & 0.05844156 & 146 & 0.9480519 &  4 & 0.025974026 & 146 & 0.9480519 & ⋯ &  9 &  8 &  8 &  2 &  0 &  7 &  0 &  2 &  0 & tick support       \\\\\n",
       "\t OG0000143 & 281 & 10 & 0.03558719 & 231 & 0.8220641 & 10 & 0.035587189 & 231 & 0.8220641 & ⋯ & 11 & 10 & 10 &  5 &  2 &  8 &  0 &  3 &  2 & tick support       \\\\\n",
       "\t OG0000079 & 394 & 55 & 0.13959391 & 293 & 0.7436548 &  1 & 0.002538071 & 293 & 0.7436548 & ⋯ & 55 & 50 & 50 & 28 &  1 & 54 &  1 &  1 &  0 & tick support       \\\\\n",
       "\\end{tabular}\n"
      ],
      "text/markdown": [
       "\n",
       "A grouped_df: 13 × 25\n",
       "\n",
       "| traitmapping_orthogroup &lt;chr&gt; | num_proteins_in_orthogroup &lt;int&gt; | num_proteins_with_a_predicted_peptide &lt;int&gt; | fraction_of_orthogroup_with_predicted_peptide &lt;dbl&gt; | num_tick_proteins_in_orthogroup &lt;int&gt; | fraction_of_orthogroup_tick_proteins &lt;dbl&gt; | num_tick_proteins_in_orthogroup_with_signal_peptide &lt;int&gt; | fraction_of_orthogroup_with_signal_peptide &lt;dbl&gt; | num_itchsuppsp_proteins_in_orthogroup &lt;int&gt; | fraction_of_orthogroup_itchsuppsp_proteins &lt;dbl&gt; | ⋯ ⋯ | num_predicted_peptides &lt;int&gt; | num_predicted_peptides_from_tick &lt;int&gt; | num_predicted_peptides_from_itchsuppsp &lt;int&gt; | num_predicted_peptides_with_sg_blast_hit &lt;int&gt; | num_predicted_peptides_with_signal_peptide &lt;int&gt; | num_sORF_peptide_predictions &lt;int&gt; | num_sORF_with_signal_peptide &lt;int&gt; | num_cleavage_peptide_predictions &lt;int&gt; | num_cleavage_with_signal_peptide &lt;int&gt; | type_of_itch_suppression_evidence &lt;chr&gt; |\n",
       "|---|---|---|---|---|---|---|---|---|---|---|---|---|---|---|---|---|---|---|---|---|\n",
       "| OG0011284 |   9 |  1 | 0.11111111 |   8 | 0.8888889 |  0 | 0.000000000 |   8 | 0.8888889 | ⋯ |  1 |  1 |  1 |  1 |  0 |  1 |  0 |  0 |  0 | tick support        |\n",
       "| OG0008888 |  16 |  1 | 0.06250000 |  16 | 1.0000000 |  7 | 0.437500000 |  16 | 1.0000000 | ⋯ |  1 |  1 |  1 |  1 |  0 |  1 |  0 |  0 |  0 | tick support        |\n",
       "| OG0001774 |  62 | 41 | 0.66129032 |  48 | 0.7741935 | 39 | 0.629032258 |  49 | 0.7903226 | ⋯ | 45 | 38 | 39 | 34 | 36 | 38 | 32 |  7 |  4 | chelicerate support |\n",
       "| OG0008102 |  20 | 14 | 0.70000000 |  20 | 1.0000000 | 14 | 0.700000000 |  20 | 1.0000000 | ⋯ | 18 | 18 | 18 | 13 | 13 |  3 |  2 | 15 | 11 | tick support        |\n",
       "| OG0002194 |  56 |  2 | 0.03571429 |  45 | 0.8035714 |  1 | 0.017857143 |  45 | 0.8035714 | ⋯ |  2 |  2 |  2 |  1 |  0 |  2 |  0 |  0 |  0 | tick support        |\n",
       "| OG0000189 | 240 | 21 | 0.08750000 | 193 | 0.8041667 | 22 | 0.091666667 | 195 | 0.8125000 | ⋯ | 21 | 20 | 20 | 15 |  0 | 20 |  0 |  1 |  0 | tick support        |\n",
       "| OG0000746 | 102 |  5 | 0.04901961 |  71 | 0.6960784 |  2 | 0.019607843 |  72 | 0.7058824 | ⋯ |  5 |  4 |  4 |  2 |  0 |  5 |  0 |  0 |  0 | tick support        |\n",
       "| OG0000194 | 237 | 23 | 0.09704641 | 203 | 0.8565401 | 16 | 0.067510549 | 203 | 0.8565401 | ⋯ | 23 | 21 | 21 | 10 |  0 | 23 |  0 |  0 |  0 | tick support        |\n",
       "| OG0000880 |  93 | 68 | 0.73118280 |  92 | 0.9892473 | 53 | 0.569892473 |  92 | 0.9892473 | ⋯ | 84 | 82 | 82 | 30 | 40 |  0 |  0 | 84 | 40 | tick support        |\n",
       "| OG0001663 |  64 |  6 | 0.09375000 |  64 | 1.0000000 |  2 | 0.031250000 |  64 | 1.0000000 | ⋯ |  6 |  6 |  6 |  4 |  0 |  6 |  0 |  0 |  0 | tick support        |\n",
       "| OG0000385 | 154 |  9 | 0.05844156 | 146 | 0.9480519 |  4 | 0.025974026 | 146 | 0.9480519 | ⋯ |  9 |  8 |  8 |  2 |  0 |  7 |  0 |  2 |  0 | tick support        |\n",
       "| OG0000143 | 281 | 10 | 0.03558719 | 231 | 0.8220641 | 10 | 0.035587189 | 231 | 0.8220641 | ⋯ | 11 | 10 | 10 |  5 |  2 |  8 |  0 |  3 |  2 | tick support        |\n",
       "| OG0000079 | 394 | 55 | 0.13959391 | 293 | 0.7436548 |  1 | 0.002538071 | 293 | 0.7436548 | ⋯ | 55 | 50 | 50 | 28 |  1 | 54 |  1 |  1 |  0 | tick support        |\n",
       "\n"
      ],
      "text/plain": [
       "   traitmapping_orthogroup num_proteins_in_orthogroup\n",
       "1  OG0011284                 9                       \n",
       "2  OG0008888                16                       \n",
       "3  OG0001774                62                       \n",
       "4  OG0008102                20                       \n",
       "5  OG0002194                56                       \n",
       "6  OG0000189               240                       \n",
       "7  OG0000746               102                       \n",
       "8  OG0000194               237                       \n",
       "9  OG0000880                93                       \n",
       "10 OG0001663                64                       \n",
       "11 OG0000385               154                       \n",
       "12 OG0000143               281                       \n",
       "13 OG0000079               394                       \n",
       "   num_proteins_with_a_predicted_peptide\n",
       "1   1                                   \n",
       "2   1                                   \n",
       "3  41                                   \n",
       "4  14                                   \n",
       "5   2                                   \n",
       "6  21                                   \n",
       "7   5                                   \n",
       "8  23                                   \n",
       "9  68                                   \n",
       "10  6                                   \n",
       "11  9                                   \n",
       "12 10                                   \n",
       "13 55                                   \n",
       "   fraction_of_orthogroup_with_predicted_peptide\n",
       "1  0.11111111                                   \n",
       "2  0.06250000                                   \n",
       "3  0.66129032                                   \n",
       "4  0.70000000                                   \n",
       "5  0.03571429                                   \n",
       "6  0.08750000                                   \n",
       "7  0.04901961                                   \n",
       "8  0.09704641                                   \n",
       "9  0.73118280                                   \n",
       "10 0.09375000                                   \n",
       "11 0.05844156                                   \n",
       "12 0.03558719                                   \n",
       "13 0.13959391                                   \n",
       "   num_tick_proteins_in_orthogroup fraction_of_orthogroup_tick_proteins\n",
       "1    8                             0.8888889                           \n",
       "2   16                             1.0000000                           \n",
       "3   48                             0.7741935                           \n",
       "4   20                             1.0000000                           \n",
       "5   45                             0.8035714                           \n",
       "6  193                             0.8041667                           \n",
       "7   71                             0.6960784                           \n",
       "8  203                             0.8565401                           \n",
       "9   92                             0.9892473                           \n",
       "10  64                             1.0000000                           \n",
       "11 146                             0.9480519                           \n",
       "12 231                             0.8220641                           \n",
       "13 293                             0.7436548                           \n",
       "   num_tick_proteins_in_orthogroup_with_signal_peptide\n",
       "1   0                                                 \n",
       "2   7                                                 \n",
       "3  39                                                 \n",
       "4  14                                                 \n",
       "5   1                                                 \n",
       "6  22                                                 \n",
       "7   2                                                 \n",
       "8  16                                                 \n",
       "9  53                                                 \n",
       "10  2                                                 \n",
       "11  4                                                 \n",
       "12 10                                                 \n",
       "13  1                                                 \n",
       "   fraction_of_orthogroup_with_signal_peptide\n",
       "1  0.000000000                               \n",
       "2  0.437500000                               \n",
       "3  0.629032258                               \n",
       "4  0.700000000                               \n",
       "5  0.017857143                               \n",
       "6  0.091666667                               \n",
       "7  0.019607843                               \n",
       "8  0.067510549                               \n",
       "9  0.569892473                               \n",
       "10 0.031250000                               \n",
       "11 0.025974026                               \n",
       "12 0.035587189                               \n",
       "13 0.002538071                               \n",
       "   num_itchsuppsp_proteins_in_orthogroup\n",
       "1    8                                  \n",
       "2   16                                  \n",
       "3   49                                  \n",
       "4   20                                  \n",
       "5   45                                  \n",
       "6  195                                  \n",
       "7   72                                  \n",
       "8  203                                  \n",
       "9   92                                  \n",
       "10  64                                  \n",
       "11 146                                  \n",
       "12 231                                  \n",
       "13 293                                  \n",
       "   fraction_of_orthogroup_itchsuppsp_proteins ⋯ num_predicted_peptides\n",
       "1  0.8888889                                  ⋯  1                    \n",
       "2  1.0000000                                  ⋯  1                    \n",
       "3  0.7903226                                  ⋯ 45                    \n",
       "4  1.0000000                                  ⋯ 18                    \n",
       "5  0.8035714                                  ⋯  2                    \n",
       "6  0.8125000                                  ⋯ 21                    \n",
       "7  0.7058824                                  ⋯  5                    \n",
       "8  0.8565401                                  ⋯ 23                    \n",
       "9  0.9892473                                  ⋯ 84                    \n",
       "10 1.0000000                                  ⋯  6                    \n",
       "11 0.9480519                                  ⋯  9                    \n",
       "12 0.8220641                                  ⋯ 11                    \n",
       "13 0.7436548                                  ⋯ 55                    \n",
       "   num_predicted_peptides_from_tick num_predicted_peptides_from_itchsuppsp\n",
       "1   1                                1                                    \n",
       "2   1                                1                                    \n",
       "3  38                               39                                    \n",
       "4  18                               18                                    \n",
       "5   2                                2                                    \n",
       "6  20                               20                                    \n",
       "7   4                                4                                    \n",
       "8  21                               21                                    \n",
       "9  82                               82                                    \n",
       "10  6                                6                                    \n",
       "11  8                                8                                    \n",
       "12 10                               10                                    \n",
       "13 50                               50                                    \n",
       "   num_predicted_peptides_with_sg_blast_hit\n",
       "1   1                                      \n",
       "2   1                                      \n",
       "3  34                                      \n",
       "4  13                                      \n",
       "5   1                                      \n",
       "6  15                                      \n",
       "7   2                                      \n",
       "8  10                                      \n",
       "9  30                                      \n",
       "10  4                                      \n",
       "11  2                                      \n",
       "12  5                                      \n",
       "13 28                                      \n",
       "   num_predicted_peptides_with_signal_peptide num_sORF_peptide_predictions\n",
       "1   0                                          1                          \n",
       "2   0                                          1                          \n",
       "3  36                                         38                          \n",
       "4  13                                          3                          \n",
       "5   0                                          2                          \n",
       "6   0                                         20                          \n",
       "7   0                                          5                          \n",
       "8   0                                         23                          \n",
       "9  40                                          0                          \n",
       "10  0                                          6                          \n",
       "11  0                                          7                          \n",
       "12  2                                          8                          \n",
       "13  1                                         54                          \n",
       "   num_sORF_with_signal_peptide num_cleavage_peptide_predictions\n",
       "1   0                            0                              \n",
       "2   0                            0                              \n",
       "3  32                            7                              \n",
       "4   2                           15                              \n",
       "5   0                            0                              \n",
       "6   0                            1                              \n",
       "7   0                            0                              \n",
       "8   0                            0                              \n",
       "9   0                           84                              \n",
       "10  0                            0                              \n",
       "11  0                            2                              \n",
       "12  0                            3                              \n",
       "13  1                            1                              \n",
       "   num_cleavage_with_signal_peptide type_of_itch_suppression_evidence\n",
       "1   0                               tick support                     \n",
       "2   0                               tick support                     \n",
       "3   4                               chelicerate support              \n",
       "4  11                               tick support                     \n",
       "5   0                               tick support                     \n",
       "6   0                               tick support                     \n",
       "7   0                               tick support                     \n",
       "8   0                               tick support                     \n",
       "9  40                               tick support                     \n",
       "10  0                               tick support                     \n",
       "11  0                               tick support                     \n",
       "12  2                               tick support                     \n",
       "13  0                               tick support                     "
      ]
     },
     "metadata": {},
     "output_type": "display_data"
    }
   ],
   "source": [
    "orthogroup_peptide_summary_filtered <- orthogroup_peptide_summary %>%\n",
    "  # filter out orthogroups that had no predicted peptides\n",
    "  filter(num_predicted_peptides > 0) %>%\n",
    "  # filter out orthogroups that had no evidence of being expressed in salivary gland\n",
    "  filter(num_predicted_peptides_with_sg_blast_hit > 0) %>%\n",
    "  arrange(desc(traitmapping_coefficient))\n",
    "\n",
    "orthogroup_peptide_summary_filtered "
   ]
  },
  {
   "cell_type": "code",
   "execution_count": 21,
   "id": "2edfef2c-87cd-4e4b-9d82-f21297d3666b",
   "metadata": {},
   "outputs": [],
   "source": [
    "# reorder the columns so the table is easier to interpret\n",
    "orthogroup_peptide_summary_filtered <- orthogroup_peptide_summary_filtered %>%\n",
    "  select(traitmapping_cluster, traitmapping_orthogroup, traitmapping_coefficient, traitmapping_signif_level, traitmapping_signif_fdr,\n",
    "         num_proteins_in_orthogroup, num_proteins_with_a_predicted_peptide, fraction_of_orthogroup_with_predicted_peptide,\n",
    "         num_predicted_peptides_with_signal_peptide, num_sORF_peptide_predictions, num_sORF_with_signal_peptide, \n",
    "         num_cleavage_peptide_predictions, num_cleavage_with_signal_peptide, num_predicted_peptides_with_sg_blast_hit,   \n",
    "         num_predicted_peptides_from_tick, num_predicted_peptides_from_itchsuppsp, type_of_itch_suppression_evidence,  \n",
    "         num_tick_proteins_in_orthogroup, fraction_of_orthogroup_tick_proteins,\n",
    "         num_tick_proteins_in_orthogroup_with_signal_peptide, fraction_of_orthogroup_with_signal_peptide, \n",
    "         num_itchsuppsp_proteins_in_orthogroup, fraction_of_orthogroup_itchsuppsp_proteins) %>%\n",
    "  arrange(desc(fraction_of_orthogroup_with_predicted_peptide))"
   ]
  },
  {
   "cell_type": "code",
   "execution_count": 22,
   "id": "8f540b81-bfd4-4d93-bf81-2d158ba95d11",
   "metadata": {},
   "outputs": [],
   "source": [
    "write_tsv(orthogroup_peptide_summary_filtered, \"outputs/notebooks/20240626_orthogroup_peptide_summary.tsv\")"
   ]
  },
  {
   "cell_type": "markdown",
   "id": "72b1c176-a557-4f20-ae74-b3ed2cdb1913",
   "metadata": {},
   "source": [
    "We made a data frame that summarizes our ToT peptigate results.\n",
    "See a description of the columns below.\n",
    "\n",
    "**Trait mapping results**: We included some relevant trait mapping analysis results to help contextualize the rest of the results.\n",
    "- **traitmapping_cluster**: Identifier for the cluster within which the orthogroup was analyzed.\n",
    "- **traitmapping_orthogroup**: Identifier for the orthogroup being analyzed.\n",
    "- **traitmapping_coefficient**: Regression coefficient from the logistic regression associating orthogroup presence with itch suppression.\n",
    "- **traitmapping_signif_level**: Indicates whether the association between the orthogroup and itch suppression is statistically significant.\n",
    "- **traitmapping_signif_fdr**: False discovery rate adjusted p-value for the significance of the association.\n",
    "\n",
    "**Relevant protein trait information**:\n",
    "- **num_proteins_in_orthogroup**: Total number of proteins within the specified orthogroup.\n",
    "- **num_proteins_with_a_predicted_peptide**: Count of proteins in the orthogroup with at least one predicted peptide.\n",
    "- **fraction_of_orthogroup_with_predicted_peptide**: Fraction of proteins in the orthogroup with at least one predicted peptide.\n",
    "\n",
    "**Peptide trait information**: Some proteins had multiple peptide predictions. These counts count all predicted peptides.\n",
    "- **num_predicted_peptides_with_signal_peptide**: Number of predicted peptides that contain a signal peptide.\n",
    "- **num_sORF_peptide_predictions**: Number of predicted peptides classified as sORF within the orthogroup.\n",
    "- **num_sORF_with_signal_peptide**: Number of sORF peptides that contain a signal peptide.\n",
    "- **num_cleavage_peptide_predictions**: Number of predicted peptides classified as cleavage peptides within the orthogroup.\n",
    "- **num_cleavage_with_signal_peptide**: Number of cleavage peptides that contain a signal peptide.\n",
    "- **num_predicted_peptides_with_sg_blast_hit**: Number of predicted peptides that matched sequences in the salivary gland transcriptomes.\n",
    "- **num_predicted_peptides_from_tick**: Number of predicted peptides derived from tick species within the orthogroup.\n",
    "- **num_predicted_peptides_from_itchsuppsp**: Number of predicted peptides derived from all itch-suppressing species within the orthogroup.\n",
    "- **type_of_itch_suppression_evidence**: Either `chelicerate support`, `tick support`, or `no support`. `Chelicerate support` means that the orthogroup was associated with itch suppression and that there were peptides predicted from both ticks and non-tick itch suppressors that are chelicerates. We think these probably show some of the best evolutionary support for itch suppression but please still think critically about these predictions. `Tick support` means that the orthogroup was associated with itch suppression and peptides were only predicted from tick species. `No support` means no peptides were predicted from tick or the two non-tick itch suppressors.\n",
    "\n",
    "**Other protein trait information**: Some other information about proteins may be useful, so we included these columns at the end of the data frame.\n",
    "- **num_tick_proteins_in_orthogroup**: Number of proteins within the orthogroup that are derived from tick species.\n",
    "- **fraction_of_orthogroup_tick_proteins**: Fraction of proteins in the orthogroup that are derived from tick species.\n",
    "- **num_tick_proteins_in_orthogroup_with_signal_peptide**: Number of tick proteins within the orthogroup that have a signal peptide.\n",
    "- **fraction_of_orthogroup_with_signal_peptide**: Fraction of proteins in the orthogroup with a signal peptide.\n",
    "- **num_itchsuppsp_proteins_in_orthogroup**: Number of proteins within the orthogroup from species known to suppress itch.\n",
    "- **fraction_of_orthogroup_itchsuppsp_proteins**: Fraction of proteins in the orthogroup from itch-suppressing species.\n"
   ]
  },
  {
   "cell_type": "code",
   "execution_count": 23,
   "id": "808fc82b-c470-4e76-a0bc-38a1f596c933",
   "metadata": {},
   "outputs": [
    {
     "data": {
      "text/plain": [
       "R version 4.3.3 (2024-02-29)\n",
       "Platform: x86_64-apple-darwin13.4.0 (64-bit)\n",
       "Running under: macOS Big Sur ... 10.16\n",
       "\n",
       "Matrix products: default\n",
       "BLAS/LAPACK: /Users/taylorreiter/miniconda3/envs/tidyjupyter/lib/libopenblasp-r0.3.26.dylib;  LAPACK version 3.12.0\n",
       "\n",
       "locale:\n",
       "[1] en_US.UTF-8/en_US.UTF-8/en_US.UTF-8/C/en_US.UTF-8/en_US.UTF-8\n",
       "\n",
       "time zone: America/New_York\n",
       "tzcode source: internal\n",
       "\n",
       "attached base packages:\n",
       "[1] stats     graphics  grDevices utils     datasets  methods   base     \n",
       "\n",
       "other attached packages:\n",
       " [1] UpSetR_1.4.0    lubridate_1.9.3 forcats_1.0.0   stringr_1.5.1  \n",
       " [5] dplyr_1.1.4     purrr_1.0.2     readr_2.1.5     tidyr_1.3.1    \n",
       " [9] tibble_3.2.1    ggplot2_3.5.0   tidyverse_2.0.0\n",
       "\n",
       "loaded via a namespace (and not attached):\n",
       " [1] bit_4.0.5        gtable_0.3.4     jsonlite_1.8.8   compiler_4.3.3  \n",
       " [5] crayon_1.5.2     Rcpp_1.0.12      tidyselect_1.2.0 IRdisplay_1.1   \n",
       " [9] parallel_4.3.3   gridExtra_2.3    scales_1.3.0     uuid_1.2-0      \n",
       "[13] fastmap_1.1.1    IRkernel_1.3.2   plyr_1.8.9       R6_2.5.1        \n",
       "[17] generics_0.1.3   munsell_0.5.1    pillar_1.9.0     tzdb_0.4.0      \n",
       "[21] rlang_1.1.3      utf8_1.2.4       stringi_1.8.3    repr_1.1.7      \n",
       "[25] bit64_4.0.5      timechange_0.3.0 cli_3.6.2        withr_3.0.0     \n",
       "[29] magrittr_2.0.3   digest_0.6.35    grid_4.3.3       vroom_1.6.5     \n",
       "[33] base64enc_0.1-3  hms_1.1.3        pbdZMQ_0.3-11    lifecycle_1.0.4 \n",
       "[37] vctrs_0.6.5      evaluate_0.23    glue_1.7.0       fansi_1.0.6     \n",
       "[41] colorspace_2.1-0 tools_4.3.3      pkgconfig_2.0.3  htmltools_0.5.8 "
      ]
     },
     "metadata": {},
     "output_type": "display_data"
    }
   ],
   "source": [
    "sessionInfo()"
   ]
  },
  {
   "cell_type": "code",
   "execution_count": null,
   "id": "d6549d3f-77bd-4dbb-97c5-f331d905b3f2",
   "metadata": {},
   "outputs": [],
   "source": []
  }
 ],
 "metadata": {
  "kernelspec": {
   "display_name": "R",
   "language": "R",
   "name": "ir"
  },
  "language_info": {
   "codemirror_mode": "r",
   "file_extension": ".r",
   "mimetype": "text/x-r-source",
   "name": "R",
   "pygments_lexer": "r",
   "version": "4.3.3"
  }
 },
 "nbformat": 4,
 "nbformat_minor": 5
}
