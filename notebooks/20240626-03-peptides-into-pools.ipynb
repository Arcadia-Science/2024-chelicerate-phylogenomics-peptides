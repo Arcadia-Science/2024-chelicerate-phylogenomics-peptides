{
 "cells": [
  {
   "cell_type": "markdown",
   "id": "b06732f1-107f-4be9-a426-ba3b81306841",
   "metadata": {},
   "source": [
    "# Selecting peptides for experimental validation\n",
    "\n",
    "This notebook follows my rationale in selecting peptides to investigate for anti-pruritic activity in the mouse scratch assay.\n",
    "At the beginning of each filtering section, I explain the rationale for my choices.\n",
    "I included intermediate filtering steps that helped me make decisions even though reaching the final filtered results could have been streamlined with simpler code.\n",
    "I think including these details will help other understand why I made certain decisions and feel confident in the peptides we move forward with.\n",
    "\n",
    "This notebook proposes 12 peptides from 3 orthogroups to be experimentally validated using a mouse scratch assay.\n",
    "To reach these peptides, we filtered in the following way:\n",
    "* The peptide belonged to an orthrogoup statistically associated with itch suppression. (All input predictions were \"significantly\" associated with itch after traitmapping the ticks on a tree data).\n",
    "* The peptide belonged to an orthogroup where at least 50% of proteins in the orthogroup were predicted to encode a peptide.\n",
    "* The peptide belonged to an orthogroup where most proteins in the orthogroup had a signal peptide.\n",
    "\n",
    "After these first three filters, there were 88 peptides from three orthogroups left.\n",
    "\n",
    "I then selected which peptides from the three orthogroups to move into the scratch assay.\n",
    "To make this decision, I considered:\n",
    "* Ease of synthesis\n",
    "* Solubility (hydrophilicity)\n",
    "* Whether the peptides had matches in tick salivary gland  (e.g. is expressed in the saliva)\n",
    "* How well the peptide sequence represents other peptide sequences form the orthogroup (if it clusters with other peptide sequence). \n",
    "\n",
    "We also report the annotation the sORF or parent protein received.\n",
    "\n",
    "The product of this notebook is a TSV file `20240626-predictions.tsv`.\n",
    "This file contains the 12 peptide names, sequences, and metadata.\n",
    "\n",
    "*NB* the pools are numbered oddly because I wanted the pool names to stay the same for each orthogroup between this analysis and the one I performed in 04/2024. The pool numbers are also a construct and likely don't reflect how the peptides will actually be pooled for experimental testing."
   ]
  },
  {
   "cell_type": "markdown",
   "id": "c83ce877-b45e-49f5-aff4-d6b5b8d110a0",
   "metadata": {},
   "source": [
    "## Notebook setup"
   ]
  },
  {
   "cell_type": "code",
   "execution_count": 1,
   "id": "c923b71c-d25c-48c8-9c97-6eb6a87ffee1",
   "metadata": {},
   "outputs": [
    {
     "name": "stderr",
     "output_type": "stream",
     "text": [
      "── \u001b[1mAttaching core tidyverse packages\u001b[22m ────────────────────────────────────────────────────────────────────────────────────────────────────────────────────────── tidyverse 2.0.0 ──\n",
      "\u001b[32m✔\u001b[39m \u001b[34mdplyr    \u001b[39m 1.1.4     \u001b[32m✔\u001b[39m \u001b[34mreadr    \u001b[39m 2.1.5\n",
      "\u001b[32m✔\u001b[39m \u001b[34mforcats  \u001b[39m 1.0.0     \u001b[32m✔\u001b[39m \u001b[34mstringr  \u001b[39m 1.5.1\n",
      "\u001b[32m✔\u001b[39m \u001b[34mggplot2  \u001b[39m 3.5.0     \u001b[32m✔\u001b[39m \u001b[34mtibble   \u001b[39m 3.2.1\n",
      "\u001b[32m✔\u001b[39m \u001b[34mlubridate\u001b[39m 1.9.3     \u001b[32m✔\u001b[39m \u001b[34mtidyr    \u001b[39m 1.3.1\n",
      "\u001b[32m✔\u001b[39m \u001b[34mpurrr    \u001b[39m 1.0.2     \n",
      "── \u001b[1mConflicts\u001b[22m ──────────────────────────────────────────────────────────────────────────────────────────────────────────────────────────────────────────── tidyverse_conflicts() ──\n",
      "\u001b[31m✖\u001b[39m \u001b[34mdplyr\u001b[39m::\u001b[32mfilter()\u001b[39m masks \u001b[34mstats\u001b[39m::filter()\n",
      "\u001b[31m✖\u001b[39m \u001b[34mdplyr\u001b[39m::\u001b[32mlag()\u001b[39m    masks \u001b[34mstats\u001b[39m::lag()\n",
      "\u001b[36mℹ\u001b[39m Use the conflicted package (\u001b[3m\u001b[34m<http://conflicted.r-lib.org/>\u001b[39m\u001b[23m) to force all conflicts to become errors\n"
     ]
    }
   ],
   "source": [
    "library(tidyverse)"
   ]
  },
  {
   "cell_type": "code",
   "execution_count": 2,
   "id": "17fc1776-c5ae-4377-affd-5d82dfe61ac0",
   "metadata": {},
   "outputs": [],
   "source": [
    "setwd(\"..\")"
   ]
  },
  {
   "cell_type": "markdown",
   "id": "25df8738-cc53-4f97-8fca-69a6006c0f7c",
   "metadata": {},
   "source": [
    "## Filter to orthogroups where many of the proteins in the group had peptides\n",
    "\n",
    "We try various filters below.\n",
    "First, we look at the strength of support for itch suppression for the orthogroup (`traitmapping_coefficient`) as well as the fraction of proteins in the group that had a predicted peptide.\n",
    "\n",
    "Using this information, we experiment with different thresholds to see how many orthogroups we keep, and the composition of those groups.\n",
    "We try the following:\n",
    "1. Filtering to orthogroups where at least 50% of the proteins had predicted peptides.\n",
    "2. Filtering to orthogroups where at least 10% of the protiens had predicted peptides.\n",
    "3. Filtering to orthogroups where at least 10 proteins had predicted peptides.\n",
    "\n",
    "The last filter seems like the best balance between keeping things that are more likely to be real and keeping variation."
   ]
  },
  {
   "cell_type": "code",
   "execution_count": 3,
   "id": "eca6a8b0-4684-437c-9b82-1b2e728873d7",
   "metadata": {},
   "outputs": [
    {
     "data": {
      "text/html": [
       "<table class=\"dataframe\">\n",
       "<caption>A tibble: 13 × 4</caption>\n",
       "<thead>\n",
       "\t<tr><th scope=col>traitmapping_orthogroup</th><th scope=col>traitmapping_coefficient</th><th scope=col>fraction_of_orthogroup_with_predicted_peptide</th><th scope=col>type_of_itch_suppression_evidence</th></tr>\n",
       "\t<tr><th scope=col>&lt;chr&gt;</th><th scope=col>&lt;dbl&gt;</th><th scope=col>&lt;dbl&gt;</th><th scope=col>&lt;chr&gt;</th></tr>\n",
       "</thead>\n",
       "<tbody>\n",
       "\t<tr><td>OG0011284</td><td>2.24534051</td><td>0.11111111</td><td>tick support       </td></tr>\n",
       "\t<tr><td>OG0008888</td><td>1.69892817</td><td>0.06250000</td><td>tick support       </td></tr>\n",
       "\t<tr><td>OG0001774</td><td>1.05408448</td><td>0.68181818</td><td>chelicerate support</td></tr>\n",
       "\t<tr><td>OG0008102</td><td>0.89907992</td><td>0.75000000</td><td>tick support       </td></tr>\n",
       "\t<tr><td>OG0002194</td><td>0.87213413</td><td>0.03571429</td><td>tick support       </td></tr>\n",
       "\t<tr><td>OG0000189</td><td>0.50428119</td><td>0.08750000</td><td>tick support       </td></tr>\n",
       "\t<tr><td>OG0000746</td><td>0.42872398</td><td>0.04901961</td><td>tick support       </td></tr>\n",
       "\t<tr><td>OG0000194</td><td>0.35313516</td><td>0.09704641</td><td>tick support       </td></tr>\n",
       "\t<tr><td>OG0000880</td><td>0.31400766</td><td>0.77064220</td><td>tick support       </td></tr>\n",
       "\t<tr><td>OG0001663</td><td>0.29542423</td><td>0.09375000</td><td>tick support       </td></tr>\n",
       "\t<tr><td>OG0000385</td><td>0.25070199</td><td>0.05844156</td><td>tick support       </td></tr>\n",
       "\t<tr><td>OG0000143</td><td>0.15338398</td><td>0.03900709</td><td>tick support       </td></tr>\n",
       "\t<tr><td>OG0000079</td><td>0.08290626</td><td>0.13959391</td><td>tick support       </td></tr>\n",
       "</tbody>\n",
       "</table>\n"
      ],
      "text/latex": [
       "A tibble: 13 × 4\n",
       "\\begin{tabular}{llll}\n",
       " traitmapping\\_orthogroup & traitmapping\\_coefficient & fraction\\_of\\_orthogroup\\_with\\_predicted\\_peptide & type\\_of\\_itch\\_suppression\\_evidence\\\\\n",
       " <chr> & <dbl> & <dbl> & <chr>\\\\\n",
       "\\hline\n",
       "\t OG0011284 & 2.24534051 & 0.11111111 & tick support       \\\\\n",
       "\t OG0008888 & 1.69892817 & 0.06250000 & tick support       \\\\\n",
       "\t OG0001774 & 1.05408448 & 0.68181818 & chelicerate support\\\\\n",
       "\t OG0008102 & 0.89907992 & 0.75000000 & tick support       \\\\\n",
       "\t OG0002194 & 0.87213413 & 0.03571429 & tick support       \\\\\n",
       "\t OG0000189 & 0.50428119 & 0.08750000 & tick support       \\\\\n",
       "\t OG0000746 & 0.42872398 & 0.04901961 & tick support       \\\\\n",
       "\t OG0000194 & 0.35313516 & 0.09704641 & tick support       \\\\\n",
       "\t OG0000880 & 0.31400766 & 0.77064220 & tick support       \\\\\n",
       "\t OG0001663 & 0.29542423 & 0.09375000 & tick support       \\\\\n",
       "\t OG0000385 & 0.25070199 & 0.05844156 & tick support       \\\\\n",
       "\t OG0000143 & 0.15338398 & 0.03900709 & tick support       \\\\\n",
       "\t OG0000079 & 0.08290626 & 0.13959391 & tick support       \\\\\n",
       "\\end{tabular}\n"
      ],
      "text/markdown": [
       "\n",
       "A tibble: 13 × 4\n",
       "\n",
       "| traitmapping_orthogroup &lt;chr&gt; | traitmapping_coefficient &lt;dbl&gt; | fraction_of_orthogroup_with_predicted_peptide &lt;dbl&gt; | type_of_itch_suppression_evidence &lt;chr&gt; |\n",
       "|---|---|---|---|\n",
       "| OG0011284 | 2.24534051 | 0.11111111 | tick support        |\n",
       "| OG0008888 | 1.69892817 | 0.06250000 | tick support        |\n",
       "| OG0001774 | 1.05408448 | 0.68181818 | chelicerate support |\n",
       "| OG0008102 | 0.89907992 | 0.75000000 | tick support        |\n",
       "| OG0002194 | 0.87213413 | 0.03571429 | tick support        |\n",
       "| OG0000189 | 0.50428119 | 0.08750000 | tick support        |\n",
       "| OG0000746 | 0.42872398 | 0.04901961 | tick support        |\n",
       "| OG0000194 | 0.35313516 | 0.09704641 | tick support        |\n",
       "| OG0000880 | 0.31400766 | 0.77064220 | tick support        |\n",
       "| OG0001663 | 0.29542423 | 0.09375000 | tick support        |\n",
       "| OG0000385 | 0.25070199 | 0.05844156 | tick support        |\n",
       "| OG0000143 | 0.15338398 | 0.03900709 | tick support        |\n",
       "| OG0000079 | 0.08290626 | 0.13959391 | tick support        |\n",
       "\n"
      ],
      "text/plain": [
       "   traitmapping_orthogroup traitmapping_coefficient\n",
       "1  OG0011284               2.24534051              \n",
       "2  OG0008888               1.69892817              \n",
       "3  OG0001774               1.05408448              \n",
       "4  OG0008102               0.89907992              \n",
       "5  OG0002194               0.87213413              \n",
       "6  OG0000189               0.50428119              \n",
       "7  OG0000746               0.42872398              \n",
       "8  OG0000194               0.35313516              \n",
       "9  OG0000880               0.31400766              \n",
       "10 OG0001663               0.29542423              \n",
       "11 OG0000385               0.25070199              \n",
       "12 OG0000143               0.15338398              \n",
       "13 OG0000079               0.08290626              \n",
       "   fraction_of_orthogroup_with_predicted_peptide\n",
       "1  0.11111111                                   \n",
       "2  0.06250000                                   \n",
       "3  0.68181818                                   \n",
       "4  0.75000000                                   \n",
       "5  0.03571429                                   \n",
       "6  0.08750000                                   \n",
       "7  0.04901961                                   \n",
       "8  0.09704641                                   \n",
       "9  0.77064220                                   \n",
       "10 0.09375000                                   \n",
       "11 0.05844156                                   \n",
       "12 0.03900709                                   \n",
       "13 0.13959391                                   \n",
       "   type_of_itch_suppression_evidence\n",
       "1  tick support                     \n",
       "2  tick support                     \n",
       "3  chelicerate support              \n",
       "4  tick support                     \n",
       "5  tick support                     \n",
       "6  tick support                     \n",
       "7  tick support                     \n",
       "8  tick support                     \n",
       "9  tick support                     \n",
       "10 tick support                     \n",
       "11 tick support                     \n",
       "12 tick support                     \n",
       "13 tick support                     "
      ]
     },
     "metadata": {},
     "output_type": "display_data"
    }
   ],
   "source": [
    "predictions_support_summary <- read_tsv(\"outputs/notebooks/20240626_predictions_with_metadata.tsv\", show_col_types = F) %>%\n",
    "  select(traitmapping_orthogroup, traitmapping_coefficient, fraction_of_orthogroup_with_predicted_peptide, type_of_itch_suppression_evidence) %>%\n",
    "  arrange(desc(traitmapping_coefficient)) %>%\n",
    "  distinct()\n",
    "\n",
    "predictions_support_summary"
   ]
  },
  {
   "cell_type": "code",
   "execution_count": 4,
   "id": "c03d2321-da9d-49c2-8300-63dbbe889194",
   "metadata": {},
   "outputs": [],
   "source": [
    "predictions <- read_tsv(\"outputs/notebooks/20240626_predictions_with_metadata.tsv\", show_col_types = F) %>%\n",
    "  filter(fraction_of_orthogroup_with_predicted_peptide >= 0.5) %>%\n",
    "  arrange(desc(traitmapping_coefficient))"
   ]
  },
  {
   "cell_type": "code",
   "execution_count": 5,
   "id": "9fb50477-9d5e-4de0-88a5-8a87c5297502",
   "metadata": {},
   "outputs": [
    {
     "data": {
      "text/plain": [
       "           \n",
       "            chelicerate support tick support\n",
       "  OG0000880                   0           82\n",
       "  OG0001774                  45            0\n",
       "  OG0008102                   0           18"
      ]
     },
     "metadata": {},
     "output_type": "display_data"
    }
   ],
   "source": [
    "table(predictions$traitmapping_orthogroup, predictions$type_of_itch_suppression_evidence)"
   ]
  },
  {
   "cell_type": "markdown",
   "id": "be4f5a4f-822f-4ee0-91d4-74957bed31d3",
   "metadata": {},
   "source": [
    "This removes a lot of orthogroups but keeps the one orthogroup with both *P. ovis* (non-tick) and ticks. Might be reasonable to proceed with...TBD.\n",
    "Check instead what this looks like if we limit to orthogroups that have at least 10 peptides predicted from them."
   ]
  },
  {
   "cell_type": "code",
   "execution_count": 6,
   "id": "9f8115bc-4b7a-432f-8de5-b66f8edf9877",
   "metadata": {},
   "outputs": [
    {
     "data": {
      "text/plain": [
       "           \n",
       "            chelicerate support tick support\n",
       "  OG0000079                   0           55\n",
       "  OG0000880                   0           82\n",
       "  OG0001774                  45            0\n",
       "  OG0008102                   0           18\n",
       "  OG0011284                   0            1"
      ]
     },
     "metadata": {},
     "output_type": "display_data"
    }
   ],
   "source": [
    "predictions <- read_tsv(\"outputs/notebooks/20240626_predictions_with_metadata.tsv\", show_col_types = F) %>%\n",
    "  filter(fraction_of_orthogroup_with_predicted_peptide >= 0.1) %>%\n",
    "  arrange(desc(traitmapping_coefficient))\n",
    "\n",
    "table(predictions$traitmapping_orthogroup, predictions$type_of_itch_suppression_evidence)"
   ]
  },
  {
   "cell_type": "markdown",
   "id": "e723bade-2d35-404e-b139-e6da5cffe377",
   "metadata": {},
   "source": [
    "This filtering approach keeps more orthogroups while likely maintaining a strong signal.\n",
    "We could alternately decrease the percent we're filtering with, to something like 10%."
   ]
  },
  {
   "cell_type": "code",
   "execution_count": 7,
   "id": "f99d62f0-7283-4995-baec-14acaa011271",
   "metadata": {},
   "outputs": [
    {
     "data": {
      "text/plain": [
       "           \n",
       "            chelicerate support tick support\n",
       "  OG0000079                   0           55\n",
       "  OG0000143                   0           10\n",
       "  OG0000189                   0           21\n",
       "  OG0000194                   0           23\n",
       "  OG0000880                   0           82\n",
       "  OG0001774                  45            0\n",
       "  OG0008102                   0           18"
      ]
     },
     "metadata": {},
     "output_type": "display_data"
    }
   ],
   "source": [
    "predictions <- read_tsv(\"outputs/notebooks/20240626_predictions_with_metadata.tsv\", show_col_types = F) %>%\n",
    "  filter(num_predicted_peptides > 10) %>%\n",
    "  arrange(desc(traitmapping_coefficient))\n",
    "\n",
    "table(predictions$traitmapping_orthogroup, predictions$type_of_itch_suppression_evidence)"
   ]
  },
  {
   "cell_type": "markdown",
   "id": "e25ac0f5-b4d6-4f85-bf1b-580bae4817cc",
   "metadata": {},
   "source": [
    "I think 10 looks like a good balace between keeping things that are more likely to be real and keeping good variability."
   ]
  },
  {
   "cell_type": "code",
   "execution_count": 8,
   "id": "7bbf7d03-e15a-456e-a2dd-442d47feddd4",
   "metadata": {},
   "outputs": [
    {
     "data": {
      "text/html": [
       "<table class=\"dataframe\">\n",
       "<caption>A tibble: 7 × 4</caption>\n",
       "<thead>\n",
       "\t<tr><th scope=col>traitmapping_orthogroup</th><th scope=col>traitmapping_coefficient</th><th scope=col>fraction_of_orthogroup_with_predicted_peptide</th><th scope=col>type_of_itch_suppression_evidence</th></tr>\n",
       "\t<tr><th scope=col>&lt;chr&gt;</th><th scope=col>&lt;dbl&gt;</th><th scope=col>&lt;dbl&gt;</th><th scope=col>&lt;chr&gt;</th></tr>\n",
       "</thead>\n",
       "<tbody>\n",
       "\t<tr><td>OG0001774</td><td>1.05408448</td><td>0.68181818</td><td>chelicerate support</td></tr>\n",
       "\t<tr><td>OG0008102</td><td>0.89907992</td><td>0.75000000</td><td>tick support       </td></tr>\n",
       "\t<tr><td>OG0000189</td><td>0.50428119</td><td>0.08750000</td><td>tick support       </td></tr>\n",
       "\t<tr><td>OG0000194</td><td>0.35313516</td><td>0.09704641</td><td>tick support       </td></tr>\n",
       "\t<tr><td>OG0000880</td><td>0.31400766</td><td>0.77064220</td><td>tick support       </td></tr>\n",
       "\t<tr><td>OG0000143</td><td>0.15338398</td><td>0.03900709</td><td>tick support       </td></tr>\n",
       "\t<tr><td>OG0000079</td><td>0.08290626</td><td>0.13959391</td><td>tick support       </td></tr>\n",
       "</tbody>\n",
       "</table>\n"
      ],
      "text/latex": [
       "A tibble: 7 × 4\n",
       "\\begin{tabular}{llll}\n",
       " traitmapping\\_orthogroup & traitmapping\\_coefficient & fraction\\_of\\_orthogroup\\_with\\_predicted\\_peptide & type\\_of\\_itch\\_suppression\\_evidence\\\\\n",
       " <chr> & <dbl> & <dbl> & <chr>\\\\\n",
       "\\hline\n",
       "\t OG0001774 & 1.05408448 & 0.68181818 & chelicerate support\\\\\n",
       "\t OG0008102 & 0.89907992 & 0.75000000 & tick support       \\\\\n",
       "\t OG0000189 & 0.50428119 & 0.08750000 & tick support       \\\\\n",
       "\t OG0000194 & 0.35313516 & 0.09704641 & tick support       \\\\\n",
       "\t OG0000880 & 0.31400766 & 0.77064220 & tick support       \\\\\n",
       "\t OG0000143 & 0.15338398 & 0.03900709 & tick support       \\\\\n",
       "\t OG0000079 & 0.08290626 & 0.13959391 & tick support       \\\\\n",
       "\\end{tabular}\n"
      ],
      "text/markdown": [
       "\n",
       "A tibble: 7 × 4\n",
       "\n",
       "| traitmapping_orthogroup &lt;chr&gt; | traitmapping_coefficient &lt;dbl&gt; | fraction_of_orthogroup_with_predicted_peptide &lt;dbl&gt; | type_of_itch_suppression_evidence &lt;chr&gt; |\n",
       "|---|---|---|---|\n",
       "| OG0001774 | 1.05408448 | 0.68181818 | chelicerate support |\n",
       "| OG0008102 | 0.89907992 | 0.75000000 | tick support        |\n",
       "| OG0000189 | 0.50428119 | 0.08750000 | tick support        |\n",
       "| OG0000194 | 0.35313516 | 0.09704641 | tick support        |\n",
       "| OG0000880 | 0.31400766 | 0.77064220 | tick support        |\n",
       "| OG0000143 | 0.15338398 | 0.03900709 | tick support        |\n",
       "| OG0000079 | 0.08290626 | 0.13959391 | tick support        |\n",
       "\n"
      ],
      "text/plain": [
       "  traitmapping_orthogroup traitmapping_coefficient\n",
       "1 OG0001774               1.05408448              \n",
       "2 OG0008102               0.89907992              \n",
       "3 OG0000189               0.50428119              \n",
       "4 OG0000194               0.35313516              \n",
       "5 OG0000880               0.31400766              \n",
       "6 OG0000143               0.15338398              \n",
       "7 OG0000079               0.08290626              \n",
       "  fraction_of_orthogroup_with_predicted_peptide\n",
       "1 0.68181818                                   \n",
       "2 0.75000000                                   \n",
       "3 0.08750000                                   \n",
       "4 0.09704641                                   \n",
       "5 0.77064220                                   \n",
       "6 0.03900709                                   \n",
       "7 0.13959391                                   \n",
       "  type_of_itch_suppression_evidence\n",
       "1 chelicerate support              \n",
       "2 tick support                     \n",
       "3 tick support                     \n",
       "4 tick support                     \n",
       "5 tick support                     \n",
       "6 tick support                     \n",
       "7 tick support                     "
      ]
     },
     "metadata": {},
     "output_type": "display_data"
    }
   ],
   "source": [
    "predictions_support_summary <- predictions %>%\n",
    "  select(traitmapping_orthogroup, traitmapping_coefficient, fraction_of_orthogroup_with_predicted_peptide, type_of_itch_suppression_evidence) %>%\n",
    "  arrange(desc(traitmapping_coefficient)) %>%\n",
    "  distinct()\n",
    "\n",
    "predictions_support_summary"
   ]
  },
  {
   "cell_type": "markdown",
   "id": "1034a7e7-ec1f-4962-9b90-ab789c6571d7",
   "metadata": {},
   "source": [
    "## Filter to orthogroups where at least one member has a signal peptide\n",
    "\n",
    "When we do this, the three orthogroups that have the most evidence of having signal peptides (many proteins in the group have signal peptides), we get to the same 3 orthogroups where >50% of the proteins were predicted to be peptides: OG0000880, OG0001774, OG0008102.\n",
    "\n",
    "Given both of these signals (fraction predicted peptides, signal peptides), move forward with only these three orthogroups."
   ]
  },
  {
   "cell_type": "code",
   "execution_count": 9,
   "id": "88ba37dd-4230-4e48-b8db-b59206e1f70b",
   "metadata": {},
   "outputs": [
    {
     "data": {
      "text/plain": [
       "           \n",
       "            chelicerate support tick support\n",
       "  OG0000079                   0            1\n",
       "  OG0000143                   0            2\n",
       "  OG0000880                   0           39\n",
       "  OG0001774                  36            0\n",
       "  OG0008102                   0           13"
      ]
     },
     "metadata": {},
     "output_type": "display_data"
    }
   ],
   "source": [
    "predictions <- predictions %>%\n",
    "  filter(traitmapping_deepsig_feature == \"Signal peptide\")\n",
    "\n",
    "table(predictions$traitmapping_orthogroup, predictions$type_of_itch_suppression_evidence)"
   ]
  },
  {
   "cell_type": "code",
   "execution_count": 10,
   "id": "278d7564-2624-4f38-b053-bd827ccb9445",
   "metadata": {},
   "outputs": [],
   "source": [
    "predictions <- predictions %>%\n",
    "  filter(traitmapping_orthogroup %in% c(\"OG0000880\", \"OG0001774\", \"OG0008102\"))"
   ]
  },
  {
   "cell_type": "markdown",
   "id": "8e1e2281-6f4a-4d4e-8b24-c7a1776d62de",
   "metadata": {},
   "source": [
    "## Combine with solubility data"
   ]
  },
  {
   "cell_type": "code",
   "execution_count": 11,
   "id": "3421efdf-3cce-48df-8d73-a80beaa09631",
   "metadata": {},
   "outputs": [
    {
     "data": {
      "text/plain": [
       "           \n",
       "            Good Poor\n",
       "  Difficult    0   10\n",
       "  Easy         3    4\n",
       "  Medium       2   69"
      ]
     },
     "metadata": {},
     "output_type": "display_data"
    }
   ],
   "source": [
    "# read in solubility and ease of synthesis data\n",
    "# This is from a web application by genscript.\n",
    "# https://www.genscript.com/tools/peptide%2danalyzing%2dtool\n",
    "synthesis_and_solubility <- read_csv(\"outputs/notebooks/20240626-genscript-synthesis-and-solubility.csv\", show_col_types = F) %>%\n",
    "  distinct() %>%\n",
    "  filter(sequence %in% predictions$protein_sequence)\n",
    "table(synthesis_and_solubility$synthesis_difficulty, synthesis_and_solubility$hydrophilicity)"
   ]
  },
  {
   "cell_type": "code",
   "execution_count": 12,
   "id": "f2db0292-3938-48ce-88a5-5b4633f7e22a",
   "metadata": {},
   "outputs": [],
   "source": [
    "predictions <- left_join(predictions, synthesis_and_solubility, by = c(\"protein_sequence\" = \"sequence\"))"
   ]
  },
  {
   "cell_type": "code",
   "execution_count": 13,
   "id": "550a5dc1-6dcf-45ca-a4be-66dc09c95559",
   "metadata": {
    "scrolled": true
   },
   "outputs": [
    {
     "data": {
      "text/html": [
       "<table class=\"dataframe\">\n",
       "<caption>A grouped_df: 9 × 6</caption>\n",
       "<thead>\n",
       "\t<tr><th scope=col>synthesis_difficulty</th><th scope=col>hydrophilicity</th><th scope=col>traitmapping_orthogroup</th><th scope=col>traitmapping_coefficient</th><th scope=col>type_of_itch_suppression_evidence</th><th scope=col>n</th></tr>\n",
       "\t<tr><th scope=col>&lt;chr&gt;</th><th scope=col>&lt;chr&gt;</th><th scope=col>&lt;chr&gt;</th><th scope=col>&lt;dbl&gt;</th><th scope=col>&lt;chr&gt;</th><th scope=col>&lt;int&gt;</th></tr>\n",
       "</thead>\n",
       "<tbody>\n",
       "\t<tr><td>Difficult</td><td>Poor</td><td>OG0001774</td><td>1.0540845</td><td>chelicerate support</td><td> 1</td></tr>\n",
       "\t<tr><td>Easy     </td><td>Good</td><td>OG0001774</td><td>1.0540845</td><td>chelicerate support</td><td> 3</td></tr>\n",
       "\t<tr><td>Easy     </td><td>Poor</td><td>OG0001774</td><td>1.0540845</td><td>chelicerate support</td><td> 4</td></tr>\n",
       "\t<tr><td>Medium   </td><td>Good</td><td>OG0001774</td><td>1.0540845</td><td>chelicerate support</td><td> 2</td></tr>\n",
       "\t<tr><td>Medium   </td><td>Poor</td><td>OG0001774</td><td>1.0540845</td><td>chelicerate support</td><td>26</td></tr>\n",
       "\t<tr><td>Difficult</td><td>Poor</td><td>OG0008102</td><td>0.8990799</td><td>tick support       </td><td> 7</td></tr>\n",
       "\t<tr><td>Medium   </td><td>Poor</td><td>OG0008102</td><td>0.8990799</td><td>tick support       </td><td> 6</td></tr>\n",
       "\t<tr><td>Difficult</td><td>Poor</td><td>OG0000880</td><td>0.3140077</td><td>tick support       </td><td> 2</td></tr>\n",
       "\t<tr><td>Medium   </td><td>Poor</td><td>OG0000880</td><td>0.3140077</td><td>tick support       </td><td>37</td></tr>\n",
       "</tbody>\n",
       "</table>\n"
      ],
      "text/latex": [
       "A grouped\\_df: 9 × 6\n",
       "\\begin{tabular}{llllll}\n",
       " synthesis\\_difficulty & hydrophilicity & traitmapping\\_orthogroup & traitmapping\\_coefficient & type\\_of\\_itch\\_suppression\\_evidence & n\\\\\n",
       " <chr> & <chr> & <chr> & <dbl> & <chr> & <int>\\\\\n",
       "\\hline\n",
       "\t Difficult & Poor & OG0001774 & 1.0540845 & chelicerate support &  1\\\\\n",
       "\t Easy      & Good & OG0001774 & 1.0540845 & chelicerate support &  3\\\\\n",
       "\t Easy      & Poor & OG0001774 & 1.0540845 & chelicerate support &  4\\\\\n",
       "\t Medium    & Good & OG0001774 & 1.0540845 & chelicerate support &  2\\\\\n",
       "\t Medium    & Poor & OG0001774 & 1.0540845 & chelicerate support & 26\\\\\n",
       "\t Difficult & Poor & OG0008102 & 0.8990799 & tick support        &  7\\\\\n",
       "\t Medium    & Poor & OG0008102 & 0.8990799 & tick support        &  6\\\\\n",
       "\t Difficult & Poor & OG0000880 & 0.3140077 & tick support        &  2\\\\\n",
       "\t Medium    & Poor & OG0000880 & 0.3140077 & tick support        & 37\\\\\n",
       "\\end{tabular}\n"
      ],
      "text/markdown": [
       "\n",
       "A grouped_df: 9 × 6\n",
       "\n",
       "| synthesis_difficulty &lt;chr&gt; | hydrophilicity &lt;chr&gt; | traitmapping_orthogroup &lt;chr&gt; | traitmapping_coefficient &lt;dbl&gt; | type_of_itch_suppression_evidence &lt;chr&gt; | n &lt;int&gt; |\n",
       "|---|---|---|---|---|---|\n",
       "| Difficult | Poor | OG0001774 | 1.0540845 | chelicerate support |  1 |\n",
       "| Easy      | Good | OG0001774 | 1.0540845 | chelicerate support |  3 |\n",
       "| Easy      | Poor | OG0001774 | 1.0540845 | chelicerate support |  4 |\n",
       "| Medium    | Good | OG0001774 | 1.0540845 | chelicerate support |  2 |\n",
       "| Medium    | Poor | OG0001774 | 1.0540845 | chelicerate support | 26 |\n",
       "| Difficult | Poor | OG0008102 | 0.8990799 | tick support        |  7 |\n",
       "| Medium    | Poor | OG0008102 | 0.8990799 | tick support        |  6 |\n",
       "| Difficult | Poor | OG0000880 | 0.3140077 | tick support        |  2 |\n",
       "| Medium    | Poor | OG0000880 | 0.3140077 | tick support        | 37 |\n",
       "\n"
      ],
      "text/plain": [
       "  synthesis_difficulty hydrophilicity traitmapping_orthogroup\n",
       "1 Difficult            Poor           OG0001774              \n",
       "2 Easy                 Good           OG0001774              \n",
       "3 Easy                 Poor           OG0001774              \n",
       "4 Medium               Good           OG0001774              \n",
       "5 Medium               Poor           OG0001774              \n",
       "6 Difficult            Poor           OG0008102              \n",
       "7 Medium               Poor           OG0008102              \n",
       "8 Difficult            Poor           OG0000880              \n",
       "9 Medium               Poor           OG0000880              \n",
       "  traitmapping_coefficient type_of_itch_suppression_evidence n \n",
       "1 1.0540845                chelicerate support                1\n",
       "2 1.0540845                chelicerate support                3\n",
       "3 1.0540845                chelicerate support                4\n",
       "4 1.0540845                chelicerate support                2\n",
       "5 1.0540845                chelicerate support               26\n",
       "6 0.8990799                tick support                       7\n",
       "7 0.8990799                tick support                       6\n",
       "8 0.3140077                tick support                       2\n",
       "9 0.3140077                tick support                      37"
      ]
     },
     "metadata": {},
     "output_type": "display_data"
    }
   ],
   "source": [
    "predictions %>% \n",
    "  group_by(synthesis_difficulty, hydrophilicity, traitmapping_orthogroup, traitmapping_coefficient, type_of_itch_suppression_evidence) %>% \n",
    "  tally() %>%\n",
    "  arrange(desc(traitmapping_coefficient))"
   ]
  },
  {
   "cell_type": "markdown",
   "id": "8b697d51-7c35-4c2d-887c-b83ef4de8cf4",
   "metadata": {},
   "source": [
    "## Summary of selected peptides"
   ]
  },
  {
   "cell_type": "code",
   "execution_count": 19,
   "id": "dbdcfa9d-fd25-4457-ad15-53f35aa7230a",
   "metadata": {},
   "outputs": [],
   "source": [
    "# Note I labeled the 5 sORF predictions that had signal peptides.\n",
    "# I predicted them with DeepSig and cleaved them by hand.\n",
    "# The cell below this one contains a data frame of the cleaved peptide sequences.\n",
    "\n",
    "pool1_names <- c(\"Amblyomma-americanum_evm.model.contig-245149-1.2\", # HAS A SIGNAL PEPTIDE CLEAVED\n",
    "                 \"Amblyomma-sculptum_GEEX01004552.1.p1\",             # HAS A SIGNAL PEPTIDE CLEAVED\n",
    "                 \"Rhipicephalus-microplus_XP-037271377.1_start70_end114\",\n",
    "                 \"Rhipicephalus-microplus_XP-037271378.1_start78_end115\",\n",
    "                 \"Dermacentor-andersoni_XP-054924338.1_start87_end106\")\n",
    "\n",
    "# pools 2-4 from the 04/2024 analysis were eliminated.\n",
    "\n",
    "pool5_names <- c(\"Rhipicephalus-microplus_XP-037269427.1_start34_end70\",\n",
    "                 \"Dermacentor-andersoni_XP-050051547.1_start39_end77\",\n",
    "                 \"Dermacentor-silvarum_XP-037559871.1_start39_end87\",\n",
    "                 \"Hyalomma-asiaticum_KAH6923445.1_start29_end58\")\n",
    "\n",
    "pool6_names <- c(\"Dermacentor-silvarum_XP-049518196.1\",      # HAS A SIGNAL PEPTIDE CLEAVED\n",
    "                 \"Ixodes-scapularis_tr|B7P452|B7P452-IXOSC\", # HAS A SIGNAL PEPTIDE CLEAVED\n",
    "                 \"Ixodes-scapularis_tr|B7Q4Z2|B7Q4Z2-IXOSC\") # HAS A SIGNAL PEPTIDE CLEAVED\n",
    "\n",
    "all_names <- c(pool1_names, pool5_names, pool6_names)"
   ]
  },
  {
   "cell_type": "code",
   "execution_count": 20,
   "id": "33a5b3bc-c69e-43ab-a287-dbb15952a027",
   "metadata": {},
   "outputs": [],
   "source": [
    "cleaved_sorfs <- data.frame(peptide_id = c(\"Amblyomma-americanum_evm.model.contig-245149-1.2\", \"Amblyomma-sculptum_GEEX01004552.1.p1\",\n",
    "                                           \"Dermacentor-silvarum_XP-049518196.1\", \"Ixodes-scapularis_tr|B7P452|B7P452-IXOSC\",\n",
    "                                           \"Ixodes-scapularis_tr|B7Q4Z2|B7Q4Z2-IXOSC\"),                      \n",
    "                            cleaved_protein_sequence = c(\"AAMNSPKKVVKGMNELEQSIYEALKDRREDIIAAGKALKTSMDKVGDETDEQFVQALIIGIIAAVAGTATSAAVSAAIKC\",\n",
    "                                                         \"ATISSPKKTLKDVKELQQDIIEALKENREEIMAAARALKSSMGNMEDGTEEQYIPPLVTAVIAAVAGGAVGGATGAGIA\",\n",
    "                                                         \"SEEHGGDSHQAGDDADPEEYPAEERDADTPLVRVRRGFGCPLQSRCNSHCQSIQRRAGYCDGPLKLRCVCTT\",\n",
    "                                                         \"ENDEGGEKELVRVRRTSYNCPFQKHKCHRHCKSIGHIAGYCGGFRNRTCICVKK\",\n",
    "                                                         \"QVPHVRVRRAFGCPFDQGTCHSHCRSIRRRGERCSGFAKRTCTCYQK\"),\n",
    "                            cleaved_synthesis_difficulty = c(\"Easy\", \"Easy\", \"Easy\", \"Easy\", \"Easy\"),\n",
    "                            cleaved_hydrophilicity = c(\"Good\", \"Good\", \"Good\", \"Good\", \"Good\"))"
   ]
  },
  {
   "cell_type": "code",
   "execution_count": 21,
   "id": "c46d5274-5ba0-4658-8cbd-582696b730e5",
   "metadata": {},
   "outputs": [
    {
     "data": {
      "text/html": [
       "<table class=\"dataframe\">\n",
       "<caption>A tibble: 12 × 15</caption>\n",
       "<thead>\n",
       "\t<tr><th scope=col>peptide_id</th><th scope=col>peptide_type</th><th scope=col>prediction_tool</th><th scope=col>peptide_length</th><th scope=col>traitmapping_orthogroup</th><th scope=col>traitmapping_coefficient</th><th scope=col>traitmapping_deepsig_feature</th><th scope=col>antiinflammatory</th><th scope=col>traitmapping_egg_Description</th><th scope=col>traitmapping_KO_definition</th><th scope=col>synthesis_difficulty</th><th scope=col>hydrophilicity</th><th scope=col>cleaved_protein_sequence</th><th scope=col>cleaved_synthesis_difficulty</th><th scope=col>cleaved_hydrophilicity</th></tr>\n",
       "\t<tr><th scope=col>&lt;chr&gt;</th><th scope=col>&lt;chr&gt;</th><th scope=col>&lt;chr&gt;</th><th scope=col>&lt;dbl&gt;</th><th scope=col>&lt;chr&gt;</th><th scope=col>&lt;dbl&gt;</th><th scope=col>&lt;chr&gt;</th><th scope=col>&lt;dbl&gt;</th><th scope=col>&lt;chr&gt;</th><th scope=col>&lt;chr&gt;</th><th scope=col>&lt;chr&gt;</th><th scope=col>&lt;chr&gt;</th><th scope=col>&lt;chr&gt;</th><th scope=col>&lt;chr&gt;</th><th scope=col>&lt;chr&gt;</th></tr>\n",
       "</thead>\n",
       "<tbody>\n",
       "\t<tr><td>Rhipicephalus-microplus_XP-037271377.1_start70_end114</td><td>cleavage</td><td>deeppeptide    </td><td> 45</td><td>OG0008102</td><td>0.8990799</td><td>Signal peptide</td><td>0.00000000</td><td>NA</td><td>FrmR/RcnR family transcriptional regulator, repressor of rcnA expression;protein S100-A2                                                                                                   </td><td>Medium</td><td>Poor</td><td>NA                                                                              </td><td>NA  </td><td>NA  </td></tr>\n",
       "\t<tr><td>Amblyomma-sculptum_GEEX01004552.1.p1                 </td><td>sORF    </td><td>less_than_100aa</td><td> 99</td><td>OG0008102</td><td>0.8990799</td><td>Signal peptide</td><td>0.00000000</td><td>NA</td><td>U3 small nucleolar RNA-associated protein 12;proteoglycan 3;cullin-associated NEDD8-dissociated protein 1;Escherichia phage dCTP pyrophosphatase [EC:3.6.1.12];cell division protein DivIC </td><td>Medium</td><td>Poor</td><td>ATISSPKKTLKDVKELQQDIIEALKENREEIMAAARALKSSMGNMEDGTEEQYIPPLVTAVIAAVAGGAVGGATGAGIA </td><td>Easy</td><td>Good</td></tr>\n",
       "\t<tr><td>Amblyomma-americanum_evm.model.contig-245149-1.2     </td><td>sORF    </td><td>less_than_100aa</td><td>100</td><td>OG0008102</td><td>0.8990799</td><td>Signal peptide</td><td>0.03333333</td><td>NA</td><td>outer membrane protein, multidrug efflux system;cecropin;2,3-dihydroxyphenylpropionate 1,2-dioxygenase [EC:1.13.11.16];thalianol hydroxylase                                               </td><td>Medium</td><td>Poor</td><td>AAMNSPKKVVKGMNELEQSIYEALKDRREDIIAAGKALKTSMDKVGDETDEQFVQALIIGIIAAVAGTATSAAVSAAIKC</td><td>Easy</td><td>Good</td></tr>\n",
       "\t<tr><td>Dermacentor-andersoni_XP-054924338.1_start87_end106  </td><td>cleavage</td><td>nlpprecursor   </td><td> 19</td><td>OG0008102</td><td>0.8990799</td><td>Signal peptide</td><td>0.16666667</td><td>NA</td><td>osmotically inducible lipoprotein OsmB                                                                                                                                                     </td><td>Medium</td><td>Poor</td><td>NA                                                                              </td><td>NA  </td><td>NA  </td></tr>\n",
       "\t<tr><td>Rhipicephalus-microplus_XP-037271378.1_start78_end115</td><td>cleavage</td><td>deeppeptide    </td><td> 38</td><td>OG0008102</td><td>0.8990799</td><td>Signal peptide</td><td>0.00000000</td><td>NA</td><td>NA                                                                                                                                                                                         </td><td>Medium</td><td>Poor</td><td>NA                                                                              </td><td>NA  </td><td>NA  </td></tr>\n",
       "\t<tr><td>Dermacentor-silvarum_XP-049518196.1                  </td><td>sORF    </td><td>less_than_100aa</td><td> 94</td><td>OG0001774</td><td>1.0540845</td><td>Signal peptide</td><td>0.00000000</td><td>NA</td><td>defensin;drosomycin                                                                                                                                                                        </td><td>Easy  </td><td>Good</td><td>SEEHGGDSHQAGDDADPEEYPAEERDADTPLVRVRRGFGCPLQSRCNSHCQSIQRRAGYCDGPLKLRCVCTT        </td><td>Easy</td><td>Good</td></tr>\n",
       "\t<tr><td>Ixodes-scapularis_tr|B7P452|B7P452-IXOSC             </td><td>sORF    </td><td>less_than_100aa</td><td> 76</td><td>OG0001774</td><td>1.0540845</td><td>Signal peptide</td><td>0.06666667</td><td>NA</td><td>drosomycin;defensin                                                                                                                                                                        </td><td>Medium</td><td>Good</td><td>ENDEGGEKELVRVRRTSYNCPFQKHKCHRHCKSIGHIAGYCGGFRNRTCICVKK                          </td><td>Easy</td><td>Good</td></tr>\n",
       "\t<tr><td>Ixodes-scapularis_tr|B7Q4Z2|B7Q4Z2-IXOSC             </td><td>sORF    </td><td>less_than_100aa</td><td> 70</td><td>OG0001774</td><td>1.0540845</td><td>Signal peptide</td><td>0.03333333</td><td>NA</td><td>NA                                                                                                                                                                                         </td><td>Medium</td><td>Good</td><td>QVPHVRVRRAFGCPFDQGTCHSHCRSIRRRGERCSGFAKRTCTCYQK                                 </td><td>Easy</td><td>Good</td></tr>\n",
       "\t<tr><td>Hyalomma-asiaticum_KAH6923445.1_start29_end58        </td><td>cleavage</td><td>deeppeptide    </td><td> 30</td><td>OG0000880</td><td>0.3140077</td><td>Signal peptide</td><td>0.03333333</td><td>NA</td><td>NA                                                                                                                                                                                         </td><td>Medium</td><td>Poor</td><td>NA                                                                              </td><td>NA  </td><td>NA  </td></tr>\n",
       "\t<tr><td>Rhipicephalus-microplus_XP-037269427.1_start34_end70 </td><td>cleavage</td><td>deeppeptide    </td><td> 37</td><td>OG0000880</td><td>0.3140077</td><td>Signal peptide</td><td>0.03333333</td><td>NA</td><td>Lymphocryptovirus nuclear antigen 1                                                                                                                                                        </td><td>Medium</td><td>Poor</td><td>NA                                                                              </td><td>NA  </td><td>NA  </td></tr>\n",
       "\t<tr><td>Dermacentor-silvarum_XP-037559871.1_start39_end87    </td><td>cleavage</td><td>deeppeptide    </td><td> 49</td><td>OG0000880</td><td>0.3140077</td><td>Signal peptide</td><td>0.03333333</td><td>NA</td><td>ComB7 competence protein;interleukin enhancer-binding factor 3;Lymphocryptovirus nuclear antigen 1;type IV secretion system protein TrbL;ATP-dependent RNA helicase A [EC:3.6.4.13]        </td><td>Medium</td><td>Poor</td><td>NA                                                                              </td><td>NA  </td><td>NA  </td></tr>\n",
       "\t<tr><td>Dermacentor-andersoni_XP-050051547.1_start39_end77   </td><td>cleavage</td><td>deeppeptide    </td><td> 39</td><td>OG0000880</td><td>0.3140077</td><td>Signal peptide</td><td>0.06666667</td><td>NA</td><td>ComB7 competence protein;ATP-dependent RNA helicase A [EC:3.6.4.13];type IV secretion system protein TrbL;Lymphocryptovirus nuclear antigen 1;heterogeneous nuclear ribonucleoprotein A1/A3</td><td>Medium</td><td>Poor</td><td>NA                                                                              </td><td>NA  </td><td>NA  </td></tr>\n",
       "</tbody>\n",
       "</table>\n"
      ],
      "text/latex": [
       "A tibble: 12 × 15\n",
       "\\begin{tabular}{lllllllllllllll}\n",
       " peptide\\_id & peptide\\_type & prediction\\_tool & peptide\\_length & traitmapping\\_orthogroup & traitmapping\\_coefficient & traitmapping\\_deepsig\\_feature & antiinflammatory & traitmapping\\_egg\\_Description & traitmapping\\_KO\\_definition & synthesis\\_difficulty & hydrophilicity & cleaved\\_protein\\_sequence & cleaved\\_synthesis\\_difficulty & cleaved\\_hydrophilicity\\\\\n",
       " <chr> & <chr> & <chr> & <dbl> & <chr> & <dbl> & <chr> & <dbl> & <chr> & <chr> & <chr> & <chr> & <chr> & <chr> & <chr>\\\\\n",
       "\\hline\n",
       "\t Rhipicephalus-microplus\\_XP-037271377.1\\_start70\\_end114 & cleavage & deeppeptide     &  45 & OG0008102 & 0.8990799 & Signal peptide & 0.00000000 & NA & FrmR/RcnR family transcriptional regulator, repressor of rcnA expression;protein S100-A2                                                                                                    & Medium & Poor & NA                                                                               & NA   & NA  \\\\\n",
       "\t Amblyomma-sculptum\\_GEEX01004552.1.p1                  & sORF     & less\\_than\\_100aa &  99 & OG0008102 & 0.8990799 & Signal peptide & 0.00000000 & NA & U3 small nucleolar RNA-associated protein 12;proteoglycan 3;cullin-associated NEDD8-dissociated protein 1;Escherichia phage dCTP pyrophosphatase {[}EC:3.6.1.12{]};cell division protein DivIC  & Medium & Poor & ATISSPKKTLKDVKELQQDIIEALKENREEIMAAARALKSSMGNMEDGTEEQYIPPLVTAVIAAVAGGAVGGATGAGIA  & Easy & Good\\\\\n",
       "\t Amblyomma-americanum\\_evm.model.contig-245149-1.2      & sORF     & less\\_than\\_100aa & 100 & OG0008102 & 0.8990799 & Signal peptide & 0.03333333 & NA & outer membrane protein, multidrug efflux system;cecropin;2,3-dihydroxyphenylpropionate 1,2-dioxygenase {[}EC:1.13.11.16{]};thalianol hydroxylase                                                & Medium & Poor & AAMNSPKKVVKGMNELEQSIYEALKDRREDIIAAGKALKTSMDKVGDETDEQFVQALIIGIIAAVAGTATSAAVSAAIKC & Easy & Good\\\\\n",
       "\t Dermacentor-andersoni\\_XP-054924338.1\\_start87\\_end106   & cleavage & nlpprecursor    &  19 & OG0008102 & 0.8990799 & Signal peptide & 0.16666667 & NA & osmotically inducible lipoprotein OsmB                                                                                                                                                      & Medium & Poor & NA                                                                               & NA   & NA  \\\\\n",
       "\t Rhipicephalus-microplus\\_XP-037271378.1\\_start78\\_end115 & cleavage & deeppeptide     &  38 & OG0008102 & 0.8990799 & Signal peptide & 0.00000000 & NA & NA                                                                                                                                                                                          & Medium & Poor & NA                                                                               & NA   & NA  \\\\\n",
       "\t Dermacentor-silvarum\\_XP-049518196.1                   & sORF     & less\\_than\\_100aa &  94 & OG0001774 & 1.0540845 & Signal peptide & 0.00000000 & NA & defensin;drosomycin                                                                                                                                                                         & Easy   & Good & SEEHGGDSHQAGDDADPEEYPAEERDADTPLVRVRRGFGCPLQSRCNSHCQSIQRRAGYCDGPLKLRCVCTT         & Easy & Good\\\\\n",
       "\t Ixodes-scapularis\\_tr\\textbar{}B7P452\\textbar{}B7P452-IXOSC              & sORF     & less\\_than\\_100aa &  76 & OG0001774 & 1.0540845 & Signal peptide & 0.06666667 & NA & drosomycin;defensin                                                                                                                                                                         & Medium & Good & ENDEGGEKELVRVRRTSYNCPFQKHKCHRHCKSIGHIAGYCGGFRNRTCICVKK                           & Easy & Good\\\\\n",
       "\t Ixodes-scapularis\\_tr\\textbar{}B7Q4Z2\\textbar{}B7Q4Z2-IXOSC              & sORF     & less\\_than\\_100aa &  70 & OG0001774 & 1.0540845 & Signal peptide & 0.03333333 & NA & NA                                                                                                                                                                                          & Medium & Good & QVPHVRVRRAFGCPFDQGTCHSHCRSIRRRGERCSGFAKRTCTCYQK                                  & Easy & Good\\\\\n",
       "\t Hyalomma-asiaticum\\_KAH6923445.1\\_start29\\_end58         & cleavage & deeppeptide     &  30 & OG0000880 & 0.3140077 & Signal peptide & 0.03333333 & NA & NA                                                                                                                                                                                          & Medium & Poor & NA                                                                               & NA   & NA  \\\\\n",
       "\t Rhipicephalus-microplus\\_XP-037269427.1\\_start34\\_end70  & cleavage & deeppeptide     &  37 & OG0000880 & 0.3140077 & Signal peptide & 0.03333333 & NA & Lymphocryptovirus nuclear antigen 1                                                                                                                                                         & Medium & Poor & NA                                                                               & NA   & NA  \\\\\n",
       "\t Dermacentor-silvarum\\_XP-037559871.1\\_start39\\_end87     & cleavage & deeppeptide     &  49 & OG0000880 & 0.3140077 & Signal peptide & 0.03333333 & NA & ComB7 competence protein;interleukin enhancer-binding factor 3;Lymphocryptovirus nuclear antigen 1;type IV secretion system protein TrbL;ATP-dependent RNA helicase A {[}EC:3.6.4.13{]}         & Medium & Poor & NA                                                                               & NA   & NA  \\\\\n",
       "\t Dermacentor-andersoni\\_XP-050051547.1\\_start39\\_end77    & cleavage & deeppeptide     &  39 & OG0000880 & 0.3140077 & Signal peptide & 0.06666667 & NA & ComB7 competence protein;ATP-dependent RNA helicase A {[}EC:3.6.4.13{]};type IV secretion system protein TrbL;Lymphocryptovirus nuclear antigen 1;heterogeneous nuclear ribonucleoprotein A1/A3 & Medium & Poor & NA                                                                               & NA   & NA  \\\\\n",
       "\\end{tabular}\n"
      ],
      "text/markdown": [
       "\n",
       "A tibble: 12 × 15\n",
       "\n",
       "| peptide_id &lt;chr&gt; | peptide_type &lt;chr&gt; | prediction_tool &lt;chr&gt; | peptide_length &lt;dbl&gt; | traitmapping_orthogroup &lt;chr&gt; | traitmapping_coefficient &lt;dbl&gt; | traitmapping_deepsig_feature &lt;chr&gt; | antiinflammatory &lt;dbl&gt; | traitmapping_egg_Description &lt;chr&gt; | traitmapping_KO_definition &lt;chr&gt; | synthesis_difficulty &lt;chr&gt; | hydrophilicity &lt;chr&gt; | cleaved_protein_sequence &lt;chr&gt; | cleaved_synthesis_difficulty &lt;chr&gt; | cleaved_hydrophilicity &lt;chr&gt; |\n",
       "|---|---|---|---|---|---|---|---|---|---|---|---|---|---|---|\n",
       "| Rhipicephalus-microplus_XP-037271377.1_start70_end114 | cleavage | deeppeptide     |  45 | OG0008102 | 0.8990799 | Signal peptide | 0.00000000 | NA | FrmR/RcnR family transcriptional regulator, repressor of rcnA expression;protein S100-A2                                                                                                    | Medium | Poor | NA                                                                               | NA   | NA   |\n",
       "| Amblyomma-sculptum_GEEX01004552.1.p1                  | sORF     | less_than_100aa |  99 | OG0008102 | 0.8990799 | Signal peptide | 0.00000000 | NA | U3 small nucleolar RNA-associated protein 12;proteoglycan 3;cullin-associated NEDD8-dissociated protein 1;Escherichia phage dCTP pyrophosphatase [EC:3.6.1.12];cell division protein DivIC  | Medium | Poor | ATISSPKKTLKDVKELQQDIIEALKENREEIMAAARALKSSMGNMEDGTEEQYIPPLVTAVIAAVAGGAVGGATGAGIA  | Easy | Good |\n",
       "| Amblyomma-americanum_evm.model.contig-245149-1.2      | sORF     | less_than_100aa | 100 | OG0008102 | 0.8990799 | Signal peptide | 0.03333333 | NA | outer membrane protein, multidrug efflux system;cecropin;2,3-dihydroxyphenylpropionate 1,2-dioxygenase [EC:1.13.11.16];thalianol hydroxylase                                                | Medium | Poor | AAMNSPKKVVKGMNELEQSIYEALKDRREDIIAAGKALKTSMDKVGDETDEQFVQALIIGIIAAVAGTATSAAVSAAIKC | Easy | Good |\n",
       "| Dermacentor-andersoni_XP-054924338.1_start87_end106   | cleavage | nlpprecursor    |  19 | OG0008102 | 0.8990799 | Signal peptide | 0.16666667 | NA | osmotically inducible lipoprotein OsmB                                                                                                                                                      | Medium | Poor | NA                                                                               | NA   | NA   |\n",
       "| Rhipicephalus-microplus_XP-037271378.1_start78_end115 | cleavage | deeppeptide     |  38 | OG0008102 | 0.8990799 | Signal peptide | 0.00000000 | NA | NA                                                                                                                                                                                          | Medium | Poor | NA                                                                               | NA   | NA   |\n",
       "| Dermacentor-silvarum_XP-049518196.1                   | sORF     | less_than_100aa |  94 | OG0001774 | 1.0540845 | Signal peptide | 0.00000000 | NA | defensin;drosomycin                                                                                                                                                                         | Easy   | Good | SEEHGGDSHQAGDDADPEEYPAEERDADTPLVRVRRGFGCPLQSRCNSHCQSIQRRAGYCDGPLKLRCVCTT         | Easy | Good |\n",
       "| Ixodes-scapularis_tr|B7P452|B7P452-IXOSC              | sORF     | less_than_100aa |  76 | OG0001774 | 1.0540845 | Signal peptide | 0.06666667 | NA | drosomycin;defensin                                                                                                                                                                         | Medium | Good | ENDEGGEKELVRVRRTSYNCPFQKHKCHRHCKSIGHIAGYCGGFRNRTCICVKK                           | Easy | Good |\n",
       "| Ixodes-scapularis_tr|B7Q4Z2|B7Q4Z2-IXOSC              | sORF     | less_than_100aa |  70 | OG0001774 | 1.0540845 | Signal peptide | 0.03333333 | NA | NA                                                                                                                                                                                          | Medium | Good | QVPHVRVRRAFGCPFDQGTCHSHCRSIRRRGERCSGFAKRTCTCYQK                                  | Easy | Good |\n",
       "| Hyalomma-asiaticum_KAH6923445.1_start29_end58         | cleavage | deeppeptide     |  30 | OG0000880 | 0.3140077 | Signal peptide | 0.03333333 | NA | NA                                                                                                                                                                                          | Medium | Poor | NA                                                                               | NA   | NA   |\n",
       "| Rhipicephalus-microplus_XP-037269427.1_start34_end70  | cleavage | deeppeptide     |  37 | OG0000880 | 0.3140077 | Signal peptide | 0.03333333 | NA | Lymphocryptovirus nuclear antigen 1                                                                                                                                                         | Medium | Poor | NA                                                                               | NA   | NA   |\n",
       "| Dermacentor-silvarum_XP-037559871.1_start39_end87     | cleavage | deeppeptide     |  49 | OG0000880 | 0.3140077 | Signal peptide | 0.03333333 | NA | ComB7 competence protein;interleukin enhancer-binding factor 3;Lymphocryptovirus nuclear antigen 1;type IV secretion system protein TrbL;ATP-dependent RNA helicase A [EC:3.6.4.13]         | Medium | Poor | NA                                                                               | NA   | NA   |\n",
       "| Dermacentor-andersoni_XP-050051547.1_start39_end77    | cleavage | deeppeptide     |  39 | OG0000880 | 0.3140077 | Signal peptide | 0.06666667 | NA | ComB7 competence protein;ATP-dependent RNA helicase A [EC:3.6.4.13];type IV secretion system protein TrbL;Lymphocryptovirus nuclear antigen 1;heterogeneous nuclear ribonucleoprotein A1/A3 | Medium | Poor | NA                                                                               | NA   | NA   |\n",
       "\n"
      ],
      "text/plain": [
       "   peptide_id                                            peptide_type\n",
       "1  Rhipicephalus-microplus_XP-037271377.1_start70_end114 cleavage    \n",
       "2  Amblyomma-sculptum_GEEX01004552.1.p1                  sORF        \n",
       "3  Amblyomma-americanum_evm.model.contig-245149-1.2      sORF        \n",
       "4  Dermacentor-andersoni_XP-054924338.1_start87_end106   cleavage    \n",
       "5  Rhipicephalus-microplus_XP-037271378.1_start78_end115 cleavage    \n",
       "6  Dermacentor-silvarum_XP-049518196.1                   sORF        \n",
       "7  Ixodes-scapularis_tr|B7P452|B7P452-IXOSC              sORF        \n",
       "8  Ixodes-scapularis_tr|B7Q4Z2|B7Q4Z2-IXOSC              sORF        \n",
       "9  Hyalomma-asiaticum_KAH6923445.1_start29_end58         cleavage    \n",
       "10 Rhipicephalus-microplus_XP-037269427.1_start34_end70  cleavage    \n",
       "11 Dermacentor-silvarum_XP-037559871.1_start39_end87     cleavage    \n",
       "12 Dermacentor-andersoni_XP-050051547.1_start39_end77    cleavage    \n",
       "   prediction_tool peptide_length traitmapping_orthogroup\n",
       "1  deeppeptide      45            OG0008102              \n",
       "2  less_than_100aa  99            OG0008102              \n",
       "3  less_than_100aa 100            OG0008102              \n",
       "4  nlpprecursor     19            OG0008102              \n",
       "5  deeppeptide      38            OG0008102              \n",
       "6  less_than_100aa  94            OG0001774              \n",
       "7  less_than_100aa  76            OG0001774              \n",
       "8  less_than_100aa  70            OG0001774              \n",
       "9  deeppeptide      30            OG0000880              \n",
       "10 deeppeptide      37            OG0000880              \n",
       "11 deeppeptide      49            OG0000880              \n",
       "12 deeppeptide      39            OG0000880              \n",
       "   traitmapping_coefficient traitmapping_deepsig_feature antiinflammatory\n",
       "1  0.8990799                Signal peptide               0.00000000      \n",
       "2  0.8990799                Signal peptide               0.00000000      \n",
       "3  0.8990799                Signal peptide               0.03333333      \n",
       "4  0.8990799                Signal peptide               0.16666667      \n",
       "5  0.8990799                Signal peptide               0.00000000      \n",
       "6  1.0540845                Signal peptide               0.00000000      \n",
       "7  1.0540845                Signal peptide               0.06666667      \n",
       "8  1.0540845                Signal peptide               0.03333333      \n",
       "9  0.3140077                Signal peptide               0.03333333      \n",
       "10 0.3140077                Signal peptide               0.03333333      \n",
       "11 0.3140077                Signal peptide               0.03333333      \n",
       "12 0.3140077                Signal peptide               0.06666667      \n",
       "   traitmapping_egg_Description\n",
       "1  NA                          \n",
       "2  NA                          \n",
       "3  NA                          \n",
       "4  NA                          \n",
       "5  NA                          \n",
       "6  NA                          \n",
       "7  NA                          \n",
       "8  NA                          \n",
       "9  NA                          \n",
       "10 NA                          \n",
       "11 NA                          \n",
       "12 NA                          \n",
       "   traitmapping_KO_definition                                                                                                                                                                 \n",
       "1  FrmR/RcnR family transcriptional regulator, repressor of rcnA expression;protein S100-A2                                                                                                   \n",
       "2  U3 small nucleolar RNA-associated protein 12;proteoglycan 3;cullin-associated NEDD8-dissociated protein 1;Escherichia phage dCTP pyrophosphatase [EC:3.6.1.12];cell division protein DivIC \n",
       "3  outer membrane protein, multidrug efflux system;cecropin;2,3-dihydroxyphenylpropionate 1,2-dioxygenase [EC:1.13.11.16];thalianol hydroxylase                                               \n",
       "4  osmotically inducible lipoprotein OsmB                                                                                                                                                     \n",
       "5  NA                                                                                                                                                                                         \n",
       "6  defensin;drosomycin                                                                                                                                                                        \n",
       "7  drosomycin;defensin                                                                                                                                                                        \n",
       "8  NA                                                                                                                                                                                         \n",
       "9  NA                                                                                                                                                                                         \n",
       "10 Lymphocryptovirus nuclear antigen 1                                                                                                                                                        \n",
       "11 ComB7 competence protein;interleukin enhancer-binding factor 3;Lymphocryptovirus nuclear antigen 1;type IV secretion system protein TrbL;ATP-dependent RNA helicase A [EC:3.6.4.13]        \n",
       "12 ComB7 competence protein;ATP-dependent RNA helicase A [EC:3.6.4.13];type IV secretion system protein TrbL;Lymphocryptovirus nuclear antigen 1;heterogeneous nuclear ribonucleoprotein A1/A3\n",
       "   synthesis_difficulty hydrophilicity\n",
       "1  Medium               Poor          \n",
       "2  Medium               Poor          \n",
       "3  Medium               Poor          \n",
       "4  Medium               Poor          \n",
       "5  Medium               Poor          \n",
       "6  Easy                 Good          \n",
       "7  Medium               Good          \n",
       "8  Medium               Good          \n",
       "9  Medium               Poor          \n",
       "10 Medium               Poor          \n",
       "11 Medium               Poor          \n",
       "12 Medium               Poor          \n",
       "   cleaved_protein_sequence                                                        \n",
       "1  NA                                                                              \n",
       "2  ATISSPKKTLKDVKELQQDIIEALKENREEIMAAARALKSSMGNMEDGTEEQYIPPLVTAVIAAVAGGAVGGATGAGIA \n",
       "3  AAMNSPKKVVKGMNELEQSIYEALKDRREDIIAAGKALKTSMDKVGDETDEQFVQALIIGIIAAVAGTATSAAVSAAIKC\n",
       "4  NA                                                                              \n",
       "5  NA                                                                              \n",
       "6  SEEHGGDSHQAGDDADPEEYPAEERDADTPLVRVRRGFGCPLQSRCNSHCQSIQRRAGYCDGPLKLRCVCTT        \n",
       "7  ENDEGGEKELVRVRRTSYNCPFQKHKCHRHCKSIGHIAGYCGGFRNRTCICVKK                          \n",
       "8  QVPHVRVRRAFGCPFDQGTCHSHCRSIRRRGERCSGFAKRTCTCYQK                                 \n",
       "9  NA                                                                              \n",
       "10 NA                                                                              \n",
       "11 NA                                                                              \n",
       "12 NA                                                                              \n",
       "   cleaved_synthesis_difficulty cleaved_hydrophilicity\n",
       "1  NA                           NA                    \n",
       "2  Easy                         Good                  \n",
       "3  Easy                         Good                  \n",
       "4  NA                           NA                    \n",
       "5  NA                           NA                    \n",
       "6  Easy                         Good                  \n",
       "7  Easy                         Good                  \n",
       "8  Easy                         Good                  \n",
       "9  NA                           NA                    \n",
       "10 NA                           NA                    \n",
       "11 NA                           NA                    \n",
       "12 NA                           NA                    "
      ]
     },
     "metadata": {},
     "output_type": "display_data"
    }
   ],
   "source": [
    "predictions_final <- predictions %>%\n",
    "  filter(peptide_id %in% all_names) %>%\n",
    "  left_join(cleaved_sorfs, by = \"peptide_id\") %>%\n",
    "  arrange(desc(traitmapping_orthogroup)) %>%\n",
    "  select(-start, -end, -nlpprecursor_class_score, -nlpprecursor_cleavage_score, -traitmapping_model, -traitmapping_profile_type) %>%\n",
    "  mutate(cleaved_length = nchar(cleaved_protein_sequence))\n",
    "\n",
    "predictions_final  %>%\n",
    "  select(peptide_id, peptide_type, prediction_tool, peptide_length,\n",
    "         traitmapping_orthogroup, traitmapping_coefficient, traitmapping_deepsig_feature,\n",
    "         antiinflammatory, traitmapping_egg_Description, traitmapping_KO_definition,\n",
    "         synthesis_difficulty, hydrophilicity,\n",
    "         cleaved_protein_sequence, cleaved_synthesis_difficulty, cleaved_hydrophilicity) "
   ]
  },
  {
   "cell_type": "code",
   "execution_count": 22,
   "id": "c4eaf032-6236-4922-bc4c-586f9cf24319",
   "metadata": {},
   "outputs": [],
   "source": [
    "output <- predictions_final %>%\n",
    "  mutate(final_peptide_sequence = ifelse(is.na(cleaved_protein_sequence), protein_sequence, cleaved_protein_sequence),\n",
    "         final_length = ifelse(is.na(cleaved_length), peptide_length, cleaved_length),\n",
    "         final_synthesis_difficulty = ifelse(is.na(cleaved_synthesis_difficulty), synthesis_difficulty, cleaved_synthesis_difficulty),\n",
    "         final_hydrophilicity = ifelse(is.na(cleaved_hydrophilicity), hydrophilicity, cleaved_hydrophilicity)) %>%\n",
    "  select(peptide_id, peptide_sequence = final_peptide_sequence, length = final_length, hydrophilicity = final_hydrophilicity, \n",
    "         difficulty_of_synthesis = final_synthesis_difficulty, peptide_type, peptide_class, prediction_tool, traitmapping_cluster, \n",
    "         traitmapping_orthogroup, traitmapping_coefficient, traitmapping_KO, traitmapping_KO_definition, traitmapping_deepsig_feature,\n",
    "         type_of_itch_suppression_evidence,\n",
    "         num_proteins_in_orthogroup, num_predicted_peptides, fraction_of_orthogroup_with_predicted_peptide, num_tick_proteins_in_orthogroup,\n",
    "         fraction_of_orthogroup_tick_proteins, num_predicted_peptides_from_tick, fraction_of_orthogroup_with_predicted_tick_peptides,\n",
    "         num_itchsuppsp_proteins_in_orthogroup, fraction_of_orthogroup_itchsuppsp_proteins, num_predicted_peptides_from_itchsuppsp,\n",
    "         fraction_of_orthogroup_with_predicted_itchsuppsp_peptides, num_predicted_peptides_with_sg_blast_hit, \n",
    "         locus_tag, traitmapping_signif_level, traitmapping_signif_fdr, traitmapping_species, traitmapping_Length, \n",
    "         traitmapping_egg_Description, traitmapping_deepsig_start, traitmapping_deepsig_end,  \n",
    "         AB, ACE, ACP, AF, AMAP, AMP, AOX, APP, AV, BBP, DPPIV, MRSA, Neuro, QS, TOX, TTCA, antiinflammatory,\n",
    "         aliphatic_index, boman_index, charge, hydrophobicity, instability_index, isoelectric_point, molecular_weight, pd1_residue_volume,\n",
    "         pd2_hydrophilicity, z1_lipophilicity, z2_steric_bulk_or_polarizability, z3_polarity_or_charge, z4_electronegativity_etc, z5_electronegativity_etc, \n",
    "         peptipedia_blast_sseqid, peptipedia_blast_full_sseq, peptipedia_blast_pident, peptipedia_blast_length, peptipedia_blast_qlen, \n",
    "         peptipedia_blast_slen, peptipedia_blast_mismatch, peptipedia_blast_gapopen, peptipedia_blast_qstart, peptipedia_blast_qend, \n",
    "         peptipedia_blast_sstart, peptipedia_blast_send, peptipedia_blast_evalue, peptipedia_blast_bitscore, peptipedia_num_hits, \n",
    "         peptide_deepsig_prediction = deepsig_combined, mmseqs2_representative_sequence, mmseqs2_num_peptides_in_cluster, \n",
    "         sgpeptide_blast_sseqid, sgpeptide_blast_full_sseq, sgpeptide_blast_pident, sgpeptide_blast_length, sgpeptide_blast_qlen, \n",
    "         sgpeptide_blast_slen, sgpeptide_blast_qcovhsp, sgpeptide_blast_scovhsp, sgpeptide_blast_mismatch, sgpeptide_blast_gapopen, \n",
    "         sgpeptide_blast_qstart, sgpeptide_blast_qend, sgpeptide_blast_sstart, sgpeptide_blast_send, sgpeptide_blast_evalue, sgpeptide_blast_bitscore,\n",
    "         original_peptide_sequence = protein_sequence, original_peptide_length = peptide_length, \n",
    "         original_synthesis_difficulty = synthesis_difficulty, original_hydrophilicity = hydrophilicity, \n",
    "         cleaved_protein_sequence, cleaved_synthesis_difficulty, cleaved_hydrophilicity, cleaved_length)\n",
    "\n",
    "write_tsv(output, \"20240626-predictions.tsv\")"
   ]
  },
  {
   "cell_type": "markdown",
   "id": "95ee9fba-30c2-452c-8f81-57bf22bfb0a6",
   "metadata": {},
   "source": [
    "## POOL 6: OG0001774 (3 peptides)\n",
    "\n",
    "* OG0001774 has the highest trait mapping coefficient and is the only orthogroup with tick and non-tick (*P. ovis*) proteins that passed all filters.\n",
    "* 5 peptides are Easy or Medium to synthesize and have good solubility.\n",
    "* One hit (cleavage) is from *Tyrophagus putrescentiae*, a mold mite that does not bite humans. I removed this protein from consideration.\n",
    "* The four remaining peptides are all sORFs. All have hits against tick salivary gland transcriptomes and are annotated as defensins. Two cluster together and two do not. Given that two peptides cluster together, I picked one representative from this pair. I included the other two sequences as well.\n",
    "* **Candidates**:\n",
    "    * `Dermacentor-silvarum_XP-049518196.1`(SEEHGGDSHQAGDDADPEEYPAEERDADTPLVRVRRGFGCPLQSRCNSHCQSIQRRAGYCDGPLKLRCVCTT) (signal peptide cleaved, easy, good)\n",
    "    * `Ixodes-scapularis_tr|B7P452|B7P452-IXOSC` (ENDEGGEKELVRVRRTSYNCPFQKHKCHRHCKSIGHIAGYCGGFRNRTCICVKK) (signal peptide cleaved, easy, good)\n",
    "    * `Ixodes-scapularis_tr|B7Q4Z2|B7Q4Z2-IXOSC` (QVPHVRVRRAFGCPFDQGTCHSHCRSIRRRGERCSGFAKRTCTCYQK) (signal peptide cleaved, easy, good)"
   ]
  },
  {
   "cell_type": "code",
   "execution_count": 23,
   "id": "88d53b0a-034d-4aeb-9d92-19c85c1ba181",
   "metadata": {},
   "outputs": [
    {
     "data": {
      "text/html": [
       "<table class=\"dataframe\">\n",
       "<caption>A tibble: 5 × 9</caption>\n",
       "<thead>\n",
       "\t<tr><th scope=col>synthesis_difficulty</th><th scope=col>hydrophilicity</th><th scope=col>peptide_type</th><th scope=col>traitmapping_orthogroup</th><th scope=col>type_of_itch_suppression_evidence</th><th scope=col>peptide_id</th><th scope=col>mmseqs2_representative_sequence</th><th scope=col>sgpeptide_blast_sseqid</th><th scope=col>protein_sequence</th></tr>\n",
       "\t<tr><th scope=col>&lt;chr&gt;</th><th scope=col>&lt;chr&gt;</th><th scope=col>&lt;chr&gt;</th><th scope=col>&lt;chr&gt;</th><th scope=col>&lt;chr&gt;</th><th scope=col>&lt;chr&gt;</th><th scope=col>&lt;chr&gt;</th><th scope=col>&lt;chr&gt;</th><th scope=col>&lt;chr&gt;</th></tr>\n",
       "</thead>\n",
       "<tbody>\n",
       "\t<tr><td>Easy  </td><td>Good</td><td>cleavage</td><td>OG0001774</td><td>chelicerate support</td><td>Tyrophagus-putrescentiae_KAH9391114.1_start28_end63</td><td>Tyrophagus-putrescentiae_KAH9391114.1_start28_end63</td><td>NA            </td><td>DYGCPITSKCKQHCLENKFKSGSCEGTLKLTCHCVG                                                          </td></tr>\n",
       "\t<tr><td>Easy  </td><td>Good</td><td>sORF    </td><td>OG0001774</td><td>chelicerate support</td><td>Dermacentor-silvarum_XP-049518196.1                </td><td>Dermacentor-silvarum_XP-049518196.1                </td><td>GBBK01002034.1</td><td>MKISTVAFALLILSVMLVSGIASEEHGGDSHQAGDDADPEEYPAEERDADTPLVRVRRGFGCPLQSRCNSHCQSIQRRAGYCDGPLKLRCVCTT</td></tr>\n",
       "\t<tr><td>Easy  </td><td>Good</td><td>sORF    </td><td>OG0001774</td><td>chelicerate support</td><td>Dermacentor-andersoni_XP-050044148.1               </td><td>Dermacentor-silvarum_XP-049518196.1                </td><td>GBBK01002034.1</td><td>MKMSTVAFALLILSVMLVSGIASEEHGGESQEADEDPHPEEYGLEERSAETPLVRVRRGFGCPLQSRCNTHCQSIQRRAGYCDGPLKLRCVCTT</td></tr>\n",
       "\t<tr><td>Medium</td><td>Good</td><td>sORF    </td><td>OG0001774</td><td>chelicerate support</td><td>Ixodes-scapularis_tr|B7P452|B7P452-IXOSC           </td><td>Ixodes-scapularis_tr|B7P452|B7P452-IXOSC           </td><td>GADI01002331.1</td><td>MKVLAVSLAFLLITGLISTSLAENDEGGEKELVRVRRTSYNCPFQKHKCHRHCKSIGHIAGYCGGFRNRTCICVKK                  </td></tr>\n",
       "\t<tr><td>Medium</td><td>Good</td><td>sORF    </td><td>OG0001774</td><td>chelicerate support</td><td>Ixodes-scapularis_tr|B7Q4Z2|B7Q4Z2-IXOSC           </td><td>Ixodes-scapularis_tr|B7Q4Z2|B7Q4Z2-IXOSC           </td><td>GANP01015342.1</td><td>MKVVGIALVVRLFSFSCSQGVHSQVPHVRVRRAFGCPFDQGTCHSHCRSIRRRGERCSGFAKRTCTCYQK                        </td></tr>\n",
       "</tbody>\n",
       "</table>\n"
      ],
      "text/latex": [
       "A tibble: 5 × 9\n",
       "\\begin{tabular}{lllllllll}\n",
       " synthesis\\_difficulty & hydrophilicity & peptide\\_type & traitmapping\\_orthogroup & type\\_of\\_itch\\_suppression\\_evidence & peptide\\_id & mmseqs2\\_representative\\_sequence & sgpeptide\\_blast\\_sseqid & protein\\_sequence\\\\\n",
       " <chr> & <chr> & <chr> & <chr> & <chr> & <chr> & <chr> & <chr> & <chr>\\\\\n",
       "\\hline\n",
       "\t Easy   & Good & cleavage & OG0001774 & chelicerate support & Tyrophagus-putrescentiae\\_KAH9391114.1\\_start28\\_end63 & Tyrophagus-putrescentiae\\_KAH9391114.1\\_start28\\_end63 & NA             & DYGCPITSKCKQHCLENKFKSGSCEGTLKLTCHCVG                                                          \\\\\n",
       "\t Easy   & Good & sORF     & OG0001774 & chelicerate support & Dermacentor-silvarum\\_XP-049518196.1                 & Dermacentor-silvarum\\_XP-049518196.1                 & GBBK01002034.1 & MKISTVAFALLILSVMLVSGIASEEHGGDSHQAGDDADPEEYPAEERDADTPLVRVRRGFGCPLQSRCNSHCQSIQRRAGYCDGPLKLRCVCTT\\\\\n",
       "\t Easy   & Good & sORF     & OG0001774 & chelicerate support & Dermacentor-andersoni\\_XP-050044148.1                & Dermacentor-silvarum\\_XP-049518196.1                 & GBBK01002034.1 & MKMSTVAFALLILSVMLVSGIASEEHGGESQEADEDPHPEEYGLEERSAETPLVRVRRGFGCPLQSRCNTHCQSIQRRAGYCDGPLKLRCVCTT\\\\\n",
       "\t Medium & Good & sORF     & OG0001774 & chelicerate support & Ixodes-scapularis\\_tr\\textbar{}B7P452\\textbar{}B7P452-IXOSC            & Ixodes-scapularis\\_tr\\textbar{}B7P452\\textbar{}B7P452-IXOSC            & GADI01002331.1 & MKVLAVSLAFLLITGLISTSLAENDEGGEKELVRVRRTSYNCPFQKHKCHRHCKSIGHIAGYCGGFRNRTCICVKK                  \\\\\n",
       "\t Medium & Good & sORF     & OG0001774 & chelicerate support & Ixodes-scapularis\\_tr\\textbar{}B7Q4Z2\\textbar{}B7Q4Z2-IXOSC            & Ixodes-scapularis\\_tr\\textbar{}B7Q4Z2\\textbar{}B7Q4Z2-IXOSC            & GANP01015342.1 & MKVVGIALVVRLFSFSCSQGVHSQVPHVRVRRAFGCPFDQGTCHSHCRSIRRRGERCSGFAKRTCTCYQK                        \\\\\n",
       "\\end{tabular}\n"
      ],
      "text/markdown": [
       "\n",
       "A tibble: 5 × 9\n",
       "\n",
       "| synthesis_difficulty &lt;chr&gt; | hydrophilicity &lt;chr&gt; | peptide_type &lt;chr&gt; | traitmapping_orthogroup &lt;chr&gt; | type_of_itch_suppression_evidence &lt;chr&gt; | peptide_id &lt;chr&gt; | mmseqs2_representative_sequence &lt;chr&gt; | sgpeptide_blast_sseqid &lt;chr&gt; | protein_sequence &lt;chr&gt; |\n",
       "|---|---|---|---|---|---|---|---|---|\n",
       "| Easy   | Good | cleavage | OG0001774 | chelicerate support | Tyrophagus-putrescentiae_KAH9391114.1_start28_end63 | Tyrophagus-putrescentiae_KAH9391114.1_start28_end63 | NA             | DYGCPITSKCKQHCLENKFKSGSCEGTLKLTCHCVG                                                           |\n",
       "| Easy   | Good | sORF     | OG0001774 | chelicerate support | Dermacentor-silvarum_XP-049518196.1                 | Dermacentor-silvarum_XP-049518196.1                 | GBBK01002034.1 | MKISTVAFALLILSVMLVSGIASEEHGGDSHQAGDDADPEEYPAEERDADTPLVRVRRGFGCPLQSRCNSHCQSIQRRAGYCDGPLKLRCVCTT |\n",
       "| Easy   | Good | sORF     | OG0001774 | chelicerate support | Dermacentor-andersoni_XP-050044148.1                | Dermacentor-silvarum_XP-049518196.1                 | GBBK01002034.1 | MKMSTVAFALLILSVMLVSGIASEEHGGESQEADEDPHPEEYGLEERSAETPLVRVRRGFGCPLQSRCNTHCQSIQRRAGYCDGPLKLRCVCTT |\n",
       "| Medium | Good | sORF     | OG0001774 | chelicerate support | Ixodes-scapularis_tr|B7P452|B7P452-IXOSC            | Ixodes-scapularis_tr|B7P452|B7P452-IXOSC            | GADI01002331.1 | MKVLAVSLAFLLITGLISTSLAENDEGGEKELVRVRRTSYNCPFQKHKCHRHCKSIGHIAGYCGGFRNRTCICVKK                   |\n",
       "| Medium | Good | sORF     | OG0001774 | chelicerate support | Ixodes-scapularis_tr|B7Q4Z2|B7Q4Z2-IXOSC            | Ixodes-scapularis_tr|B7Q4Z2|B7Q4Z2-IXOSC            | GANP01015342.1 | MKVVGIALVVRLFSFSCSQGVHSQVPHVRVRRAFGCPFDQGTCHSHCRSIRRRGERCSGFAKRTCTCYQK                         |\n",
       "\n"
      ],
      "text/plain": [
       "  synthesis_difficulty hydrophilicity peptide_type traitmapping_orthogroup\n",
       "1 Easy                 Good           cleavage     OG0001774              \n",
       "2 Easy                 Good           sORF         OG0001774              \n",
       "3 Easy                 Good           sORF         OG0001774              \n",
       "4 Medium               Good           sORF         OG0001774              \n",
       "5 Medium               Good           sORF         OG0001774              \n",
       "  type_of_itch_suppression_evidence\n",
       "1 chelicerate support              \n",
       "2 chelicerate support              \n",
       "3 chelicerate support              \n",
       "4 chelicerate support              \n",
       "5 chelicerate support              \n",
       "  peptide_id                                         \n",
       "1 Tyrophagus-putrescentiae_KAH9391114.1_start28_end63\n",
       "2 Dermacentor-silvarum_XP-049518196.1                \n",
       "3 Dermacentor-andersoni_XP-050044148.1               \n",
       "4 Ixodes-scapularis_tr|B7P452|B7P452-IXOSC           \n",
       "5 Ixodes-scapularis_tr|B7Q4Z2|B7Q4Z2-IXOSC           \n",
       "  mmseqs2_representative_sequence                     sgpeptide_blast_sseqid\n",
       "1 Tyrophagus-putrescentiae_KAH9391114.1_start28_end63 NA                    \n",
       "2 Dermacentor-silvarum_XP-049518196.1                 GBBK01002034.1        \n",
       "3 Dermacentor-silvarum_XP-049518196.1                 GBBK01002034.1        \n",
       "4 Ixodes-scapularis_tr|B7P452|B7P452-IXOSC            GADI01002331.1        \n",
       "5 Ixodes-scapularis_tr|B7Q4Z2|B7Q4Z2-IXOSC            GANP01015342.1        \n",
       "  protein_sequence                                                                              \n",
       "1 DYGCPITSKCKQHCLENKFKSGSCEGTLKLTCHCVG                                                          \n",
       "2 MKISTVAFALLILSVMLVSGIASEEHGGDSHQAGDDADPEEYPAEERDADTPLVRVRRGFGCPLQSRCNSHCQSIQRRAGYCDGPLKLRCVCTT\n",
       "3 MKMSTVAFALLILSVMLVSGIASEEHGGESQEADEDPHPEEYGLEERSAETPLVRVRRGFGCPLQSRCNTHCQSIQRRAGYCDGPLKLRCVCTT\n",
       "4 MKVLAVSLAFLLITGLISTSLAENDEGGEKELVRVRRTSYNCPFQKHKCHRHCKSIGHIAGYCGGFRNRTCICVKK                  \n",
       "5 MKVVGIALVVRLFSFSCSQGVHSQVPHVRVRRAFGCPFDQGTCHSHCRSIRRRGERCSGFAKRTCTCYQK                        "
      ]
     },
     "metadata": {},
     "output_type": "display_data"
    }
   ],
   "source": [
    "OG0001774 <- predictions %>%\n",
    "  filter(traitmapping_deepsig_feature == \"Signal peptide\") %>%\n",
    "  select(synthesis_difficulty, hydrophilicity, peptide_type, traitmapping_orthogroup,\n",
    "         type_of_itch_suppression_evidence, peptide_id, mmseqs2_representative_sequence, \n",
    "         sgpeptide_blast_sseqid, protein_sequence) %>% \n",
    "  filter(traitmapping_orthogroup == \"OG0001774\") %>%\n",
    "  filter(synthesis_difficulty %in% c(\"Easy\", \"Medium\")) %>%\n",
    "  filter(hydrophilicity == \"Good\") %>%\n",
    "  arrange(hydrophilicity, synthesis_difficulty)\n",
    "OG0001774"
   ]
  },
  {
   "cell_type": "code",
   "execution_count": 24,
   "id": "a0db8a5c-7705-4e8b-821f-8cf43ac16199",
   "metadata": {},
   "outputs": [
    {
     "data": {
      "text/html": [
       "<table class=\"dataframe\">\n",
       "<caption>A tibble: 4 × 5</caption>\n",
       "<thead>\n",
       "\t<tr><th scope=col>peptide_type</th><th scope=col>peptide_id</th><th scope=col>traitmapping_deepsig_feature</th><th scope=col>traitmapping_KO</th><th scope=col>traitmapping_KO_definition</th></tr>\n",
       "\t<tr><th scope=col>&lt;chr&gt;</th><th scope=col>&lt;chr&gt;</th><th scope=col>&lt;chr&gt;</th><th scope=col>&lt;chr&gt;</th><th scope=col>&lt;chr&gt;</th></tr>\n",
       "</thead>\n",
       "<tbody>\n",
       "\t<tr><td>sORF</td><td>Dermacentor-silvarum_XP-049518196.1     </td><td>Signal peptide</td><td>K20668;K20670</td><td>defensin;drosomycin</td></tr>\n",
       "\t<tr><td>sORF</td><td>Dermacentor-andersoni_XP-050044148.1    </td><td>Signal peptide</td><td>K20668;K20670</td><td>defensin;drosomycin</td></tr>\n",
       "\t<tr><td>sORF</td><td>Ixodes-scapularis_tr|B7P452|B7P452-IXOSC</td><td>Signal peptide</td><td>K20670;K20668</td><td>drosomycin;defensin</td></tr>\n",
       "\t<tr><td>sORF</td><td>Ixodes-scapularis_tr|B7Q4Z2|B7Q4Z2-IXOSC</td><td>Signal peptide</td><td>NA           </td><td>NA                 </td></tr>\n",
       "</tbody>\n",
       "</table>\n"
      ],
      "text/latex": [
       "A tibble: 4 × 5\n",
       "\\begin{tabular}{lllll}\n",
       " peptide\\_type & peptide\\_id & traitmapping\\_deepsig\\_feature & traitmapping\\_KO & traitmapping\\_KO\\_definition\\\\\n",
       " <chr> & <chr> & <chr> & <chr> & <chr>\\\\\n",
       "\\hline\n",
       "\t sORF & Dermacentor-silvarum\\_XP-049518196.1      & Signal peptide & K20668;K20670 & defensin;drosomycin\\\\\n",
       "\t sORF & Dermacentor-andersoni\\_XP-050044148.1     & Signal peptide & K20668;K20670 & defensin;drosomycin\\\\\n",
       "\t sORF & Ixodes-scapularis\\_tr\\textbar{}B7P452\\textbar{}B7P452-IXOSC & Signal peptide & K20670;K20668 & drosomycin;defensin\\\\\n",
       "\t sORF & Ixodes-scapularis\\_tr\\textbar{}B7Q4Z2\\textbar{}B7Q4Z2-IXOSC & Signal peptide & NA            & NA                 \\\\\n",
       "\\end{tabular}\n"
      ],
      "text/markdown": [
       "\n",
       "A tibble: 4 × 5\n",
       "\n",
       "| peptide_type &lt;chr&gt; | peptide_id &lt;chr&gt; | traitmapping_deepsig_feature &lt;chr&gt; | traitmapping_KO &lt;chr&gt; | traitmapping_KO_definition &lt;chr&gt; |\n",
       "|---|---|---|---|---|\n",
       "| sORF | Dermacentor-silvarum_XP-049518196.1      | Signal peptide | K20668;K20670 | defensin;drosomycin |\n",
       "| sORF | Dermacentor-andersoni_XP-050044148.1     | Signal peptide | K20668;K20670 | defensin;drosomycin |\n",
       "| sORF | Ixodes-scapularis_tr|B7P452|B7P452-IXOSC | Signal peptide | K20670;K20668 | drosomycin;defensin |\n",
       "| sORF | Ixodes-scapularis_tr|B7Q4Z2|B7Q4Z2-IXOSC | Signal peptide | NA            | NA                  |\n",
       "\n"
      ],
      "text/plain": [
       "  peptide_type peptide_id                              \n",
       "1 sORF         Dermacentor-silvarum_XP-049518196.1     \n",
       "2 sORF         Dermacentor-andersoni_XP-050044148.1    \n",
       "3 sORF         Ixodes-scapularis_tr|B7P452|B7P452-IXOSC\n",
       "4 sORF         Ixodes-scapularis_tr|B7Q4Z2|B7Q4Z2-IXOSC\n",
       "  traitmapping_deepsig_feature traitmapping_KO traitmapping_KO_definition\n",
       "1 Signal peptide               K20668;K20670   defensin;drosomycin       \n",
       "2 Signal peptide               K20668;K20670   defensin;drosomycin       \n",
       "3 Signal peptide               K20670;K20668   drosomycin;defensin       \n",
       "4 Signal peptide               NA              NA                        "
      ]
     },
     "metadata": {},
     "output_type": "display_data"
    }
   ],
   "source": [
    "# look at annotation information\n",
    "predictions %>%\n",
    "  filter(traitmapping_deepsig_feature == \"Signal peptide\") %>%\n",
    "  filter(traitmapping_orthogroup == \"OG0001774\") %>%\n",
    "  filter(!peptide_id %in% c(\"Tyrophagus-putrescentiae_KAH9391114.1_start28_end63\")) %>%\n",
    "  filter(synthesis_difficulty %in% c(\"Easy\", \"Medium\")) %>%\n",
    "  filter(hydrophilicity == \"Good\") %>%\n",
    "  select(peptide_type, peptide_id, traitmapping_deepsig_feature, traitmapping_KO, traitmapping_KO_definition) "
   ]
  },
  {
   "cell_type": "markdown",
   "id": "9170674d-20f4-4e25-bf05-720a33c3ed9b",
   "metadata": {},
   "source": [
    "## POOL 1 -- OG0008102 (5 peptides)\n",
    "\n",
    "* Orthogroup `OG0008102` has the second highest trait mapping coefficient.\n",
    "\n",
    "* **sORFs** (2 peptides)\n",
    "    * There are three sORFs in this group, but only two have signal peptides, so we'll only move forward with those two.\n",
    "    * The Two sORFs with signal peptides are \"Medium\" to synthesize with \"Poor\" hydrophilicity. However, when we cleave their signal peptides, they become \"Easy\" to synthesize with \"Good\" hydrophilicity.\n",
    "        * `Amblyomma-americanum_evm.model.contig-245149-1.2` (AAMNSPKKVVKGMNELEQSIYEALKDRREDIIAAGKALKTSMDKVGDETDEQFVQALIIGIIAAVAGTATSAAVSAAIKC) (easy, good; cleaved)\n",
    "        * `Amblyomma-sculptum_GEEX01004552.1.p1` (ATISSPKKTLKDVKELQQDIIEALKENREEIMAAARALKSSMGNMEDGTEEQYIPPLVTAVIAAVAGGAVGGATGAGIA) (easy, good; cleaved)\n",
    "    * Both of these sORFs match to \"Transcript_929497.p2_start21_end72\" hits to \"petxwholefemale_TRINITY_DN4020_c0_g1_i1\", which is not a salivary gland transcriptome (though \"whole\" does contain salivary glands too). The cleavage peptides in the same orthogroup have hits to an actual sg transcriptome, so I think this hit is ok.\n",
    "* **cleavage** (3 peptides)\n",
    "    * All of the sORFs have good solubility, so we can pick at least one cleavage peptide to put in this pool and it shouldn't cause aggregation problems.\n",
    "    * None of the cleavage peptides cluster together (mmseqs) so we can't use that to drive our selection\n",
    "    * Two cleavage peptides have hits to tick sg transcriptomes so I think these two are best to move forward with (note that `Amblyomma-americanum_evm.model.contig-245149-1.2_start64_end100` has a hit to \"petxwholefemale_TRINITY_DN4020_c0_g1_i1,\" which is a whole female transcriptome, not an sg transcriptome).\n",
    "        * `Rhipicephalus-microplus_XP-037271377.1_start70_end114` (IHPVVATVVVPVVKVLVNGAASGAVGALVGKLLESDRDKSPAPSL)\n",
    "        * `Rhipicephalus-microplus_XP-037271378.1_start78_end115` (VVVSVSKKIVERVADATIGFVVNKLLGHLLDRPTEPSF)\n",
    "    * I also added `Dermacentor-andersoni_XP-054924338.1_start87_end106` (NGAISGAVGAAVANLINKG) because it's from a different species."
   ]
  },
  {
   "cell_type": "code",
   "execution_count": 25,
   "id": "628ef268-39b8-4a2c-a735-438856a3c166",
   "metadata": {},
   "outputs": [
    {
     "data": {
      "text/html": [
       "<table class=\"dataframe\">\n",
       "<caption>A tibble: 6 × 9</caption>\n",
       "<thead>\n",
       "\t<tr><th scope=col>synthesis_difficulty</th><th scope=col>hydrophilicity</th><th scope=col>peptide_type</th><th scope=col>traitmapping_orthogroup</th><th scope=col>type_of_itch_suppression_evidence</th><th scope=col>peptide_id</th><th scope=col>mmseqs2_representative_sequence</th><th scope=col>sgpeptide_blast_sseqid</th><th scope=col>protein_sequence</th></tr>\n",
       "\t<tr><th scope=col>&lt;chr&gt;</th><th scope=col>&lt;chr&gt;</th><th scope=col>&lt;chr&gt;</th><th scope=col>&lt;chr&gt;</th><th scope=col>&lt;chr&gt;</th><th scope=col>&lt;chr&gt;</th><th scope=col>&lt;chr&gt;</th><th scope=col>&lt;chr&gt;</th><th scope=col>&lt;chr&gt;</th></tr>\n",
       "</thead>\n",
       "<tbody>\n",
       "\t<tr><td>Medium</td><td>Poor</td><td>cleavage</td><td>OG0008102</td><td>tick support</td><td>Rhipicephalus-microplus_XP-037271377.1_start70_end114          </td><td>Rhipicephalus-microplus_XP-037271377.1_start70_end114          </td><td>GIKN01002979.1.p1_start91_end134   </td><td>IHPVVATVVVPVVKVLVNGAASGAVGALVGKLLESDRDKSPAPSL                                                       </td></tr>\n",
       "\t<tr><td>Medium</td><td>Poor</td><td>sORF    </td><td>OG0008102</td><td>tick support</td><td>Amblyomma-sculptum_GEEX01004552.1.p1                           </td><td>Amblyomma-sculptum_GEEX01004552.1.p1                           </td><td>GINV01009842.1                     </td><td>MKAYLILALVILGHLSQIHAATISSPKKTLKDVKELQQDIIEALKENREEIMAAARALKSSMGNMEDGTEEQYIPPLVTAVIAAVAGGAVGGATGAGIA </td></tr>\n",
       "\t<tr><td>Medium</td><td>Poor</td><td>sORF    </td><td>OG0008102</td><td>tick support</td><td>Amblyomma-americanum_evm.model.contig-245149-1.2               </td><td>Amblyomma-americanum_evm.model.contig-245149-1.2               </td><td>Transcript_929497.p2_start21_end72 </td><td>MKAYLILVLVILGHLSQIHAAAMNSPKKVVKGMNELEQSIYEALKDRREDIIAAGKALKTSMDKVGDETDEQFVQALIIGIIAAVAGTATSAAVSAAIKC</td></tr>\n",
       "\t<tr><td>Medium</td><td>Poor</td><td>cleavage</td><td>OG0008102</td><td>tick support</td><td>Dermacentor-andersoni_XP-054924338.1_start87_end106            </td><td>Dermacentor-andersoni_XP-054924338.1_start87_end106            </td><td>NA                                 </td><td>NGAISGAVGAAVANLINKG                                                                                 </td></tr>\n",
       "\t<tr><td>Medium</td><td>Poor</td><td>cleavage</td><td>OG0008102</td><td>tick support</td><td>Amblyomma-americanum_evm.model.contig-245149-1.2_start64_end100</td><td>Amblyomma-americanum_evm.model.contig-245149-1.2_start64_end100</td><td>Transcript_929497.p2_start64_end100</td><td>VGDETDEQFVQALIIGIIAAVAGTATSAAVSAAIKC                                                                </td></tr>\n",
       "\t<tr><td>Medium</td><td>Poor</td><td>cleavage</td><td>OG0008102</td><td>tick support</td><td>Rhipicephalus-microplus_XP-037271378.1_start78_end115          </td><td>Rhipicephalus-microplus_XP-037271378.1_start78_end115          </td><td>GIKN01002127.1.p1_start100_end137  </td><td>VVVSVSKKIVERVADATIGFVVNKLLGHLLDRPTEPSF                                                              </td></tr>\n",
       "</tbody>\n",
       "</table>\n"
      ],
      "text/latex": [
       "A tibble: 6 × 9\n",
       "\\begin{tabular}{lllllllll}\n",
       " synthesis\\_difficulty & hydrophilicity & peptide\\_type & traitmapping\\_orthogroup & type\\_of\\_itch\\_suppression\\_evidence & peptide\\_id & mmseqs2\\_representative\\_sequence & sgpeptide\\_blast\\_sseqid & protein\\_sequence\\\\\n",
       " <chr> & <chr> & <chr> & <chr> & <chr> & <chr> & <chr> & <chr> & <chr>\\\\\n",
       "\\hline\n",
       "\t Medium & Poor & cleavage & OG0008102 & tick support & Rhipicephalus-microplus\\_XP-037271377.1\\_start70\\_end114           & Rhipicephalus-microplus\\_XP-037271377.1\\_start70\\_end114           & GIKN01002979.1.p1\\_start91\\_end134    & IHPVVATVVVPVVKVLVNGAASGAVGALVGKLLESDRDKSPAPSL                                                       \\\\\n",
       "\t Medium & Poor & sORF     & OG0008102 & tick support & Amblyomma-sculptum\\_GEEX01004552.1.p1                            & Amblyomma-sculptum\\_GEEX01004552.1.p1                            & GINV01009842.1                      & MKAYLILALVILGHLSQIHAATISSPKKTLKDVKELQQDIIEALKENREEIMAAARALKSSMGNMEDGTEEQYIPPLVTAVIAAVAGGAVGGATGAGIA \\\\\n",
       "\t Medium & Poor & sORF     & OG0008102 & tick support & Amblyomma-americanum\\_evm.model.contig-245149-1.2                & Amblyomma-americanum\\_evm.model.contig-245149-1.2                & Transcript\\_929497.p2\\_start21\\_end72  & MKAYLILVLVILGHLSQIHAAAMNSPKKVVKGMNELEQSIYEALKDRREDIIAAGKALKTSMDKVGDETDEQFVQALIIGIIAAVAGTATSAAVSAAIKC\\\\\n",
       "\t Medium & Poor & cleavage & OG0008102 & tick support & Dermacentor-andersoni\\_XP-054924338.1\\_start87\\_end106             & Dermacentor-andersoni\\_XP-054924338.1\\_start87\\_end106             & NA                                  & NGAISGAVGAAVANLINKG                                                                                 \\\\\n",
       "\t Medium & Poor & cleavage & OG0008102 & tick support & Amblyomma-americanum\\_evm.model.contig-245149-1.2\\_start64\\_end100 & Amblyomma-americanum\\_evm.model.contig-245149-1.2\\_start64\\_end100 & Transcript\\_929497.p2\\_start64\\_end100 & VGDETDEQFVQALIIGIIAAVAGTATSAAVSAAIKC                                                                \\\\\n",
       "\t Medium & Poor & cleavage & OG0008102 & tick support & Rhipicephalus-microplus\\_XP-037271378.1\\_start78\\_end115           & Rhipicephalus-microplus\\_XP-037271378.1\\_start78\\_end115           & GIKN01002127.1.p1\\_start100\\_end137   & VVVSVSKKIVERVADATIGFVVNKLLGHLLDRPTEPSF                                                              \\\\\n",
       "\\end{tabular}\n"
      ],
      "text/markdown": [
       "\n",
       "A tibble: 6 × 9\n",
       "\n",
       "| synthesis_difficulty &lt;chr&gt; | hydrophilicity &lt;chr&gt; | peptide_type &lt;chr&gt; | traitmapping_orthogroup &lt;chr&gt; | type_of_itch_suppression_evidence &lt;chr&gt; | peptide_id &lt;chr&gt; | mmseqs2_representative_sequence &lt;chr&gt; | sgpeptide_blast_sseqid &lt;chr&gt; | protein_sequence &lt;chr&gt; |\n",
       "|---|---|---|---|---|---|---|---|---|\n",
       "| Medium | Poor | cleavage | OG0008102 | tick support | Rhipicephalus-microplus_XP-037271377.1_start70_end114           | Rhipicephalus-microplus_XP-037271377.1_start70_end114           | GIKN01002979.1.p1_start91_end134    | IHPVVATVVVPVVKVLVNGAASGAVGALVGKLLESDRDKSPAPSL                                                        |\n",
       "| Medium | Poor | sORF     | OG0008102 | tick support | Amblyomma-sculptum_GEEX01004552.1.p1                            | Amblyomma-sculptum_GEEX01004552.1.p1                            | GINV01009842.1                      | MKAYLILALVILGHLSQIHAATISSPKKTLKDVKELQQDIIEALKENREEIMAAARALKSSMGNMEDGTEEQYIPPLVTAVIAAVAGGAVGGATGAGIA  |\n",
       "| Medium | Poor | sORF     | OG0008102 | tick support | Amblyomma-americanum_evm.model.contig-245149-1.2                | Amblyomma-americanum_evm.model.contig-245149-1.2                | Transcript_929497.p2_start21_end72  | MKAYLILVLVILGHLSQIHAAAMNSPKKVVKGMNELEQSIYEALKDRREDIIAAGKALKTSMDKVGDETDEQFVQALIIGIIAAVAGTATSAAVSAAIKC |\n",
       "| Medium | Poor | cleavage | OG0008102 | tick support | Dermacentor-andersoni_XP-054924338.1_start87_end106             | Dermacentor-andersoni_XP-054924338.1_start87_end106             | NA                                  | NGAISGAVGAAVANLINKG                                                                                  |\n",
       "| Medium | Poor | cleavage | OG0008102 | tick support | Amblyomma-americanum_evm.model.contig-245149-1.2_start64_end100 | Amblyomma-americanum_evm.model.contig-245149-1.2_start64_end100 | Transcript_929497.p2_start64_end100 | VGDETDEQFVQALIIGIIAAVAGTATSAAVSAAIKC                                                                 |\n",
       "| Medium | Poor | cleavage | OG0008102 | tick support | Rhipicephalus-microplus_XP-037271378.1_start78_end115           | Rhipicephalus-microplus_XP-037271378.1_start78_end115           | GIKN01002127.1.p1_start100_end137   | VVVSVSKKIVERVADATIGFVVNKLLGHLLDRPTEPSF                                                               |\n",
       "\n"
      ],
      "text/plain": [
       "  synthesis_difficulty hydrophilicity peptide_type traitmapping_orthogroup\n",
       "1 Medium               Poor           cleavage     OG0008102              \n",
       "2 Medium               Poor           sORF         OG0008102              \n",
       "3 Medium               Poor           sORF         OG0008102              \n",
       "4 Medium               Poor           cleavage     OG0008102              \n",
       "5 Medium               Poor           cleavage     OG0008102              \n",
       "6 Medium               Poor           cleavage     OG0008102              \n",
       "  type_of_itch_suppression_evidence\n",
       "1 tick support                     \n",
       "2 tick support                     \n",
       "3 tick support                     \n",
       "4 tick support                     \n",
       "5 tick support                     \n",
       "6 tick support                     \n",
       "  peptide_id                                                     \n",
       "1 Rhipicephalus-microplus_XP-037271377.1_start70_end114          \n",
       "2 Amblyomma-sculptum_GEEX01004552.1.p1                           \n",
       "3 Amblyomma-americanum_evm.model.contig-245149-1.2               \n",
       "4 Dermacentor-andersoni_XP-054924338.1_start87_end106            \n",
       "5 Amblyomma-americanum_evm.model.contig-245149-1.2_start64_end100\n",
       "6 Rhipicephalus-microplus_XP-037271378.1_start78_end115          \n",
       "  mmseqs2_representative_sequence                                \n",
       "1 Rhipicephalus-microplus_XP-037271377.1_start70_end114          \n",
       "2 Amblyomma-sculptum_GEEX01004552.1.p1                           \n",
       "3 Amblyomma-americanum_evm.model.contig-245149-1.2               \n",
       "4 Dermacentor-andersoni_XP-054924338.1_start87_end106            \n",
       "5 Amblyomma-americanum_evm.model.contig-245149-1.2_start64_end100\n",
       "6 Rhipicephalus-microplus_XP-037271378.1_start78_end115          \n",
       "  sgpeptide_blast_sseqid             \n",
       "1 GIKN01002979.1.p1_start91_end134   \n",
       "2 GINV01009842.1                     \n",
       "3 Transcript_929497.p2_start21_end72 \n",
       "4 NA                                 \n",
       "5 Transcript_929497.p2_start64_end100\n",
       "6 GIKN01002127.1.p1_start100_end137  \n",
       "  protein_sequence                                                                                    \n",
       "1 IHPVVATVVVPVVKVLVNGAASGAVGALVGKLLESDRDKSPAPSL                                                       \n",
       "2 MKAYLILALVILGHLSQIHAATISSPKKTLKDVKELQQDIIEALKENREEIMAAARALKSSMGNMEDGTEEQYIPPLVTAVIAAVAGGAVGGATGAGIA \n",
       "3 MKAYLILVLVILGHLSQIHAAAMNSPKKVVKGMNELEQSIYEALKDRREDIIAAGKALKTSMDKVGDETDEQFVQALIIGIIAAVAGTATSAAVSAAIKC\n",
       "4 NGAISGAVGAAVANLINKG                                                                                 \n",
       "5 VGDETDEQFVQALIIGIIAAVAGTATSAAVSAAIKC                                                                \n",
       "6 VVVSVSKKIVERVADATIGFVVNKLLGHLLDRPTEPSF                                                              "
      ]
     },
     "metadata": {},
     "output_type": "display_data"
    }
   ],
   "source": [
    "OG0008102 <- predictions %>%\n",
    "  filter(traitmapping_deepsig_feature == \"Signal peptide\") %>%\n",
    "  select(synthesis_difficulty, hydrophilicity, peptide_type, traitmapping_orthogroup,\n",
    "         type_of_itch_suppression_evidence, peptide_id, mmseqs2_representative_sequence, \n",
    "         sgpeptide_blast_sseqid, protein_sequence) %>% \n",
    "  filter(traitmapping_orthogroup == \"OG0008102\") %>%\n",
    "  filter(synthesis_difficulty %in% c(\"Easy\", \"Medium\"))\n",
    "OG0008102"
   ]
  },
  {
   "cell_type": "code",
   "execution_count": 26,
   "id": "491a5455-afd8-469d-9b77-19fa13919a02",
   "metadata": {},
   "outputs": [
    {
     "data": {
      "text/html": [
       "<table class=\"dataframe\">\n",
       "<caption>A tibble: 6 × 5</caption>\n",
       "<thead>\n",
       "\t<tr><th scope=col>peptide_type</th><th scope=col>peptide_id</th><th scope=col>traitmapping_deepsig_feature</th><th scope=col>traitmapping_KO</th><th scope=col>traitmapping_KO_definition</th></tr>\n",
       "\t<tr><th scope=col>&lt;chr&gt;</th><th scope=col>&lt;chr&gt;</th><th scope=col>&lt;chr&gt;</th><th scope=col>&lt;chr&gt;</th><th scope=col>&lt;chr&gt;</th></tr>\n",
       "</thead>\n",
       "<tbody>\n",
       "\t<tr><td>cleavage</td><td>Rhipicephalus-microplus_XP-037271377.1_start70_end114          </td><td>Signal peptide</td><td>K23240;K23759                     </td><td>FrmR/RcnR family transcriptional regulator, repressor of rcnA expression;protein S100-A2                                                                                                  </td></tr>\n",
       "\t<tr><td>sORF    </td><td>Amblyomma-sculptum_GEEX01004552.1.p1                           </td><td>Signal peptide</td><td>K14556;K25722;K17263;K21503;K13052</td><td>U3 small nucleolar RNA-associated protein 12;proteoglycan 3;cullin-associated NEDD8-dissociated protein 1;Escherichia phage dCTP pyrophosphatase [EC:3.6.1.12];cell division protein DivIC</td></tr>\n",
       "\t<tr><td>sORF    </td><td>Amblyomma-americanum_evm.model.contig-245149-1.2               </td><td>Signal peptide</td><td>K19593;K20696;K05713;K22812       </td><td>outer membrane protein, multidrug efflux system;cecropin;2,3-dihydroxyphenylpropionate 1,2-dioxygenase [EC:1.13.11.16];thalianol hydroxylase                                              </td></tr>\n",
       "\t<tr><td>cleavage</td><td>Dermacentor-andersoni_XP-054924338.1_start87_end106            </td><td>Signal peptide</td><td>K04062                            </td><td>osmotically inducible lipoprotein OsmB                                                                                                                                                    </td></tr>\n",
       "\t<tr><td>cleavage</td><td>Amblyomma-americanum_evm.model.contig-245149-1.2_start64_end100</td><td>Signal peptide</td><td>K19593;K20696;K05713;K22812       </td><td>outer membrane protein, multidrug efflux system;cecropin;2,3-dihydroxyphenylpropionate 1,2-dioxygenase [EC:1.13.11.16];thalianol hydroxylase                                              </td></tr>\n",
       "\t<tr><td>cleavage</td><td>Rhipicephalus-microplus_XP-037271378.1_start78_end115          </td><td>Signal peptide</td><td>NA                                </td><td>NA                                                                                                                                                                                        </td></tr>\n",
       "</tbody>\n",
       "</table>\n"
      ],
      "text/latex": [
       "A tibble: 6 × 5\n",
       "\\begin{tabular}{lllll}\n",
       " peptide\\_type & peptide\\_id & traitmapping\\_deepsig\\_feature & traitmapping\\_KO & traitmapping\\_KO\\_definition\\\\\n",
       " <chr> & <chr> & <chr> & <chr> & <chr>\\\\\n",
       "\\hline\n",
       "\t cleavage & Rhipicephalus-microplus\\_XP-037271377.1\\_start70\\_end114           & Signal peptide & K23240;K23759                      & FrmR/RcnR family transcriptional regulator, repressor of rcnA expression;protein S100-A2                                                                                                  \\\\\n",
       "\t sORF     & Amblyomma-sculptum\\_GEEX01004552.1.p1                            & Signal peptide & K14556;K25722;K17263;K21503;K13052 & U3 small nucleolar RNA-associated protein 12;proteoglycan 3;cullin-associated NEDD8-dissociated protein 1;Escherichia phage dCTP pyrophosphatase {[}EC:3.6.1.12{]};cell division protein DivIC\\\\\n",
       "\t sORF     & Amblyomma-americanum\\_evm.model.contig-245149-1.2                & Signal peptide & K19593;K20696;K05713;K22812        & outer membrane protein, multidrug efflux system;cecropin;2,3-dihydroxyphenylpropionate 1,2-dioxygenase {[}EC:1.13.11.16{]};thalianol hydroxylase                                              \\\\\n",
       "\t cleavage & Dermacentor-andersoni\\_XP-054924338.1\\_start87\\_end106             & Signal peptide & K04062                             & osmotically inducible lipoprotein OsmB                                                                                                                                                    \\\\\n",
       "\t cleavage & Amblyomma-americanum\\_evm.model.contig-245149-1.2\\_start64\\_end100 & Signal peptide & K19593;K20696;K05713;K22812        & outer membrane protein, multidrug efflux system;cecropin;2,3-dihydroxyphenylpropionate 1,2-dioxygenase {[}EC:1.13.11.16{]};thalianol hydroxylase                                              \\\\\n",
       "\t cleavage & Rhipicephalus-microplus\\_XP-037271378.1\\_start78\\_end115           & Signal peptide & NA                                 & NA                                                                                                                                                                                        \\\\\n",
       "\\end{tabular}\n"
      ],
      "text/markdown": [
       "\n",
       "A tibble: 6 × 5\n",
       "\n",
       "| peptide_type &lt;chr&gt; | peptide_id &lt;chr&gt; | traitmapping_deepsig_feature &lt;chr&gt; | traitmapping_KO &lt;chr&gt; | traitmapping_KO_definition &lt;chr&gt; |\n",
       "|---|---|---|---|---|\n",
       "| cleavage | Rhipicephalus-microplus_XP-037271377.1_start70_end114           | Signal peptide | K23240;K23759                      | FrmR/RcnR family transcriptional regulator, repressor of rcnA expression;protein S100-A2                                                                                                   |\n",
       "| sORF     | Amblyomma-sculptum_GEEX01004552.1.p1                            | Signal peptide | K14556;K25722;K17263;K21503;K13052 | U3 small nucleolar RNA-associated protein 12;proteoglycan 3;cullin-associated NEDD8-dissociated protein 1;Escherichia phage dCTP pyrophosphatase [EC:3.6.1.12];cell division protein DivIC |\n",
       "| sORF     | Amblyomma-americanum_evm.model.contig-245149-1.2                | Signal peptide | K19593;K20696;K05713;K22812        | outer membrane protein, multidrug efflux system;cecropin;2,3-dihydroxyphenylpropionate 1,2-dioxygenase [EC:1.13.11.16];thalianol hydroxylase                                               |\n",
       "| cleavage | Dermacentor-andersoni_XP-054924338.1_start87_end106             | Signal peptide | K04062                             | osmotically inducible lipoprotein OsmB                                                                                                                                                     |\n",
       "| cleavage | Amblyomma-americanum_evm.model.contig-245149-1.2_start64_end100 | Signal peptide | K19593;K20696;K05713;K22812        | outer membrane protein, multidrug efflux system;cecropin;2,3-dihydroxyphenylpropionate 1,2-dioxygenase [EC:1.13.11.16];thalianol hydroxylase                                               |\n",
       "| cleavage | Rhipicephalus-microplus_XP-037271378.1_start78_end115           | Signal peptide | NA                                 | NA                                                                                                                                                                                         |\n",
       "\n"
      ],
      "text/plain": [
       "  peptide_type peptide_id                                                     \n",
       "1 cleavage     Rhipicephalus-microplus_XP-037271377.1_start70_end114          \n",
       "2 sORF         Amblyomma-sculptum_GEEX01004552.1.p1                           \n",
       "3 sORF         Amblyomma-americanum_evm.model.contig-245149-1.2               \n",
       "4 cleavage     Dermacentor-andersoni_XP-054924338.1_start87_end106            \n",
       "5 cleavage     Amblyomma-americanum_evm.model.contig-245149-1.2_start64_end100\n",
       "6 cleavage     Rhipicephalus-microplus_XP-037271378.1_start78_end115          \n",
       "  traitmapping_deepsig_feature traitmapping_KO                   \n",
       "1 Signal peptide               K23240;K23759                     \n",
       "2 Signal peptide               K14556;K25722;K17263;K21503;K13052\n",
       "3 Signal peptide               K19593;K20696;K05713;K22812       \n",
       "4 Signal peptide               K04062                            \n",
       "5 Signal peptide               K19593;K20696;K05713;K22812       \n",
       "6 Signal peptide               NA                                \n",
       "  traitmapping_KO_definition                                                                                                                                                                \n",
       "1 FrmR/RcnR family transcriptional regulator, repressor of rcnA expression;protein S100-A2                                                                                                  \n",
       "2 U3 small nucleolar RNA-associated protein 12;proteoglycan 3;cullin-associated NEDD8-dissociated protein 1;Escherichia phage dCTP pyrophosphatase [EC:3.6.1.12];cell division protein DivIC\n",
       "3 outer membrane protein, multidrug efflux system;cecropin;2,3-dihydroxyphenylpropionate 1,2-dioxygenase [EC:1.13.11.16];thalianol hydroxylase                                              \n",
       "4 osmotically inducible lipoprotein OsmB                                                                                                                                                    \n",
       "5 outer membrane protein, multidrug efflux system;cecropin;2,3-dihydroxyphenylpropionate 1,2-dioxygenase [EC:1.13.11.16];thalianol hydroxylase                                              \n",
       "6 NA                                                                                                                                                                                        "
      ]
     },
     "metadata": {},
     "output_type": "display_data"
    }
   ],
   "source": [
    "# look at annotation information\n",
    "predictions %>%\n",
    "  filter(traitmapping_deepsig_feature == \"Signal peptide\") %>%\n",
    "  filter(traitmapping_orthogroup == \"OG0008102\") %>%\n",
    "  filter(synthesis_difficulty %in% c(\"Easy\", \"Medium\")) %>%\n",
    "  select(peptide_type, peptide_id, traitmapping_deepsig_feature, traitmapping_KO, traitmapping_KO_definition) "
   ]
  },
  {
   "cell_type": "markdown",
   "id": "ae90f81b-f3f8-4b5f-8186-27f186f06d11",
   "metadata": {},
   "source": [
    "## POOL 5 -- OG0000880 (4 cleavage peptides)\n",
    "\n",
    "* `OG0000880` has the next highest coefficient.\n",
    "* All peptides are **cleavage** peptides.\n",
    "* Most are **Medium** to synthesize and have **Poor** solubility.\n",
    "* There's a big diversity in parent protein annotations, but all peptides are glycine-rich. After removing peptides that don't have hits to salivary glands, the cleavage peptides group into four mmseqs2 clusters. I suggest synthesizing one sequence from each group.\n",
    "    * `Rhipicephalus-microplus_XP-037269427.1_start34_end70` (GGVLGGLGGVGYGTGLGTGLGTGFGGSGLSGVGLGGL)\n",
    "    * `Dermacentor-andersoni_XP-050051547.1_start39_end77` (GGVLGGLGGYGAGVGPGLVGAGLGGPGLVGGGVVGSPAL)\n",
    "    * `Dermacentor-silvarum_XP-037559871.1_start39_end87` (GGVLGGLGGYGAGVGPGLVGAGIGGPGLVGGGVVGNPALVGAGLGQGVG)\n",
    "    * `Hyalomma-asiaticum_KAH6923440.1_start24_end69` (GGLLGAGLGGYGGGLGGPGLVGAGLGGVGL)"
   ]
  },
  {
   "cell_type": "code",
   "execution_count": 27,
   "id": "2ba26bb0-5980-46a2-a84f-6dee9b9cc192",
   "metadata": {},
   "outputs": [
    {
     "data": {
      "text/html": [
       "<table class=\"dataframe\">\n",
       "<caption>A tibble: 11 × 13</caption>\n",
       "<thead>\n",
       "\t<tr><th scope=col>peptide_type</th><th scope=col>synthesis_difficulty</th><th scope=col>hydrophilicity</th><th scope=col>traitmapping_orthogroup</th><th scope=col>traitmapping_coefficient</th><th scope=col>peptide_id</th><th scope=col>traitmapping_deepsig_feature</th><th scope=col>protein_sequence</th><th scope=col>traitmapping_KO</th><th scope=col>traitmapping_KO_definition</th><th scope=col>type_of_itch_suppression_evidence</th><th scope=col>mmseqs2_representative_sequence</th><th scope=col>sgpeptide_blast_sseqid</th></tr>\n",
       "\t<tr><th scope=col>&lt;chr&gt;</th><th scope=col>&lt;chr&gt;</th><th scope=col>&lt;chr&gt;</th><th scope=col>&lt;chr&gt;</th><th scope=col>&lt;dbl&gt;</th><th scope=col>&lt;chr&gt;</th><th scope=col>&lt;chr&gt;</th><th scope=col>&lt;chr&gt;</th><th scope=col>&lt;chr&gt;</th><th scope=col>&lt;chr&gt;</th><th scope=col>&lt;chr&gt;</th><th scope=col>&lt;chr&gt;</th><th scope=col>&lt;chr&gt;</th></tr>\n",
       "</thead>\n",
       "<tbody>\n",
       "\t<tr><td>cleavage</td><td>Medium</td><td>Poor</td><td>OG0000880</td><td>0.3140077</td><td>Rhipicephalus-microplus_XP-037269420.1_start39_end77 </td><td>Signal peptide</td><td>GGVLGGLGGYGAGVGPGLAGVGLGRPGLIGGGVVGNPGL          </td><td>K19461;K22989                     </td><td>Lymphocryptovirus nuclear antigen 1;integral membrane protein GPR137                                                                                                                                             </td><td>tick support</td><td>Dermacentor-andersoni_XP-050051547.1_start39_end77  </td><td>GINV01008730.1.p1_start39_end77 </td></tr>\n",
       "\t<tr><td>cleavage</td><td>Medium</td><td>Poor</td><td>OG0000880</td><td>0.3140077</td><td>Rhipicephalus-microplus_XP-037269421.1_start39_end77 </td><td>Signal peptide</td><td>GGVLGGLGGYGAGVGPGLVGAGLGAPGLVGDGVVGNPAL          </td><td>K19461;K24317                     </td><td>Lymphocryptovirus nuclear antigen 1;germinal-center associated nuclear protein [EC:2.3.1.48]                                                                                                                     </td><td>tick support</td><td>Dermacentor-andersoni_XP-050051547.1_start39_end77  </td><td>GBJS01005204.1.p1_start39_end77 </td></tr>\n",
       "\t<tr><td>cleavage</td><td>Medium</td><td>Poor</td><td>OG0000880</td><td>0.3140077</td><td>Dermacentor-andersoni_XP-050051547.1_start39_end77   </td><td>Signal peptide</td><td>GGVLGGLGGYGAGVGPGLVGAGLGGPGLVGGGVVGSPAL          </td><td>K12051;K13184;K07344;K19461;K12741</td><td>ComB7 competence protein;ATP-dependent RNA helicase A [EC:3.6.4.13];type IV secretion system protein TrbL;Lymphocryptovirus nuclear antigen 1;heterogeneous nuclear ribonucleoprotein A1/A3                      </td><td>tick support</td><td>Dermacentor-andersoni_XP-050051547.1_start39_end77  </td><td>GBJS01005204.1.p1_start39_end77 </td></tr>\n",
       "\t<tr><td>cleavage</td><td>Medium</td><td>Poor</td><td>OG0000880</td><td>0.3140077</td><td>Rhipicephalus-sanguineus_XP-037517942.2_start39_end77</td><td>Signal peptide</td><td>GGVLGGLGGYGAGVGPGLVGTGLGGPGLVGGGVVGNPGL          </td><td>K19461;K13184;K12741;K24317       </td><td>Lymphocryptovirus nuclear antigen 1;ATP-dependent RNA helicase A [EC:3.6.4.13];heterogeneous nuclear ribonucleoprotein A1/A3;germinal-center associated nuclear protein [EC:2.3.1.48]                            </td><td>tick support</td><td>Dermacentor-andersoni_XP-050051547.1_start39_end77  </td><td>GINV01008730.1.p1_start39_end77 </td></tr>\n",
       "\t<tr><td>cleavage</td><td>Medium</td><td>Poor</td><td>OG0000880</td><td>0.3140077</td><td>Rhipicephalus-microplus_XP-037272456.1_start28_end68 </td><td>Signal peptide</td><td>GGLLGAGLGGYGAGVGGAGLVGAGVGGPGLVGAGVGGPGLV        </td><td>K19461                            </td><td>Lymphocryptovirus nuclear antigen 1                                                                                                                                                                              </td><td>tick support</td><td>Hyalomma-asiaticum_KAH6923440.1_start24_end69       </td><td>GBJS01004457.1.p1_start14_end54 </td></tr>\n",
       "\t<tr><td>cleavage</td><td>Medium</td><td>Poor</td><td>OG0000880</td><td>0.3140077</td><td>Rhipicephalus-sanguineus_XP-037524803.1_start29_end58</td><td>Signal peptide</td><td>GGLLGAGLGGYGAGVGGPGLVGAGLGGVGL                   </td><td>K13914;K15047;K19461;K07344       </td><td>statherin;heterogeneous nuclear ribonucleoprotein U-like protein 1;Lymphocryptovirus nuclear antigen 1;type IV secretion system protein TrbL                                                                     </td><td>tick support</td><td>Hyalomma-asiaticum_KAH6923440.1_start24_end69       </td><td>GEDV01015390.1.p1_start48_end77 </td></tr>\n",
       "\t<tr><td>cleavage</td><td>Medium</td><td>Poor</td><td>OG0000880</td><td>0.3140077</td><td>Hyalomma-asiaticum_KAH6923445.1_start29_end58        </td><td>Signal peptide</td><td>GGLLGAGLGGYGGGLGGPGLVGAGLGGVGL                   </td><td>NA                                </td><td>NA                                                                                                                                                                                                               </td><td>tick support</td><td>Hyalomma-asiaticum_KAH6923440.1_start24_end69       </td><td>GFGI01047205.1.p1_start29_end60 </td></tr>\n",
       "\t<tr><td>cleavage</td><td>Medium</td><td>Poor</td><td>OG0000880</td><td>0.3140077</td><td>Dermacentor-silvarum_XP-037559871.1_start39_end87    </td><td>Signal peptide</td><td>GGVLGGLGGYGAGVGPGLVGAGIGGPGLVGGGVVGNPALVGAGLGQGVG</td><td>K12051;K13090;K19461;K07344;K13184</td><td>ComB7 competence protein;interleukin enhancer-binding factor 3;Lymphocryptovirus nuclear antigen 1;type IV secretion system protein TrbL;ATP-dependent RNA helicase A [EC:3.6.4.13]                              </td><td>tick support</td><td>Hyalomma-asiaticum_KAH6947073.1_start69_end117      </td><td>GINV01004785.1.p1_start33_end81 </td></tr>\n",
       "\t<tr><td>cleavage</td><td>Medium</td><td>Poor</td><td>OG0000880</td><td>0.3140077</td><td>Rhipicephalus-microplus_XP-037269422.1_start39_end87 </td><td>Signal peptide</td><td>GGVLGGLGGYGAGVGPGLVGAGLGGPGLVGGGVVGNPALVGGGLGHGVG</td><td>K19461;K24317                     </td><td>Lymphocryptovirus nuclear antigen 1;germinal-center associated nuclear protein [EC:2.3.1.48]                                                                                                                     </td><td>tick support</td><td>Hyalomma-asiaticum_KAH6947073.1_start69_end117      </td><td>GBJT01016707.1.p1_start62_end110</td></tr>\n",
       "\t<tr><td>cleavage</td><td>Medium</td><td>Poor</td><td>OG0000880</td><td>0.3140077</td><td>Rhipicephalus-sanguineus_XP-037517950.2_start44_end92</td><td>Signal peptide</td><td>GGVLGGLGGYGAGVGPGLVGSGLGGPGLVGGGVVGNPALVGAGLGHGVG</td><td>K13090;K13184;K07344;K19461;K13982</td><td>interleukin enhancer-binding factor 3;ATP-dependent RNA helicase A [EC:3.6.4.13];type IV secretion system protein TrbL;Lymphocryptovirus nuclear antigen 1;probable ATP-dependent RNA helicase DDX4 [EC:3.6.4.13]</td><td>tick support</td><td>Hyalomma-asiaticum_KAH6947073.1_start69_end117      </td><td>GINV01004785.1.p1_start33_end81 </td></tr>\n",
       "\t<tr><td>cleavage</td><td>Medium</td><td>Poor</td><td>OG0000880</td><td>0.3140077</td><td>Rhipicephalus-microplus_XP-037269427.1_start34_end70 </td><td>Signal peptide</td><td>GGVLGGLGGVGYGTGLGTGLGTGFGGSGLSGVGLGGL            </td><td>K19461                            </td><td>Lymphocryptovirus nuclear antigen 1                                                                                                                                                                              </td><td>tick support</td><td>Rhipicephalus-microplus_XP-037269427.1_start34_end70</td><td>GBJS01000632.1.p1_start34_end70 </td></tr>\n",
       "</tbody>\n",
       "</table>\n"
      ],
      "text/latex": [
       "A tibble: 11 × 13\n",
       "\\begin{tabular}{lllllllllllll}\n",
       " peptide\\_type & synthesis\\_difficulty & hydrophilicity & traitmapping\\_orthogroup & traitmapping\\_coefficient & peptide\\_id & traitmapping\\_deepsig\\_feature & protein\\_sequence & traitmapping\\_KO & traitmapping\\_KO\\_definition & type\\_of\\_itch\\_suppression\\_evidence & mmseqs2\\_representative\\_sequence & sgpeptide\\_blast\\_sseqid\\\\\n",
       " <chr> & <chr> & <chr> & <chr> & <dbl> & <chr> & <chr> & <chr> & <chr> & <chr> & <chr> & <chr> & <chr>\\\\\n",
       "\\hline\n",
       "\t cleavage & Medium & Poor & OG0000880 & 0.3140077 & Rhipicephalus-microplus\\_XP-037269420.1\\_start39\\_end77  & Signal peptide & GGVLGGLGGYGAGVGPGLAGVGLGRPGLIGGGVVGNPGL           & K19461;K22989                      & Lymphocryptovirus nuclear antigen 1;integral membrane protein GPR137                                                                                                                                              & tick support & Dermacentor-andersoni\\_XP-050051547.1\\_start39\\_end77   & GINV01008730.1.p1\\_start39\\_end77 \\\\\n",
       "\t cleavage & Medium & Poor & OG0000880 & 0.3140077 & Rhipicephalus-microplus\\_XP-037269421.1\\_start39\\_end77  & Signal peptide & GGVLGGLGGYGAGVGPGLVGAGLGAPGLVGDGVVGNPAL           & K19461;K24317                      & Lymphocryptovirus nuclear antigen 1;germinal-center associated nuclear protein {[}EC:2.3.1.48{]}                                                                                                                      & tick support & Dermacentor-andersoni\\_XP-050051547.1\\_start39\\_end77   & GBJS01005204.1.p1\\_start39\\_end77 \\\\\n",
       "\t cleavage & Medium & Poor & OG0000880 & 0.3140077 & Dermacentor-andersoni\\_XP-050051547.1\\_start39\\_end77    & Signal peptide & GGVLGGLGGYGAGVGPGLVGAGLGGPGLVGGGVVGSPAL           & K12051;K13184;K07344;K19461;K12741 & ComB7 competence protein;ATP-dependent RNA helicase A {[}EC:3.6.4.13{]};type IV secretion system protein TrbL;Lymphocryptovirus nuclear antigen 1;heterogeneous nuclear ribonucleoprotein A1/A3                       & tick support & Dermacentor-andersoni\\_XP-050051547.1\\_start39\\_end77   & GBJS01005204.1.p1\\_start39\\_end77 \\\\\n",
       "\t cleavage & Medium & Poor & OG0000880 & 0.3140077 & Rhipicephalus-sanguineus\\_XP-037517942.2\\_start39\\_end77 & Signal peptide & GGVLGGLGGYGAGVGPGLVGTGLGGPGLVGGGVVGNPGL           & K19461;K13184;K12741;K24317        & Lymphocryptovirus nuclear antigen 1;ATP-dependent RNA helicase A {[}EC:3.6.4.13{]};heterogeneous nuclear ribonucleoprotein A1/A3;germinal-center associated nuclear protein {[}EC:2.3.1.48{]}                             & tick support & Dermacentor-andersoni\\_XP-050051547.1\\_start39\\_end77   & GINV01008730.1.p1\\_start39\\_end77 \\\\\n",
       "\t cleavage & Medium & Poor & OG0000880 & 0.3140077 & Rhipicephalus-microplus\\_XP-037272456.1\\_start28\\_end68  & Signal peptide & GGLLGAGLGGYGAGVGGAGLVGAGVGGPGLVGAGVGGPGLV         & K19461                             & Lymphocryptovirus nuclear antigen 1                                                                                                                                                                               & tick support & Hyalomma-asiaticum\\_KAH6923440.1\\_start24\\_end69        & GBJS01004457.1.p1\\_start14\\_end54 \\\\\n",
       "\t cleavage & Medium & Poor & OG0000880 & 0.3140077 & Rhipicephalus-sanguineus\\_XP-037524803.1\\_start29\\_end58 & Signal peptide & GGLLGAGLGGYGAGVGGPGLVGAGLGGVGL                    & K13914;K15047;K19461;K07344        & statherin;heterogeneous nuclear ribonucleoprotein U-like protein 1;Lymphocryptovirus nuclear antigen 1;type IV secretion system protein TrbL                                                                      & tick support & Hyalomma-asiaticum\\_KAH6923440.1\\_start24\\_end69        & GEDV01015390.1.p1\\_start48\\_end77 \\\\\n",
       "\t cleavage & Medium & Poor & OG0000880 & 0.3140077 & Hyalomma-asiaticum\\_KAH6923445.1\\_start29\\_end58         & Signal peptide & GGLLGAGLGGYGGGLGGPGLVGAGLGGVGL                    & NA                                 & NA                                                                                                                                                                                                                & tick support & Hyalomma-asiaticum\\_KAH6923440.1\\_start24\\_end69        & GFGI01047205.1.p1\\_start29\\_end60 \\\\\n",
       "\t cleavage & Medium & Poor & OG0000880 & 0.3140077 & Dermacentor-silvarum\\_XP-037559871.1\\_start39\\_end87     & Signal peptide & GGVLGGLGGYGAGVGPGLVGAGIGGPGLVGGGVVGNPALVGAGLGQGVG & K12051;K13090;K19461;K07344;K13184 & ComB7 competence protein;interleukin enhancer-binding factor 3;Lymphocryptovirus nuclear antigen 1;type IV secretion system protein TrbL;ATP-dependent RNA helicase A {[}EC:3.6.4.13{]}                               & tick support & Hyalomma-asiaticum\\_KAH6947073.1\\_start69\\_end117       & GINV01004785.1.p1\\_start33\\_end81 \\\\\n",
       "\t cleavage & Medium & Poor & OG0000880 & 0.3140077 & Rhipicephalus-microplus\\_XP-037269422.1\\_start39\\_end87  & Signal peptide & GGVLGGLGGYGAGVGPGLVGAGLGGPGLVGGGVVGNPALVGGGLGHGVG & K19461;K24317                      & Lymphocryptovirus nuclear antigen 1;germinal-center associated nuclear protein {[}EC:2.3.1.48{]}                                                                                                                      & tick support & Hyalomma-asiaticum\\_KAH6947073.1\\_start69\\_end117       & GBJT01016707.1.p1\\_start62\\_end110\\\\\n",
       "\t cleavage & Medium & Poor & OG0000880 & 0.3140077 & Rhipicephalus-sanguineus\\_XP-037517950.2\\_start44\\_end92 & Signal peptide & GGVLGGLGGYGAGVGPGLVGSGLGGPGLVGGGVVGNPALVGAGLGHGVG & K13090;K13184;K07344;K19461;K13982 & interleukin enhancer-binding factor 3;ATP-dependent RNA helicase A {[}EC:3.6.4.13{]};type IV secretion system protein TrbL;Lymphocryptovirus nuclear antigen 1;probable ATP-dependent RNA helicase DDX4 {[}EC:3.6.4.13{]} & tick support & Hyalomma-asiaticum\\_KAH6947073.1\\_start69\\_end117       & GINV01004785.1.p1\\_start33\\_end81 \\\\\n",
       "\t cleavage & Medium & Poor & OG0000880 & 0.3140077 & Rhipicephalus-microplus\\_XP-037269427.1\\_start34\\_end70  & Signal peptide & GGVLGGLGGVGYGTGLGTGLGTGFGGSGLSGVGLGGL             & K19461                             & Lymphocryptovirus nuclear antigen 1                                                                                                                                                                               & tick support & Rhipicephalus-microplus\\_XP-037269427.1\\_start34\\_end70 & GBJS01000632.1.p1\\_start34\\_end70 \\\\\n",
       "\\end{tabular}\n"
      ],
      "text/markdown": [
       "\n",
       "A tibble: 11 × 13\n",
       "\n",
       "| peptide_type &lt;chr&gt; | synthesis_difficulty &lt;chr&gt; | hydrophilicity &lt;chr&gt; | traitmapping_orthogroup &lt;chr&gt; | traitmapping_coefficient &lt;dbl&gt; | peptide_id &lt;chr&gt; | traitmapping_deepsig_feature &lt;chr&gt; | protein_sequence &lt;chr&gt; | traitmapping_KO &lt;chr&gt; | traitmapping_KO_definition &lt;chr&gt; | type_of_itch_suppression_evidence &lt;chr&gt; | mmseqs2_representative_sequence &lt;chr&gt; | sgpeptide_blast_sseqid &lt;chr&gt; |\n",
       "|---|---|---|---|---|---|---|---|---|---|---|---|---|\n",
       "| cleavage | Medium | Poor | OG0000880 | 0.3140077 | Rhipicephalus-microplus_XP-037269420.1_start39_end77  | Signal peptide | GGVLGGLGGYGAGVGPGLAGVGLGRPGLIGGGVVGNPGL           | K19461;K22989                      | Lymphocryptovirus nuclear antigen 1;integral membrane protein GPR137                                                                                                                                              | tick support | Dermacentor-andersoni_XP-050051547.1_start39_end77   | GINV01008730.1.p1_start39_end77  |\n",
       "| cleavage | Medium | Poor | OG0000880 | 0.3140077 | Rhipicephalus-microplus_XP-037269421.1_start39_end77  | Signal peptide | GGVLGGLGGYGAGVGPGLVGAGLGAPGLVGDGVVGNPAL           | K19461;K24317                      | Lymphocryptovirus nuclear antigen 1;germinal-center associated nuclear protein [EC:2.3.1.48]                                                                                                                      | tick support | Dermacentor-andersoni_XP-050051547.1_start39_end77   | GBJS01005204.1.p1_start39_end77  |\n",
       "| cleavage | Medium | Poor | OG0000880 | 0.3140077 | Dermacentor-andersoni_XP-050051547.1_start39_end77    | Signal peptide | GGVLGGLGGYGAGVGPGLVGAGLGGPGLVGGGVVGSPAL           | K12051;K13184;K07344;K19461;K12741 | ComB7 competence protein;ATP-dependent RNA helicase A [EC:3.6.4.13];type IV secretion system protein TrbL;Lymphocryptovirus nuclear antigen 1;heterogeneous nuclear ribonucleoprotein A1/A3                       | tick support | Dermacentor-andersoni_XP-050051547.1_start39_end77   | GBJS01005204.1.p1_start39_end77  |\n",
       "| cleavage | Medium | Poor | OG0000880 | 0.3140077 | Rhipicephalus-sanguineus_XP-037517942.2_start39_end77 | Signal peptide | GGVLGGLGGYGAGVGPGLVGTGLGGPGLVGGGVVGNPGL           | K19461;K13184;K12741;K24317        | Lymphocryptovirus nuclear antigen 1;ATP-dependent RNA helicase A [EC:3.6.4.13];heterogeneous nuclear ribonucleoprotein A1/A3;germinal-center associated nuclear protein [EC:2.3.1.48]                             | tick support | Dermacentor-andersoni_XP-050051547.1_start39_end77   | GINV01008730.1.p1_start39_end77  |\n",
       "| cleavage | Medium | Poor | OG0000880 | 0.3140077 | Rhipicephalus-microplus_XP-037272456.1_start28_end68  | Signal peptide | GGLLGAGLGGYGAGVGGAGLVGAGVGGPGLVGAGVGGPGLV         | K19461                             | Lymphocryptovirus nuclear antigen 1                                                                                                                                                                               | tick support | Hyalomma-asiaticum_KAH6923440.1_start24_end69        | GBJS01004457.1.p1_start14_end54  |\n",
       "| cleavage | Medium | Poor | OG0000880 | 0.3140077 | Rhipicephalus-sanguineus_XP-037524803.1_start29_end58 | Signal peptide | GGLLGAGLGGYGAGVGGPGLVGAGLGGVGL                    | K13914;K15047;K19461;K07344        | statherin;heterogeneous nuclear ribonucleoprotein U-like protein 1;Lymphocryptovirus nuclear antigen 1;type IV secretion system protein TrbL                                                                      | tick support | Hyalomma-asiaticum_KAH6923440.1_start24_end69        | GEDV01015390.1.p1_start48_end77  |\n",
       "| cleavage | Medium | Poor | OG0000880 | 0.3140077 | Hyalomma-asiaticum_KAH6923445.1_start29_end58         | Signal peptide | GGLLGAGLGGYGGGLGGPGLVGAGLGGVGL                    | NA                                 | NA                                                                                                                                                                                                                | tick support | Hyalomma-asiaticum_KAH6923440.1_start24_end69        | GFGI01047205.1.p1_start29_end60  |\n",
       "| cleavage | Medium | Poor | OG0000880 | 0.3140077 | Dermacentor-silvarum_XP-037559871.1_start39_end87     | Signal peptide | GGVLGGLGGYGAGVGPGLVGAGIGGPGLVGGGVVGNPALVGAGLGQGVG | K12051;K13090;K19461;K07344;K13184 | ComB7 competence protein;interleukin enhancer-binding factor 3;Lymphocryptovirus nuclear antigen 1;type IV secretion system protein TrbL;ATP-dependent RNA helicase A [EC:3.6.4.13]                               | tick support | Hyalomma-asiaticum_KAH6947073.1_start69_end117       | GINV01004785.1.p1_start33_end81  |\n",
       "| cleavage | Medium | Poor | OG0000880 | 0.3140077 | Rhipicephalus-microplus_XP-037269422.1_start39_end87  | Signal peptide | GGVLGGLGGYGAGVGPGLVGAGLGGPGLVGGGVVGNPALVGGGLGHGVG | K19461;K24317                      | Lymphocryptovirus nuclear antigen 1;germinal-center associated nuclear protein [EC:2.3.1.48]                                                                                                                      | tick support | Hyalomma-asiaticum_KAH6947073.1_start69_end117       | GBJT01016707.1.p1_start62_end110 |\n",
       "| cleavage | Medium | Poor | OG0000880 | 0.3140077 | Rhipicephalus-sanguineus_XP-037517950.2_start44_end92 | Signal peptide | GGVLGGLGGYGAGVGPGLVGSGLGGPGLVGGGVVGNPALVGAGLGHGVG | K13090;K13184;K07344;K19461;K13982 | interleukin enhancer-binding factor 3;ATP-dependent RNA helicase A [EC:3.6.4.13];type IV secretion system protein TrbL;Lymphocryptovirus nuclear antigen 1;probable ATP-dependent RNA helicase DDX4 [EC:3.6.4.13] | tick support | Hyalomma-asiaticum_KAH6947073.1_start69_end117       | GINV01004785.1.p1_start33_end81  |\n",
       "| cleavage | Medium | Poor | OG0000880 | 0.3140077 | Rhipicephalus-microplus_XP-037269427.1_start34_end70  | Signal peptide | GGVLGGLGGVGYGTGLGTGLGTGFGGSGLSGVGLGGL             | K19461                             | Lymphocryptovirus nuclear antigen 1                                                                                                                                                                               | tick support | Rhipicephalus-microplus_XP-037269427.1_start34_end70 | GBJS01000632.1.p1_start34_end70  |\n",
       "\n"
      ],
      "text/plain": [
       "   peptide_type synthesis_difficulty hydrophilicity traitmapping_orthogroup\n",
       "1  cleavage     Medium               Poor           OG0000880              \n",
       "2  cleavage     Medium               Poor           OG0000880              \n",
       "3  cleavage     Medium               Poor           OG0000880              \n",
       "4  cleavage     Medium               Poor           OG0000880              \n",
       "5  cleavage     Medium               Poor           OG0000880              \n",
       "6  cleavage     Medium               Poor           OG0000880              \n",
       "7  cleavage     Medium               Poor           OG0000880              \n",
       "8  cleavage     Medium               Poor           OG0000880              \n",
       "9  cleavage     Medium               Poor           OG0000880              \n",
       "10 cleavage     Medium               Poor           OG0000880              \n",
       "11 cleavage     Medium               Poor           OG0000880              \n",
       "   traitmapping_coefficient\n",
       "1  0.3140077               \n",
       "2  0.3140077               \n",
       "3  0.3140077               \n",
       "4  0.3140077               \n",
       "5  0.3140077               \n",
       "6  0.3140077               \n",
       "7  0.3140077               \n",
       "8  0.3140077               \n",
       "9  0.3140077               \n",
       "10 0.3140077               \n",
       "11 0.3140077               \n",
       "   peptide_id                                           \n",
       "1  Rhipicephalus-microplus_XP-037269420.1_start39_end77 \n",
       "2  Rhipicephalus-microplus_XP-037269421.1_start39_end77 \n",
       "3  Dermacentor-andersoni_XP-050051547.1_start39_end77   \n",
       "4  Rhipicephalus-sanguineus_XP-037517942.2_start39_end77\n",
       "5  Rhipicephalus-microplus_XP-037272456.1_start28_end68 \n",
       "6  Rhipicephalus-sanguineus_XP-037524803.1_start29_end58\n",
       "7  Hyalomma-asiaticum_KAH6923445.1_start29_end58        \n",
       "8  Dermacentor-silvarum_XP-037559871.1_start39_end87    \n",
       "9  Rhipicephalus-microplus_XP-037269422.1_start39_end87 \n",
       "10 Rhipicephalus-sanguineus_XP-037517950.2_start44_end92\n",
       "11 Rhipicephalus-microplus_XP-037269427.1_start34_end70 \n",
       "   traitmapping_deepsig_feature\n",
       "1  Signal peptide              \n",
       "2  Signal peptide              \n",
       "3  Signal peptide              \n",
       "4  Signal peptide              \n",
       "5  Signal peptide              \n",
       "6  Signal peptide              \n",
       "7  Signal peptide              \n",
       "8  Signal peptide              \n",
       "9  Signal peptide              \n",
       "10 Signal peptide              \n",
       "11 Signal peptide              \n",
       "   protein_sequence                                 \n",
       "1  GGVLGGLGGYGAGVGPGLAGVGLGRPGLIGGGVVGNPGL          \n",
       "2  GGVLGGLGGYGAGVGPGLVGAGLGAPGLVGDGVVGNPAL          \n",
       "3  GGVLGGLGGYGAGVGPGLVGAGLGGPGLVGGGVVGSPAL          \n",
       "4  GGVLGGLGGYGAGVGPGLVGTGLGGPGLVGGGVVGNPGL          \n",
       "5  GGLLGAGLGGYGAGVGGAGLVGAGVGGPGLVGAGVGGPGLV        \n",
       "6  GGLLGAGLGGYGAGVGGPGLVGAGLGGVGL                   \n",
       "7  GGLLGAGLGGYGGGLGGPGLVGAGLGGVGL                   \n",
       "8  GGVLGGLGGYGAGVGPGLVGAGIGGPGLVGGGVVGNPALVGAGLGQGVG\n",
       "9  GGVLGGLGGYGAGVGPGLVGAGLGGPGLVGGGVVGNPALVGGGLGHGVG\n",
       "10 GGVLGGLGGYGAGVGPGLVGSGLGGPGLVGGGVVGNPALVGAGLGHGVG\n",
       "11 GGVLGGLGGVGYGTGLGTGLGTGFGGSGLSGVGLGGL            \n",
       "   traitmapping_KO                   \n",
       "1  K19461;K22989                     \n",
       "2  K19461;K24317                     \n",
       "3  K12051;K13184;K07344;K19461;K12741\n",
       "4  K19461;K13184;K12741;K24317       \n",
       "5  K19461                            \n",
       "6  K13914;K15047;K19461;K07344       \n",
       "7  NA                                \n",
       "8  K12051;K13090;K19461;K07344;K13184\n",
       "9  K19461;K24317                     \n",
       "10 K13090;K13184;K07344;K19461;K13982\n",
       "11 K19461                            \n",
       "   traitmapping_KO_definition                                                                                                                                                                                       \n",
       "1  Lymphocryptovirus nuclear antigen 1;integral membrane protein GPR137                                                                                                                                             \n",
       "2  Lymphocryptovirus nuclear antigen 1;germinal-center associated nuclear protein [EC:2.3.1.48]                                                                                                                     \n",
       "3  ComB7 competence protein;ATP-dependent RNA helicase A [EC:3.6.4.13];type IV secretion system protein TrbL;Lymphocryptovirus nuclear antigen 1;heterogeneous nuclear ribonucleoprotein A1/A3                      \n",
       "4  Lymphocryptovirus nuclear antigen 1;ATP-dependent RNA helicase A [EC:3.6.4.13];heterogeneous nuclear ribonucleoprotein A1/A3;germinal-center associated nuclear protein [EC:2.3.1.48]                            \n",
       "5  Lymphocryptovirus nuclear antigen 1                                                                                                                                                                              \n",
       "6  statherin;heterogeneous nuclear ribonucleoprotein U-like protein 1;Lymphocryptovirus nuclear antigen 1;type IV secretion system protein TrbL                                                                     \n",
       "7  NA                                                                                                                                                                                                               \n",
       "8  ComB7 competence protein;interleukin enhancer-binding factor 3;Lymphocryptovirus nuclear antigen 1;type IV secretion system protein TrbL;ATP-dependent RNA helicase A [EC:3.6.4.13]                              \n",
       "9  Lymphocryptovirus nuclear antigen 1;germinal-center associated nuclear protein [EC:2.3.1.48]                                                                                                                     \n",
       "10 interleukin enhancer-binding factor 3;ATP-dependent RNA helicase A [EC:3.6.4.13];type IV secretion system protein TrbL;Lymphocryptovirus nuclear antigen 1;probable ATP-dependent RNA helicase DDX4 [EC:3.6.4.13]\n",
       "11 Lymphocryptovirus nuclear antigen 1                                                                                                                                                                              \n",
       "   type_of_itch_suppression_evidence\n",
       "1  tick support                     \n",
       "2  tick support                     \n",
       "3  tick support                     \n",
       "4  tick support                     \n",
       "5  tick support                     \n",
       "6  tick support                     \n",
       "7  tick support                     \n",
       "8  tick support                     \n",
       "9  tick support                     \n",
       "10 tick support                     \n",
       "11 tick support                     \n",
       "   mmseqs2_representative_sequence                     \n",
       "1  Dermacentor-andersoni_XP-050051547.1_start39_end77  \n",
       "2  Dermacentor-andersoni_XP-050051547.1_start39_end77  \n",
       "3  Dermacentor-andersoni_XP-050051547.1_start39_end77  \n",
       "4  Dermacentor-andersoni_XP-050051547.1_start39_end77  \n",
       "5  Hyalomma-asiaticum_KAH6923440.1_start24_end69       \n",
       "6  Hyalomma-asiaticum_KAH6923440.1_start24_end69       \n",
       "7  Hyalomma-asiaticum_KAH6923440.1_start24_end69       \n",
       "8  Hyalomma-asiaticum_KAH6947073.1_start69_end117      \n",
       "9  Hyalomma-asiaticum_KAH6947073.1_start69_end117      \n",
       "10 Hyalomma-asiaticum_KAH6947073.1_start69_end117      \n",
       "11 Rhipicephalus-microplus_XP-037269427.1_start34_end70\n",
       "   sgpeptide_blast_sseqid          \n",
       "1  GINV01008730.1.p1_start39_end77 \n",
       "2  GBJS01005204.1.p1_start39_end77 \n",
       "3  GBJS01005204.1.p1_start39_end77 \n",
       "4  GINV01008730.1.p1_start39_end77 \n",
       "5  GBJS01004457.1.p1_start14_end54 \n",
       "6  GEDV01015390.1.p1_start48_end77 \n",
       "7  GFGI01047205.1.p1_start29_end60 \n",
       "8  GINV01004785.1.p1_start33_end81 \n",
       "9  GBJT01016707.1.p1_start62_end110\n",
       "10 GINV01004785.1.p1_start33_end81 \n",
       "11 GBJS01000632.1.p1_start34_end70 "
      ]
     },
     "metadata": {},
     "output_type": "display_data"
    }
   ],
   "source": [
    "predictions %>%\n",
    "  filter(traitmapping_orthogroup == \"OG0000880\") %>%\n",
    "  filter(traitmapping_deepsig_feature == \"Signal peptide\") %>%\n",
    "  filter(!is.na(sgpeptide_blast_sseqid)) %>% # filter to those that have salivary gland transcriptome hits\n",
    "  filter(! sgpeptide_blast_sseqid %in% c(\"Transcript_125878.p1_start39_end77\",\n",
    "                                         \"Transcript_160125.p1_start39_end77\",\n",
    "                                         \"Transcript_211978.p1_start35_end80\",\n",
    "                                         \"Transcript_125878.p1_start39_end77\",\n",
    "                                         \"Transcript_66059.p1_start33_end65\")) %>%  # remove amblyomma hits that aren't to sg\n",
    "  select(peptide_type, synthesis_difficulty, hydrophilicity, traitmapping_orthogroup, traitmapping_coefficient, peptide_id, \n",
    "         traitmapping_deepsig_feature, protein_sequence, traitmapping_KO, traitmapping_KO_definition, \n",
    "         type_of_itch_suppression_evidence, mmseqs2_representative_sequence, sgpeptide_blast_sseqid) %>%\n",
    "  arrange(mmseqs2_representative_sequence)"
   ]
  },
  {
   "cell_type": "code",
   "execution_count": 28,
   "id": "e7ea7aa9-6aa1-48b3-98ec-6482410bf53b",
   "metadata": {},
   "outputs": [
    {
     "data": {
      "text/plain": [
       "R version 4.3.3 (2024-02-29)\n",
       "Platform: x86_64-apple-darwin13.4.0 (64-bit)\n",
       "Running under: macOS Big Sur ... 10.16\n",
       "\n",
       "Matrix products: default\n",
       "BLAS/LAPACK: /Users/taylorreiter/miniconda3/envs/tidyjupyter/lib/libopenblasp-r0.3.26.dylib;  LAPACK version 3.12.0\n",
       "\n",
       "locale:\n",
       "[1] en_US.UTF-8/en_US.UTF-8/en_US.UTF-8/C/en_US.UTF-8/en_US.UTF-8\n",
       "\n",
       "time zone: America/New_York\n",
       "tzcode source: internal\n",
       "\n",
       "attached base packages:\n",
       "[1] stats     graphics  grDevices utils     datasets  methods   base     \n",
       "\n",
       "other attached packages:\n",
       " [1] lubridate_1.9.3 forcats_1.0.0   stringr_1.5.1   dplyr_1.1.4    \n",
       " [5] purrr_1.0.2     readr_2.1.5     tidyr_1.3.1     tibble_3.2.1   \n",
       " [9] ggplot2_3.5.0   tidyverse_2.0.0\n",
       "\n",
       "loaded via a namespace (and not attached):\n",
       " [1] bit_4.0.5        gtable_0.3.4     jsonlite_1.8.8   compiler_4.3.3  \n",
       " [5] crayon_1.5.2     tidyselect_1.2.0 IRdisplay_1.1    parallel_4.3.3  \n",
       " [9] scales_1.3.0     uuid_1.2-0       fastmap_1.1.1    IRkernel_1.3.2  \n",
       "[13] R6_2.5.1         generics_0.1.3   munsell_0.5.1    pillar_1.9.0    \n",
       "[17] tzdb_0.4.0       rlang_1.1.3      utf8_1.2.4       stringi_1.8.3   \n",
       "[21] repr_1.1.7       bit64_4.0.5      timechange_0.3.0 cli_3.6.2       \n",
       "[25] withr_3.0.0      magrittr_2.0.3   digest_0.6.35    grid_4.3.3      \n",
       "[29] vroom_1.6.5      base64enc_0.1-3  hms_1.1.3        pbdZMQ_0.3-11   \n",
       "[33] lifecycle_1.0.4  vctrs_0.6.5      evaluate_0.23    glue_1.7.0      \n",
       "[37] fansi_1.0.6      colorspace_2.1-0 tools_4.3.3      pkgconfig_2.0.3 \n",
       "[41] htmltools_0.5.8 "
      ]
     },
     "metadata": {},
     "output_type": "display_data"
    }
   ],
   "source": [
    "sessionInfo()"
   ]
  },
  {
   "cell_type": "code",
   "execution_count": null,
   "id": "006227cb-908b-4e13-a540-badbe2a5ba3f",
   "metadata": {},
   "outputs": [],
   "source": []
  }
 ],
 "metadata": {
  "kernelspec": {
   "display_name": "R",
   "language": "R",
   "name": "ir"
  },
  "language_info": {
   "codemirror_mode": "r",
   "file_extension": ".r",
   "mimetype": "text/x-r-source",
   "name": "R",
   "pygments_lexer": "r",
   "version": "4.3.3"
  }
 },
 "nbformat": 4,
 "nbformat_minor": 5
}
